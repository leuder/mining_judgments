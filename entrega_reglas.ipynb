{
 "cells": [
  {
   "cell_type": "markdown",
   "id": "static-brain",
   "metadata": {},
   "source": [
    "## Reglas\n",
    "* Jorge Leonardo Raba Gonzalez\n",
    "* Oscar A. Mendez Aguirre"
   ]
  },
  {
   "cell_type": "code",
   "execution_count": 166,
   "id": "technological-blast",
   "metadata": {},
   "outputs": [],
   "source": [
    "import os\n",
    "import re\n",
    "import csv\n",
    "import pprint\n",
    "import string\n",
    "import unicodedata\n",
    "import pandas as pd\n",
    "import matplotlib.pyplot as plt"
   ]
  },
  {
   "cell_type": "code",
   "execution_count": 3,
   "id": "portable-pittsburgh",
   "metadata": {},
   "outputs": [],
   "source": [
    "data = pd.read_csv(\"data.csv\",  encoding='utf8', low_memory=False )"
   ]
  },
  {
   "cell_type": "code",
   "execution_count": 4,
   "id": "insured-framework",
   "metadata": {},
   "outputs": [
    {
     "data": {
      "text/plain": [
       "(4410, 12)"
      ]
     },
     "execution_count": 4,
     "metadata": {},
     "output_type": "execute_result"
    }
   ],
   "source": [
    "data.shape"
   ]
  },
  {
   "cell_type": "code",
   "execution_count": 5,
   "id": "front-middle",
   "metadata": {},
   "outputs": [
    {
     "data": {
      "text/html": [
       "<div>\n",
       "<style scoped>\n",
       "    .dataframe tbody tr th:only-of-type {\n",
       "        vertical-align: middle;\n",
       "    }\n",
       "\n",
       "    .dataframe tbody tr th {\n",
       "        vertical-align: top;\n",
       "    }\n",
       "\n",
       "    .dataframe thead th {\n",
       "        text-align: right;\n",
       "    }\n",
       "</style>\n",
       "<table border=\"1\" class=\"dataframe\">\n",
       "  <thead>\n",
       "    <tr style=\"text-align: right;\">\n",
       "      <th></th>\n",
       "      <th>_id</th>\n",
       "      <th>collective</th>\n",
       "      <th>date</th>\n",
       "      <th>file_id</th>\n",
       "      <th>judicature</th>\n",
       "      <th>participants</th>\n",
       "      <th>report_receipt_at</th>\n",
       "      <th>sentence_id</th>\n",
       "      <th>text</th>\n",
       "      <th>topic</th>\n",
       "      <th>url</th>\n",
       "      <th>vocabulary</th>\n",
       "    </tr>\n",
       "  </thead>\n",
       "  <tbody>\n",
       "    <tr>\n",
       "      <th>4408</th>\n",
       "      <td>corteconstitucional_A. 175A/19</td>\n",
       "      <td>{\"entity\": {\"$oid\": \"5fa5017c5821d011a2a92372\"}}</td>\n",
       "      <td>2019-04-03T00:00:00.000Z</td>\n",
       "      <td>T-7071794</td>\n",
       "      <td>[{\"name\": \"ALBERTO ROJAS RÍOS\", \"rol\": \"PONENT...</td>\n",
       "      <td>[{\"name\": \"DARIO GOMEZ SUAREZ\", \"role\": \"PLAIN...</td>\n",
       "      <td>2019-07-08</td>\n",
       "      <td>A. 175A/19</td>\n",
       "      <td>Auto 175A/19\\n \\n \\nReferencia: Expediente T-7...</td>\n",
       "      <td>El accionante le solicitó a la Corporación dec...</td>\n",
       "      <td>https://www.corteconstitucional.gov.co/relator...</td>\n",
       "      <td>[{\"text\": \"auto\", \"qty\": 7}, {\"text\": \"referen...</td>\n",
       "    </tr>\n",
       "    <tr>\n",
       "      <th>4409</th>\n",
       "      <td>corteconstitucional_A. 121/19</td>\n",
       "      <td>{\"entity\": {\"$oid\": \"5fa501875821d011a2a93763\"}}</td>\n",
       "      <td>2019-03-13T00:00:00.000Z</td>\n",
       "      <td>T-6843600</td>\n",
       "      <td>[{\"name\": \"GLORIA STELLA ORTIZ DELGADO\", \"rol\"...</td>\n",
       "      <td>[{\"name\": \"COMISION INTERECLESIAL DE JUSTICIA ...</td>\n",
       "      <td>2019-03-21</td>\n",
       "      <td>A. 121/19</td>\n",
       "      <td>Auto\\r\\n121/19\\n \\n \\nReferencia: expediente T...</td>\n",
       "      <td>Con el presente auto se suspenden los términos...</td>\n",
       "      <td>https://www.corteconstitucional.gov.co/relator...</td>\n",
       "      <td>[{\"text\": \"auto\", \"qty\": 17}, {\"text\": \"refere...</td>\n",
       "    </tr>\n",
       "  </tbody>\n",
       "</table>\n",
       "</div>"
      ],
      "text/plain": [
       "                                 _id  \\\n",
       "4408  corteconstitucional_A. 175A/19   \n",
       "4409   corteconstitucional_A. 121/19   \n",
       "\n",
       "                                            collective  \\\n",
       "4408  {\"entity\": {\"$oid\": \"5fa5017c5821d011a2a92372\"}}   \n",
       "4409  {\"entity\": {\"$oid\": \"5fa501875821d011a2a93763\"}}   \n",
       "\n",
       "                          date    file_id  \\\n",
       "4408  2019-04-03T00:00:00.000Z  T-7071794   \n",
       "4409  2019-03-13T00:00:00.000Z  T-6843600   \n",
       "\n",
       "                                             judicature  \\\n",
       "4408  [{\"name\": \"ALBERTO ROJAS RÍOS\", \"rol\": \"PONENT...   \n",
       "4409  [{\"name\": \"GLORIA STELLA ORTIZ DELGADO\", \"rol\"...   \n",
       "\n",
       "                                           participants report_receipt_at  \\\n",
       "4408  [{\"name\": \"DARIO GOMEZ SUAREZ\", \"role\": \"PLAIN...        2019-07-08   \n",
       "4409  [{\"name\": \"COMISION INTERECLESIAL DE JUSTICIA ...        2019-03-21   \n",
       "\n",
       "     sentence_id                                               text  \\\n",
       "4408  A. 175A/19  Auto 175A/19\\n \\n \\nReferencia: Expediente T-7...   \n",
       "4409   A. 121/19  Auto\\r\\n121/19\\n \\n \\nReferencia: expediente T...   \n",
       "\n",
       "                                                  topic  \\\n",
       "4408  El accionante le solicitó a la Corporación dec...   \n",
       "4409  Con el presente auto se suspenden los términos...   \n",
       "\n",
       "                                                    url  \\\n",
       "4408  https://www.corteconstitucional.gov.co/relator...   \n",
       "4409  https://www.corteconstitucional.gov.co/relator...   \n",
       "\n",
       "                                             vocabulary  \n",
       "4408  [{\"text\": \"auto\", \"qty\": 7}, {\"text\": \"referen...  \n",
       "4409  [{\"text\": \"auto\", \"qty\": 17}, {\"text\": \"refere...  "
      ]
     },
     "execution_count": 5,
     "metadata": {},
     "output_type": "execute_result"
    }
   ],
   "source": [
    "data.tail(2)"
   ]
  },
  {
   "cell_type": "code",
   "execution_count": 6,
   "id": "unknown-regular",
   "metadata": {},
   "outputs": [],
   "source": [
    "data = data.drop([\"judicature\", \"participants\", \"collective\", \"_id\", \"topic\", \"url\", \"vocabulary\", \"date\"], axis=1)"
   ]
  },
  {
   "cell_type": "code",
   "execution_count": 7,
   "id": "every-hormone",
   "metadata": {},
   "outputs": [
    {
     "data": {
      "text/html": [
       "<div>\n",
       "<style scoped>\n",
       "    .dataframe tbody tr th:only-of-type {\n",
       "        vertical-align: middle;\n",
       "    }\n",
       "\n",
       "    .dataframe tbody tr th {\n",
       "        vertical-align: top;\n",
       "    }\n",
       "\n",
       "    .dataframe thead th {\n",
       "        text-align: right;\n",
       "    }\n",
       "</style>\n",
       "<table border=\"1\" class=\"dataframe\">\n",
       "  <thead>\n",
       "    <tr style=\"text-align: right;\">\n",
       "      <th></th>\n",
       "      <th>file_id</th>\n",
       "      <th>report_receipt_at</th>\n",
       "      <th>sentence_id</th>\n",
       "      <th>text</th>\n",
       "    </tr>\n",
       "  </thead>\n",
       "  <tbody>\n",
       "    <tr>\n",
       "      <th>0</th>\n",
       "      <td>T-3140852</td>\n",
       "      <td>2012-08-08</td>\n",
       "      <td>T-017/12</td>\n",
       "      <td>REPÚBLICA DE COLOMBIA\\n\\n\\nSentencia T-017/12\\...</td>\n",
       "    </tr>\n",
       "    <tr>\n",
       "      <th>1</th>\n",
       "      <td>T-3183107</td>\n",
       "      <td>2012-05-18</td>\n",
       "      <td>T-016/12</td>\n",
       "      <td>REPÚBLICA DE COLOMBIA\\n\\n\\nSentencia\\r\\nT-016/...</td>\n",
       "    </tr>\n",
       "    <tr>\n",
       "      <th>2</th>\n",
       "      <td>T-3187308</td>\n",
       "      <td>2013-05-07</td>\n",
       "      <td>T-014/12</td>\n",
       "      <td>REPÚBLICA DE COLOMBIA\\n\\n\\nSentencia\\r\\nT-014/...</td>\n",
       "    </tr>\n",
       "    <tr>\n",
       "      <th>3</th>\n",
       "      <td>T-3182540</td>\n",
       "      <td>2012-05-18</td>\n",
       "      <td>T-015/12</td>\n",
       "      <td>REPÚBLICA DE COLOMBIA\\n\\n\\nSentencia T-015/12\\...</td>\n",
       "    </tr>\n",
       "    <tr>\n",
       "      <th>4</th>\n",
       "      <td>T-2719663</td>\n",
       "      <td>2011-05-10</td>\n",
       "      <td>T-012/11</td>\n",
       "      <td>REPÚBLICA DE COLOMBIA\\n\\n\\nSentencia T-012/11\\...</td>\n",
       "    </tr>\n",
       "  </tbody>\n",
       "</table>\n",
       "</div>"
      ],
      "text/plain": [
       "     file_id report_receipt_at sentence_id  \\\n",
       "0  T-3140852        2012-08-08    T-017/12   \n",
       "1  T-3183107        2012-05-18    T-016/12   \n",
       "2  T-3187308        2013-05-07    T-014/12   \n",
       "3  T-3182540        2012-05-18    T-015/12   \n",
       "4  T-2719663        2011-05-10    T-012/11   \n",
       "\n",
       "                                                text  \n",
       "0  REPÚBLICA DE COLOMBIA\\n\\n\\nSentencia T-017/12\\...  \n",
       "1  REPÚBLICA DE COLOMBIA\\n\\n\\nSentencia\\r\\nT-016/...  \n",
       "2  REPÚBLICA DE COLOMBIA\\n\\n\\nSentencia\\r\\nT-014/...  \n",
       "3  REPÚBLICA DE COLOMBIA\\n\\n\\nSentencia T-015/12\\...  \n",
       "4  REPÚBLICA DE COLOMBIA\\n\\n\\nSentencia T-012/11\\...  "
      ]
     },
     "execution_count": 7,
     "metadata": {},
     "output_type": "execute_result"
    }
   ],
   "source": [
    "data.head()"
   ]
  },
  {
   "cell_type": "code",
   "execution_count": 8,
   "id": "daily-sister",
   "metadata": {},
   "outputs": [
    {
     "data": {
      "text/html": [
       "<div>\n",
       "<style scoped>\n",
       "    .dataframe tbody tr th:only-of-type {\n",
       "        vertical-align: middle;\n",
       "    }\n",
       "\n",
       "    .dataframe tbody tr th {\n",
       "        vertical-align: top;\n",
       "    }\n",
       "\n",
       "    .dataframe thead th {\n",
       "        text-align: right;\n",
       "    }\n",
       "</style>\n",
       "<table border=\"1\" class=\"dataframe\">\n",
       "  <thead>\n",
       "    <tr style=\"text-align: right;\">\n",
       "      <th></th>\n",
       "      <th>file_id</th>\n",
       "      <th>report_receipt_at</th>\n",
       "      <th>sentence_id</th>\n",
       "      <th>text</th>\n",
       "    </tr>\n",
       "  </thead>\n",
       "  <tbody>\n",
       "    <tr>\n",
       "      <th>0</th>\n",
       "      <td>T-3140852</td>\n",
       "      <td>2012-08-08</td>\n",
       "      <td>T-017/12</td>\n",
       "      <td>REPÚBLICA DE COLOMBIA\\n\\n\\nSentencia T-017/12\\...</td>\n",
       "    </tr>\n",
       "  </tbody>\n",
       "</table>\n",
       "</div>"
      ],
      "text/plain": [
       "     file_id report_receipt_at sentence_id  \\\n",
       "0  T-3140852        2012-08-08    T-017/12   \n",
       "\n",
       "                                                text  \n",
       "0  REPÚBLICA DE COLOMBIA\\n\\n\\nSentencia T-017/12\\...  "
      ]
     },
     "execution_count": 8,
     "metadata": {},
     "output_type": "execute_result"
    }
   ],
   "source": [
    "data.head(1)"
   ]
  },
  {
   "cell_type": "code",
   "execution_count": 9,
   "id": "secondary-struggle",
   "metadata": {},
   "outputs": [],
   "source": [
    "data[\"text\"] = data[\"text\"].str.lower()"
   ]
  },
  {
   "cell_type": "code",
   "execution_count": 10,
   "id": "blank-knock",
   "metadata": {},
   "outputs": [
    {
     "data": {
      "text/plain": [
       "4410"
      ]
     },
     "execution_count": 10,
     "metadata": {},
     "output_type": "execute_result"
    }
   ],
   "source": [
    "len(data[\"text\"])"
   ]
  },
  {
   "cell_type": "code",
   "execution_count": 11,
   "id": "backed-devices",
   "metadata": {},
   "outputs": [
    {
     "data": {
      "text/html": [
       "<div>\n",
       "<style scoped>\n",
       "    .dataframe tbody tr th:only-of-type {\n",
       "        vertical-align: middle;\n",
       "    }\n",
       "\n",
       "    .dataframe tbody tr th {\n",
       "        vertical-align: top;\n",
       "    }\n",
       "\n",
       "    .dataframe thead th {\n",
       "        text-align: right;\n",
       "    }\n",
       "</style>\n",
       "<table border=\"1\" class=\"dataframe\">\n",
       "  <thead>\n",
       "    <tr style=\"text-align: right;\">\n",
       "      <th></th>\n",
       "      <th>file_id</th>\n",
       "      <th>report_receipt_at</th>\n",
       "      <th>sentence_id</th>\n",
       "      <th>text</th>\n",
       "    </tr>\n",
       "  </thead>\n",
       "  <tbody>\n",
       "    <tr>\n",
       "      <th>0</th>\n",
       "      <td>T-3140852</td>\n",
       "      <td>2012-08-08</td>\n",
       "      <td>T-017/12</td>\n",
       "      <td>república de colombia\\n\\n\\nsentencia t-017/12\\...</td>\n",
       "    </tr>\n",
       "    <tr>\n",
       "      <th>1</th>\n",
       "      <td>T-3183107</td>\n",
       "      <td>2012-05-18</td>\n",
       "      <td>T-016/12</td>\n",
       "      <td>república de colombia\\n\\n\\nsentencia\\r\\nt-016/...</td>\n",
       "    </tr>\n",
       "    <tr>\n",
       "      <th>2</th>\n",
       "      <td>T-3187308</td>\n",
       "      <td>2013-05-07</td>\n",
       "      <td>T-014/12</td>\n",
       "      <td>república de colombia\\n\\n\\nsentencia\\r\\nt-014/...</td>\n",
       "    </tr>\n",
       "    <tr>\n",
       "      <th>3</th>\n",
       "      <td>T-3182540</td>\n",
       "      <td>2012-05-18</td>\n",
       "      <td>T-015/12</td>\n",
       "      <td>república de colombia\\n\\n\\nsentencia t-015/12\\...</td>\n",
       "    </tr>\n",
       "    <tr>\n",
       "      <th>4</th>\n",
       "      <td>T-2719663</td>\n",
       "      <td>2011-05-10</td>\n",
       "      <td>T-012/11</td>\n",
       "      <td>república de colombia\\n\\n\\nsentencia t-012/11\\...</td>\n",
       "    </tr>\n",
       "    <tr>\n",
       "      <th>...</th>\n",
       "      <td>...</td>\n",
       "      <td>...</td>\n",
       "      <td>...</td>\n",
       "      <td>...</td>\n",
       "    </tr>\n",
       "    <tr>\n",
       "      <th>4405</th>\n",
       "      <td>T-6403234</td>\n",
       "      <td>2019-04-08</td>\n",
       "      <td>A. 177/19</td>\n",
       "      <td>auto 177/19\\n \\nreferencia:\\r\\nexpediente t-64...</td>\n",
       "    </tr>\n",
       "    <tr>\n",
       "      <th>4406</th>\n",
       "      <td>T-6945381</td>\n",
       "      <td>2019-05-27</td>\n",
       "      <td>A. 177A/19</td>\n",
       "      <td>auto\\r\\n177a/19\\n \\n \\nreferencia:\\r\\nexpedien...</td>\n",
       "    </tr>\n",
       "    <tr>\n",
       "      <th>4407</th>\n",
       "      <td>T-7064392 Y T-7073283</td>\n",
       "      <td>2019-04-08</td>\n",
       "      <td>SU.139/19</td>\n",
       "      <td>sentencia\\r\\nsu139/19 \\n \\naccion de tutela co...</td>\n",
       "    </tr>\n",
       "    <tr>\n",
       "      <th>4408</th>\n",
       "      <td>T-7071794</td>\n",
       "      <td>2019-07-08</td>\n",
       "      <td>A. 175A/19</td>\n",
       "      <td>auto 175a/19\\n \\n \\nreferencia: expediente t-7...</td>\n",
       "    </tr>\n",
       "    <tr>\n",
       "      <th>4409</th>\n",
       "      <td>T-6843600</td>\n",
       "      <td>2019-03-21</td>\n",
       "      <td>A. 121/19</td>\n",
       "      <td>auto\\r\\n121/19\\n \\n \\nreferencia: expediente t...</td>\n",
       "    </tr>\n",
       "  </tbody>\n",
       "</table>\n",
       "<p>4410 rows × 4 columns</p>\n",
       "</div>"
      ],
      "text/plain": [
       "                    file_id report_receipt_at sentence_id  \\\n",
       "0                 T-3140852        2012-08-08    T-017/12   \n",
       "1                 T-3183107        2012-05-18    T-016/12   \n",
       "2                 T-3187308        2013-05-07    T-014/12   \n",
       "3                 T-3182540        2012-05-18    T-015/12   \n",
       "4                 T-2719663        2011-05-10    T-012/11   \n",
       "...                     ...               ...         ...   \n",
       "4405              T-6403234        2019-04-08   A. 177/19   \n",
       "4406              T-6945381        2019-05-27  A. 177A/19   \n",
       "4407  T-7064392 Y T-7073283        2019-04-08   SU.139/19   \n",
       "4408              T-7071794        2019-07-08  A. 175A/19   \n",
       "4409              T-6843600        2019-03-21   A. 121/19   \n",
       "\n",
       "                                                   text  \n",
       "0     república de colombia\\n\\n\\nsentencia t-017/12\\...  \n",
       "1     república de colombia\\n\\n\\nsentencia\\r\\nt-016/...  \n",
       "2     república de colombia\\n\\n\\nsentencia\\r\\nt-014/...  \n",
       "3     república de colombia\\n\\n\\nsentencia t-015/12\\...  \n",
       "4     república de colombia\\n\\n\\nsentencia t-012/11\\...  \n",
       "...                                                 ...  \n",
       "4405  auto 177/19\\n \\nreferencia:\\r\\nexpediente t-64...  \n",
       "4406  auto\\r\\n177a/19\\n \\n \\nreferencia:\\r\\nexpedien...  \n",
       "4407  sentencia\\r\\nsu139/19 \\n \\naccion de tutela co...  \n",
       "4408  auto 175a/19\\n \\n \\nreferencia: expediente t-7...  \n",
       "4409  auto\\r\\n121/19\\n \\n \\nreferencia: expediente t...  \n",
       "\n",
       "[4410 rows x 4 columns]"
      ]
     },
     "execution_count": 11,
     "metadata": {},
     "output_type": "execute_result"
    }
   ],
   "source": [
    "data"
   ]
  },
  {
   "cell_type": "code",
   "execution_count": 12,
   "id": "accomplished-brick",
   "metadata": {},
   "outputs": [],
   "source": [
    "new_data = pd.DataFrame([], columns = ['file_id', 'antecedentes' , 'decision'])"
   ]
  },
  {
   "cell_type": "code",
   "execution_count": 13,
   "id": "powered-relationship",
   "metadata": {},
   "outputs": [
    {
     "data": {
      "text/html": [
       "<div>\n",
       "<style scoped>\n",
       "    .dataframe tbody tr th:only-of-type {\n",
       "        vertical-align: middle;\n",
       "    }\n",
       "\n",
       "    .dataframe tbody tr th {\n",
       "        vertical-align: top;\n",
       "    }\n",
       "\n",
       "    .dataframe thead th {\n",
       "        text-align: right;\n",
       "    }\n",
       "</style>\n",
       "<table border=\"1\" class=\"dataframe\">\n",
       "  <thead>\n",
       "    <tr style=\"text-align: right;\">\n",
       "      <th></th>\n",
       "      <th>file_id</th>\n",
       "      <th>antecedentes</th>\n",
       "      <th>decision</th>\n",
       "    </tr>\n",
       "  </thead>\n",
       "  <tbody>\n",
       "  </tbody>\n",
       "</table>\n",
       "</div>"
      ],
      "text/plain": [
       "Empty DataFrame\n",
       "Columns: [file_id, antecedentes, decision]\n",
       "Index: []"
      ]
     },
     "execution_count": 13,
     "metadata": {},
     "output_type": "execute_result"
    }
   ],
   "source": [
    "new_data"
   ]
  },
  {
   "cell_type": "code",
   "execution_count": 14,
   "id": "attended-sense",
   "metadata": {},
   "outputs": [],
   "source": [
    "def quitar_tildes(cadena):\n",
    "    s = ''.join((c for c in unicodedata.normalize('NFD',cadena) if unicodedata.category(c) != 'Mn'))\n",
    "    return s"
   ]
  },
  {
   "cell_type": "code",
   "execution_count": 15,
   "id": "genuine-costume",
   "metadata": {},
   "outputs": [],
   "source": [
    "def get_segment(data):\n",
    "    lista_df = []\n",
    "    for index, row in data.iterrows():\n",
    "        texto = re.split(\n",
    "            r'[\\n]+[(^i|^v|)]+\\.\\s{0,}[(\\w)]{0,}?', \n",
    "            quitar_tildes(row[\"text\"])\n",
    "        )\n",
    "        if len(texto) > 4:\n",
    "            lista_df.append({\"file_id\": row[\"file_id\"] , \"antecedentes\": texto[1], \"decision\": texto[4]})\n",
    "\n",
    "    return lista_df"
   ]
  },
  {
   "cell_type": "code",
   "execution_count": 16,
   "id": "balanced-spending",
   "metadata": {},
   "outputs": [],
   "source": [
    "new_data = pd.DataFrame(get_segment(data), columns = [\"file_id\", 'antecedentes' , 'decision'])"
   ]
  },
  {
   "cell_type": "code",
   "execution_count": 17,
   "id": "egyptian-playing",
   "metadata": {},
   "outputs": [
    {
     "data": {
      "text/html": [
       "<div>\n",
       "<style scoped>\n",
       "    .dataframe tbody tr th:only-of-type {\n",
       "        vertical-align: middle;\n",
       "    }\n",
       "\n",
       "    .dataframe tbody tr th {\n",
       "        vertical-align: top;\n",
       "    }\n",
       "\n",
       "    .dataframe thead th {\n",
       "        text-align: right;\n",
       "    }\n",
       "</style>\n",
       "<table border=\"1\" class=\"dataframe\">\n",
       "  <thead>\n",
       "    <tr style=\"text-align: right;\">\n",
       "      <th></th>\n",
       "      <th>file_id</th>\n",
       "      <th>antecedentes</th>\n",
       "      <th>decision</th>\n",
       "    </tr>\n",
       "  </thead>\n",
       "  <tbody>\n",
       "    <tr>\n",
       "      <th>0</th>\n",
       "      <td>T-3187308</td>\n",
       "      <td>antecedentes\\n \\n1. hechos\\n \\n1. el 27 de jul...</td>\n",
       "      <td>decision\\n \\ncon\\r\\nfundamento en las consider...</td>\n",
       "    </tr>\n",
       "    <tr>\n",
       "      <th>1</th>\n",
       "      <td>T-2719663</td>\n",
       "      <td>antecedentes\\n \\n1.    hechos\\n \\nel defensor ...</td>\n",
       "      <td>decision\\n \\nen merito de lo expuesto, la\\r\\ns...</td>\n",
       "    </tr>\n",
       "    <tr>\n",
       "      <th>2</th>\n",
       "      <td>T-3176539</td>\n",
       "      <td>antecedentes\\n \\nel ocho (8) de junio de dos m...</td>\n",
       "      <td>decision\\n \\nen merito de lo expuesto, la sala...</td>\n",
       "    </tr>\n",
       "    <tr>\n",
       "      <th>3</th>\n",
       "      <td>T-3180007</td>\n",
       "      <td>antecedentes\\n \\nel senor juan antonio, a trav...</td>\n",
       "      <td>consideraciones de la corte constitucional\\n \\...</td>\n",
       "    </tr>\n",
       "    <tr>\n",
       "      <th>4</th>\n",
       "      <td>T-2764991 Y 2822307</td>\n",
       "      <td>antecedentes\\n \\n1. hechos\\n \\nlos hechos rela...</td>\n",
       "      <td>decision \\n \\nen merito de lo expuesto, la sal...</td>\n",
       "    </tr>\n",
       "    <tr>\n",
       "      <th>...</th>\n",
       "      <td>...</td>\n",
       "      <td>...</td>\n",
       "      <td>...</td>\n",
       "    </tr>\n",
       "    <tr>\n",
       "      <th>1857</th>\n",
       "      <td>T-7128811</td>\n",
       "      <td>antecedentes\\n \\n1. hechos\\n \\n\\n1.1 la senora...</td>\n",
       "      <td>que no esten\\r\\nexpresamente incluidos en el p...</td>\n",
       "    </tr>\n",
       "    <tr>\n",
       "      <th>1858</th>\n",
       "      <td>T-6960341</td>\n",
       "      <td>antecedentes \\n \\n1. hechos y relato contenido...</td>\n",
       "      <td>pruebas decretadas en sede de revision \\n \\nel...</td>\n",
       "    </tr>\n",
       "    <tr>\n",
       "      <th>1859</th>\n",
       "      <td>T-7147012</td>\n",
       "      <td>antecedentes\\n \\nherley\\r\\nramirez alzate pres...</td>\n",
       "      <td>existencia\\r\\nde un peligro especifico e indiv...</td>\n",
       "    </tr>\n",
       "    <tr>\n",
       "      <th>1860</th>\n",
       "      <td>T-7103649</td>\n",
       "      <td>antecedentes\\n \\na. hechos y pretensiones\\n \\n...</td>\n",
       "      <td>decision\\n \\nen merito de lo expuesto, la sala...</td>\n",
       "    </tr>\n",
       "    <tr>\n",
       "      <th>1861</th>\n",
       "      <td>T-6882209</td>\n",
       "      <td>antecedentes\\n \\n1.     hechos relevantes\\n \\n...</td>\n",
       "      <td>sintesis\\n \\nen el presente caso, correspondio...</td>\n",
       "    </tr>\n",
       "  </tbody>\n",
       "</table>\n",
       "<p>1862 rows × 3 columns</p>\n",
       "</div>"
      ],
      "text/plain": [
       "                  file_id                                       antecedentes  \\\n",
       "0               T-3187308  antecedentes\\n \\n1. hechos\\n \\n1. el 27 de jul...   \n",
       "1               T-2719663  antecedentes\\n \\n1.    hechos\\n \\nel defensor ...   \n",
       "2               T-3176539  antecedentes\\n \\nel ocho (8) de junio de dos m...   \n",
       "3               T-3180007  antecedentes\\n \\nel senor juan antonio, a trav...   \n",
       "4     T-2764991 Y 2822307  antecedentes\\n \\n1. hechos\\n \\nlos hechos rela...   \n",
       "...                   ...                                                ...   \n",
       "1857            T-7128811  antecedentes\\n \\n1. hechos\\n \\n\\n1.1 la senora...   \n",
       "1858            T-6960341  antecedentes \\n \\n1. hechos y relato contenido...   \n",
       "1859            T-7147012  antecedentes\\n \\nherley\\r\\nramirez alzate pres...   \n",
       "1860            T-7103649  antecedentes\\n \\na. hechos y pretensiones\\n \\n...   \n",
       "1861            T-6882209  antecedentes\\n \\n1.     hechos relevantes\\n \\n...   \n",
       "\n",
       "                                               decision  \n",
       "0     decision\\n \\ncon\\r\\nfundamento en las consider...  \n",
       "1     decision\\n \\nen merito de lo expuesto, la\\r\\ns...  \n",
       "2     decision\\n \\nen merito de lo expuesto, la sala...  \n",
       "3     consideraciones de la corte constitucional\\n \\...  \n",
       "4     decision \\n \\nen merito de lo expuesto, la sal...  \n",
       "...                                                 ...  \n",
       "1857  que no esten\\r\\nexpresamente incluidos en el p...  \n",
       "1858  pruebas decretadas en sede de revision \\n \\nel...  \n",
       "1859  existencia\\r\\nde un peligro especifico e indiv...  \n",
       "1860  decision\\n \\nen merito de lo expuesto, la sala...  \n",
       "1861  sintesis\\n \\nen el presente caso, correspondio...  \n",
       "\n",
       "[1862 rows x 3 columns]"
      ]
     },
     "execution_count": 17,
     "metadata": {},
     "output_type": "execute_result"
    }
   ],
   "source": [
    "new_data"
   ]
  },
  {
   "cell_type": "code",
   "execution_count": 18,
   "id": "thrown-fight",
   "metadata": {},
   "outputs": [
    {
     "data": {
      "text/plain": [
       "(1862, 3)"
      ]
     },
     "execution_count": 18,
     "metadata": {},
     "output_type": "execute_result"
    }
   ],
   "source": [
    "new_data.shape"
   ]
  },
  {
   "cell_type": "code",
   "execution_count": 19,
   "id": "danish-father",
   "metadata": {},
   "outputs": [],
   "source": [
    "new_data.to_csv('splid_data.csv', sep=\",\",quotechar='\"', quoting=csv.QUOTE_ALL, encoding='utf-8')"
   ]
  },
  {
   "cell_type": "code",
   "execution_count": 20,
   "id": "addressed-ecuador",
   "metadata": {},
   "outputs": [],
   "source": [
    "new_data.to_csv(r'splid_data.txt', header=None, index=None, sep=' ', mode='a')"
   ]
  },
  {
   "cell_type": "code",
   "execution_count": 21,
   "id": "hollywood-filename",
   "metadata": {},
   "outputs": [],
   "source": [
    "def quitar_espacios(text):\n",
    "    text = re.sub('[‘’“”…«»]', '', text)\n",
    "    text = re.sub('\\n', ' ', text)\n",
    "    text = re.sub('\\r', ' ', text)\n",
    "    text = re.sub('\\xa0', ' ', text)\n",
    "\n",
    "    return text\n",
    "\n",
    "new_data[\"decision\"] = new_data.decision.apply(lambda x: quitar_espacios(x))\n",
    "new_data[\"antecedentes\"] = new_data.antecedentes.apply(lambda x: quitar_espacios(x))"
   ]
  },
  {
   "cell_type": "code",
   "execution_count": 22,
   "id": "tropical-refrigerator",
   "metadata": {},
   "outputs": [],
   "source": [
    "def quita_signos(text):\n",
    "    puntuacion = string.punctuation\n",
    "    for item in puntuacion:\n",
    "        text = text.replace(item, \"\")\n",
    "    return text\n",
    "\n",
    "new_data[\"decision\"] = pd.DataFrame(new_data.decision.apply(lambda x: quita_signos(x)))\n",
    "new_data[\"antecedentes\"] = pd.DataFrame(new_data.antecedentes.apply(lambda x: quita_signos(x)))"
   ]
  },
  {
   "cell_type": "code",
   "execution_count": 23,
   "id": "acoustic-monitoring",
   "metadata": {},
   "outputs": [
    {
     "data": {
      "text/plain": [
       "1    antecedentes   1    hechos   el defensor del p...\n",
       "Name: antecedentes, dtype: object"
      ]
     },
     "execution_count": 23,
     "metadata": {},
     "output_type": "execute_result"
    }
   ],
   "source": [
    "new_data[1:2][\"antecedentes\"]"
   ]
  },
  {
   "cell_type": "code",
   "execution_count": 24,
   "id": "apart-glenn",
   "metadata": {},
   "outputs": [
    {
     "data": {
      "text/plain": [
       "0       antecedentes   1 hechos   1 el 27 de julio de ...\n",
       "1       antecedentes   1    hechos   el defensor del p...\n",
       "2       antecedentes   el ocho 8 de junio de dos mil  ...\n",
       "3       antecedentes   el senor juan antonio a traves ...\n",
       "4       antecedentes   1 hechos   los hechos relatados...\n",
       "                              ...                        \n",
       "1857    antecedentes   1 hechos    11 la senora karina...\n",
       "1858    antecedentes    1 hechos y relato contenidos e...\n",
       "1859    antecedentes   herley  ramirez alzate presento...\n",
       "1860    antecedentes   a hechos y pretensiones   1  la...\n",
       "1861    antecedentes   1     hechos relevantes   11   ...\n",
       "Name: antecedentes, Length: 1862, dtype: object"
      ]
     },
     "execution_count": 24,
     "metadata": {},
     "output_type": "execute_result"
    }
   ],
   "source": [
    "new_data[\"antecedentes\"]"
   ]
  },
  {
   "cell_type": "code",
   "execution_count": 25,
   "id": "smaller-patio",
   "metadata": {},
   "outputs": [
    {
     "data": {
      "text/plain": [
       "'decision   en merito de lo expuesto la  sala novena de revision de la corte constitucional administrando justicia en  nombre del pueblo y por mandato de la constitucion     resuelve   primero revocar la sentencia  proferida el 27 de septiembre  de 2011 por la sala de casacion laboral de la  corte suprema de justicia que a su turno habia confirmado la sentencia dictada  el 10 de agosto de 2011 por sala de casacion civil de la corte suprema de  justicia que habia negado el amparo constitucional solicitado en su lugar conceder  la tutela por violacion del derecho al debido proceso   segundo dejar sin efecto  las actuaciones surtidas por el juzgado cuarto civil del circuito de santa  marta y por la sala civilfamilia del tribunal superior de la misma ciudad en  el proceso ejecutivo hipotecario seguido por el ahorramas hoy banco av villas  sa contra la empresa construcciones dihago ltda representada por alejandro  habeych gonzalez y contra las personas ana maria barrios quevedo susana  magdalena restrepo donado antonio polo palma nancy saldarriaga de polo  domingo costa amastha edilma amparo gaviria minotas maria concepcion ospino  acevedo olga quevedo de barrios efren correa villanueva rossana guadalupe  diazgranados noguera ivonne del socorro diazgranados noguera orieta deysy  diazgranados noguera y la sociedad gonzalez bueno ltda representada por  rafael gonzalez bueno   tercero  ordenar al  juzgado cuarto civil del circuito de santa marta que dentro de las cuarenta y  ocho 48 horas siguientes a la notificacion de esta decision profiera una  nueva sentencia dentro del proceso ejecutivo hipotecario citado en el numeral  anterior esta sentencia debera proferirse de conformidad con los argumentos y  directrices senalados por esta sala de revision de la corte constitucional   cuarto por secretaria  general librense las comunicaciones previstas en el articulo 36 del decreto  2591 de 1991   copiese notifiquese  comuniquese publiquese en la gaceta de la corte constitucional y'"
      ]
     },
     "execution_count": 25,
     "metadata": {},
     "output_type": "execute_result"
    }
   ],
   "source": [
    "new_data[\"decision\"][50][0:2000]"
   ]
  },
  {
   "cell_type": "code",
   "execution_count": 513,
   "id": "received-certification",
   "metadata": {},
   "outputs": [
    {
     "data": {
      "text/plain": [
       "'ecision   en merito de lo expuesto, la  sala novena de revision de la corte constitucional, administrando justicia en  nombre del pueblo y por mandato de la constitucion,     resuelve:   primero.- revocar la sentencia  proferida el 27 de septiembre  de 2011 por la sala de casacion laboral de la  corte suprema de justicia que a su turno habia confirmado la sentencia dictada  el 10 de agosto de 2011 por sala de casacion civil de la corte suprema de  justicia que habia negado el amparo constitucional solicitado. en su lugar, conceder  la tutela por violacion del derecho al debido proceso.   segundo.- dejar sin efecto  las actuaciones surtidas por el juzgado cuarto civil del circuito de santa  marta y por la sala civil-familia del tribunal superior de la misma ciudad en  el proceso ejecutivo hipotecario seguido por el ahorramas hoy banco av villas  s.a. contra la empresa construcciones dihago ltda. representada por alejandro  habeych gonzalez y contra las personas ana maria barrios queved'"
      ]
     },
     "execution_count": 513,
     "metadata": {},
     "output_type": "execute_result"
    }
   ],
   "source": [
    "new_data[\"decision\"][50][1:1000]"
   ]
  },
  {
   "cell_type": "code",
   "execution_count": 36,
   "id": "binary-istanbul",
   "metadata": {},
   "outputs": [],
   "source": [
    "def get_list_sentenses_by_model(text_count):\n",
    "    list_sentenses = []\n",
    "    for sentense in sd_model.fullAnnotate(text_count)[0][\"sentences\"]:\n",
    "        list_sentenses.append(sentense.result)\n",
    "    return list_sentenses"
   ]
  },
  {
   "cell_type": "code",
   "execution_count": 37,
   "id": "patient-exclusive",
   "metadata": {},
   "outputs": [],
   "source": [
    "def extraer_articulos(sentences, topic):\n",
    "    lista_df = []\n",
    "    for item in sentences:\n",
    "        regx = f\"({topic}|{topic}s)[ ]([\\s\\S]*?)\\.\"\n",
    "        expretion = re.compile(r\"{}\".format(regx))\n",
    "        result = expretion.findall(item)\n",
    "        for item_normalize in list(map(\" \".join, result)):\n",
    "            lista_df.append(item_normalize)\n",
    "    return lista_df"
   ]
  },
  {
   "cell_type": "code",
   "execution_count": 38,
   "id": "cathedral-bridges",
   "metadata": {},
   "outputs": [],
   "source": [
    "\n",
    "def get_list_sentenses():\n",
    "    list_sentenses = []\n",
    "    for sentense in sd_model.fullAnnotate(text)[0][\"sentences\"]:\n",
    "        list_sentenses.append(sentense.result)\n",
    "    return list_sentenses"
   ]
  },
  {
   "cell_type": "code",
   "execution_count": 39,
   "id": "metallic-multiple",
   "metadata": {},
   "outputs": [],
   "source": [
    "new_dataframe_to_graph = pd.DataFrame(columns = [\"folios\", \"reference\"])"
   ]
  },
  {
   "cell_type": "code",
   "execution_count": 40,
   "id": "stable-choice",
   "metadata": {},
   "outputs": [
    {
     "data": {
      "text/html": [
       "<div>\n",
       "<style scoped>\n",
       "    .dataframe tbody tr th:only-of-type {\n",
       "        vertical-align: middle;\n",
       "    }\n",
       "\n",
       "    .dataframe tbody tr th {\n",
       "        vertical-align: top;\n",
       "    }\n",
       "\n",
       "    .dataframe thead th {\n",
       "        text-align: right;\n",
       "    }\n",
       "</style>\n",
       "<table border=\"1\" class=\"dataframe\">\n",
       "  <thead>\n",
       "    <tr style=\"text-align: right;\">\n",
       "      <th></th>\n",
       "      <th>file_id</th>\n",
       "      <th>antecedentes</th>\n",
       "      <th>decision</th>\n",
       "    </tr>\n",
       "  </thead>\n",
       "  <tbody>\n",
       "    <tr>\n",
       "      <th>0</th>\n",
       "      <td>T-3187308</td>\n",
       "      <td>antecedentes   1. hechos   1. el 27 de julio d...</td>\n",
       "      <td>decision   con  fundamento en las consideracio...</td>\n",
       "    </tr>\n",
       "    <tr>\n",
       "      <th>1</th>\n",
       "      <td>T-2719663</td>\n",
       "      <td>antecedentes   1.    hechos   el defensor del ...</td>\n",
       "      <td>decision   en merito de lo expuesto, la  sala ...</td>\n",
       "    </tr>\n",
       "    <tr>\n",
       "      <th>2</th>\n",
       "      <td>T-3176539</td>\n",
       "      <td>antecedentes   el ocho (8) de junio de dos mil...</td>\n",
       "      <td>decision   en merito de lo expuesto, la sala t...</td>\n",
       "    </tr>\n",
       "    <tr>\n",
       "      <th>3</th>\n",
       "      <td>T-3180007</td>\n",
       "      <td>antecedentes   el senor juan antonio, a traves...</td>\n",
       "      <td>consideraciones de la corte constitucional   1...</td>\n",
       "    </tr>\n",
       "    <tr>\n",
       "      <th>4</th>\n",
       "      <td>T-2764991 Y 2822307</td>\n",
       "      <td>antecedentes   1. hechos   los hechos relatado...</td>\n",
       "      <td>decision    en merito de lo expuesto, la sala ...</td>\n",
       "    </tr>\n",
       "    <tr>\n",
       "      <th>...</th>\n",
       "      <td>...</td>\n",
       "      <td>...</td>\n",
       "      <td>...</td>\n",
       "    </tr>\n",
       "    <tr>\n",
       "      <th>1857</th>\n",
       "      <td>T-7128811</td>\n",
       "      <td>antecedentes   1. hechos    1.1 la senora kari...</td>\n",
       "      <td>que no esten  expresamente incluidos en el pbs...</td>\n",
       "    </tr>\n",
       "    <tr>\n",
       "      <th>1858</th>\n",
       "      <td>T-6960341</td>\n",
       "      <td>antecedentes    1. hechos y relato contenidos ...</td>\n",
       "      <td>pruebas decretadas en sede de revision    el  ...</td>\n",
       "    </tr>\n",
       "    <tr>\n",
       "      <th>1859</th>\n",
       "      <td>T-7147012</td>\n",
       "      <td>antecedentes   herley  ramirez alzate presento...</td>\n",
       "      <td>existencia  de un peligro especifico e individ...</td>\n",
       "    </tr>\n",
       "    <tr>\n",
       "      <th>1860</th>\n",
       "      <td>T-7103649</td>\n",
       "      <td>antecedentes   a. hechos y pretensiones   1.  ...</td>\n",
       "      <td>decision   en merito de lo expuesto, la sala s...</td>\n",
       "    </tr>\n",
       "    <tr>\n",
       "      <th>1861</th>\n",
       "      <td>T-6882209</td>\n",
       "      <td>antecedentes   1.     hechos relevantes   1.1....</td>\n",
       "      <td>sintesis   en el presente caso, correspondio a...</td>\n",
       "    </tr>\n",
       "  </tbody>\n",
       "</table>\n",
       "<p>1862 rows × 3 columns</p>\n",
       "</div>"
      ],
      "text/plain": [
       "                  file_id                                       antecedentes  \\\n",
       "0               T-3187308  antecedentes   1. hechos   1. el 27 de julio d...   \n",
       "1               T-2719663  antecedentes   1.    hechos   el defensor del ...   \n",
       "2               T-3176539  antecedentes   el ocho (8) de junio de dos mil...   \n",
       "3               T-3180007  antecedentes   el senor juan antonio, a traves...   \n",
       "4     T-2764991 Y 2822307  antecedentes   1. hechos   los hechos relatado...   \n",
       "...                   ...                                                ...   \n",
       "1857            T-7128811  antecedentes   1. hechos    1.1 la senora kari...   \n",
       "1858            T-6960341  antecedentes    1. hechos y relato contenidos ...   \n",
       "1859            T-7147012  antecedentes   herley  ramirez alzate presento...   \n",
       "1860            T-7103649  antecedentes   a. hechos y pretensiones   1.  ...   \n",
       "1861            T-6882209  antecedentes   1.     hechos relevantes   1.1....   \n",
       "\n",
       "                                               decision  \n",
       "0     decision   con  fundamento en las consideracio...  \n",
       "1     decision   en merito de lo expuesto, la  sala ...  \n",
       "2     decision   en merito de lo expuesto, la sala t...  \n",
       "3     consideraciones de la corte constitucional   1...  \n",
       "4     decision    en merito de lo expuesto, la sala ...  \n",
       "...                                                 ...  \n",
       "1857  que no esten  expresamente incluidos en el pbs...  \n",
       "1858  pruebas decretadas en sede de revision    el  ...  \n",
       "1859  existencia  de un peligro especifico e individ...  \n",
       "1860  decision   en merito de lo expuesto, la sala s...  \n",
       "1861  sintesis   en el presente caso, correspondio a...  \n",
       "\n",
       "[1862 rows x 3 columns]"
      ]
     },
     "execution_count": 40,
     "metadata": {},
     "output_type": "execute_result"
    }
   ],
   "source": [
    "new_data"
   ]
  },
  {
   "cell_type": "markdown",
   "id": "adjustable-convenience",
   "metadata": {},
   "source": [
    "# Seccion DECISION [sentencias, articulos, folios, decretos]"
   ]
  },
  {
   "cell_type": "code",
   "execution_count": 41,
   "id": "brown-freight",
   "metadata": {},
   "outputs": [],
   "source": [
    "text = new_data[\"decision\"][28]"
   ]
  },
  {
   "cell_type": "code",
   "execution_count": 42,
   "id": "focal-speech",
   "metadata": {},
   "outputs": [],
   "source": [
    "decision_new_data_folio = pd.DataFrame(columns = [\"folios\", \"reference\"])\n",
    "decision_new_data_articulo = pd.DataFrame(columns = ['articulos', \"reference\"])\n",
    "decision_new_data_decreto = pd.DataFrame(columns = ['decretos', \"reference\"])\n",
    "decision_new_data_sentencia = pd.DataFrame(columns = ['sentencias', \"reference\"])"
   ]
  },
  {
   "cell_type": "code",
   "execution_count": 43,
   "id": "cheap-canadian",
   "metadata": {},
   "outputs": [],
   "source": [
    "decision_new_data_folio['folios'] = extraer_articulos(get_list_sentenses()[27:128], \"folio\")"
   ]
  },
  {
   "cell_type": "code",
   "execution_count": 44,
   "id": "domestic-efficiency",
   "metadata": {},
   "outputs": [],
   "source": [
    "decision_new_data_decreto['decretos'] = extraer_articulos(get_list_sentenses(), \"decreto\")"
   ]
  },
  {
   "cell_type": "code",
   "execution_count": 45,
   "id": "catholic-yahoo",
   "metadata": {},
   "outputs": [],
   "source": [
    "decision_new_data_articulo['articulos'] = extraer_articulos(get_list_sentenses(), \"articulo\")"
   ]
  },
  {
   "cell_type": "code",
   "execution_count": 46,
   "id": "national-offense",
   "metadata": {},
   "outputs": [],
   "source": [
    "decision_new_data_sentencia['sentencias'] = extraer_articulos(get_list_sentenses()[27:128], \"sentencia\")"
   ]
  },
  {
   "cell_type": "code",
   "execution_count": 47,
   "id": "accepted-arcade",
   "metadata": {},
   "outputs": [
    {
     "data": {
      "text/html": [
       "<div>\n",
       "<style scoped>\n",
       "    .dataframe tbody tr th:only-of-type {\n",
       "        vertical-align: middle;\n",
       "    }\n",
       "\n",
       "    .dataframe tbody tr th {\n",
       "        vertical-align: top;\n",
       "    }\n",
       "\n",
       "    .dataframe thead th {\n",
       "        text-align: right;\n",
       "    }\n",
       "</style>\n",
       "<table border=\"1\" class=\"dataframe\">\n",
       "  <thead>\n",
       "    <tr style=\"text-align: right;\">\n",
       "      <th></th>\n",
       "      <th>articulos</th>\n",
       "      <th>reference</th>\n",
       "    </tr>\n",
       "  </thead>\n",
       "  <tbody>\n",
       "    <tr>\n",
       "      <th>0</th>\n",
       "      <td>articulos 86 y  241, numeral 9°, de la constit...</td>\n",
       "      <td>NaN</td>\n",
       "    </tr>\n",
       "    <tr>\n",
       "      <th>1</th>\n",
       "      <td>articulo 29 superior, dispone que el debido  p...</td>\n",
       "      <td>NaN</td>\n",
       "    </tr>\n",
       "    <tr>\n",
       "      <th>2</th>\n",
       "      <td>articulo 209 superior), toda vez que a traves ...</td>\n",
       "      <td>NaN</td>\n",
       "    </tr>\n",
       "    <tr>\n",
       "      <th>3</th>\n",
       "      <td>articulo 86 superior, la accion de tutela es u...</td>\n",
       "      <td>NaN</td>\n",
       "    </tr>\n",
       "    <tr>\n",
       "      <th>4</th>\n",
       "      <td>articulo  6° del decreto 2591 de 1991, el cual...</td>\n",
       "      <td>NaN</td>\n",
       "    </tr>\n",
       "    <tr>\n",
       "      <th>5</th>\n",
       "      <td>articulo 49 del codigo contencioso administrat...</td>\n",
       "      <td>NaN</td>\n",
       "    </tr>\n",
       "    <tr>\n",
       "      <th>6</th>\n",
       "      <td>articulo 58 y el decreto  distrital 531 de 23 ...</td>\n",
       "      <td>NaN</td>\n",
       "    </tr>\n",
       "    <tr>\n",
       "      <th>7</th>\n",
       "      <td>articulo 58 y el decreto distrital 531 de 23 d...</td>\n",
       "      <td>NaN</td>\n",
       "    </tr>\n",
       "    <tr>\n",
       "      <th>8</th>\n",
       "      <td>articulo 28 del c</td>\n",
       "      <td>NaN</td>\n",
       "    </tr>\n",
       "    <tr>\n",
       "      <th>9</th>\n",
       "      <td>articulo 17 de la ley 1333 de 2009, la privo d...</td>\n",
       "      <td>NaN</td>\n",
       "    </tr>\n",
       "    <tr>\n",
       "      <th>10</th>\n",
       "      <td>articulo 28  del c</td>\n",
       "      <td>NaN</td>\n",
       "    </tr>\n",
       "    <tr>\n",
       "      <th>11</th>\n",
       "      <td>articulo 17 de la ley 1333 de 2009[25],  pues ...</td>\n",
       "      <td>NaN</td>\n",
       "    </tr>\n",
       "  </tbody>\n",
       "</table>\n",
       "</div>"
      ],
      "text/plain": [
       "                                            articulos reference\n",
       "0   articulos 86 y  241, numeral 9°, de la constit...       NaN\n",
       "1   articulo 29 superior, dispone que el debido  p...       NaN\n",
       "2   articulo 209 superior), toda vez que a traves ...       NaN\n",
       "3   articulo 86 superior, la accion de tutela es u...       NaN\n",
       "4   articulo  6° del decreto 2591 de 1991, el cual...       NaN\n",
       "5   articulo 49 del codigo contencioso administrat...       NaN\n",
       "6   articulo 58 y el decreto  distrital 531 de 23 ...       NaN\n",
       "7   articulo 58 y el decreto distrital 531 de 23 d...       NaN\n",
       "8                                   articulo 28 del c       NaN\n",
       "9   articulo 17 de la ley 1333 de 2009, la privo d...       NaN\n",
       "10                                 articulo 28  del c       NaN\n",
       "11  articulo 17 de la ley 1333 de 2009[25],  pues ...       NaN"
      ]
     },
     "execution_count": 47,
     "metadata": {},
     "output_type": "execute_result"
    }
   ],
   "source": [
    "decision_new_data_articulo.tail(30)"
   ]
  },
  {
   "cell_type": "code",
   "execution_count": 48,
   "id": "lesser-hierarchy",
   "metadata": {},
   "outputs": [
    {
     "data": {
      "text/plain": [
       "[]"
      ]
     },
     "execution_count": 48,
     "metadata": {},
     "output_type": "execute_result"
    }
   ],
   "source": [
    "folios = extraer_articulos(get_list_sentenses_by_model(new_data[\"decision\"][28]), \"folio\")\n",
    "folios"
   ]
  },
  {
   "cell_type": "code",
   "execution_count": 49,
   "id": "proprietary-persian",
   "metadata": {},
   "outputs": [],
   "source": [
    "decision_new_data_folio = pd.DataFrame(columns = [\"folios\"])\n",
    "decision_new_data_articulo = pd.DataFrame(columns = ['articulos'])\n",
    "decision_new_data_decreto = pd.DataFrame(columns = ['decretos'])\n",
    "decision_new_data_sentencia = pd.DataFrame(columns = ['sentencias'])\n",
    "\n",
    "def get_new_data(sentence):\n",
    "    folios = extraer_articulos(get_list_sentenses_by_model(sentence), \"folio\")\n",
    "    articulos = extraer_articulos(get_list_sentenses_by_model(sentence), \"articulo\")\n",
    "    sentencias = extraer_articulos(get_list_sentenses_by_model(sentence), \"sentencia\")\n",
    "    decretos = extraer_articulos(get_list_sentenses_by_model(sentence), \"decreto\")\n",
    "    return folios, articulos, sentencias, decretos\n",
    "    "
   ]
  },
  {
   "cell_type": "code",
   "execution_count": null,
   "id": "constant-fence",
   "metadata": {},
   "outputs": [],
   "source": []
  },
  {
   "cell_type": "code",
   "execution_count": 50,
   "id": "owned-palace",
   "metadata": {},
   "outputs": [
    {
     "data": {
      "text/html": [
       "<div>\n",
       "<style scoped>\n",
       "    .dataframe tbody tr th:only-of-type {\n",
       "        vertical-align: middle;\n",
       "    }\n",
       "\n",
       "    .dataframe tbody tr th {\n",
       "        vertical-align: top;\n",
       "    }\n",
       "\n",
       "    .dataframe thead th {\n",
       "        text-align: right;\n",
       "    }\n",
       "</style>\n",
       "<table border=\"1\" class=\"dataframe\">\n",
       "  <thead>\n",
       "    <tr style=\"text-align: right;\">\n",
       "      <th></th>\n",
       "      <th>folios</th>\n",
       "      <th>articulos</th>\n",
       "      <th>sentencias</th>\n",
       "      <th>decretos</th>\n",
       "      <th>reference</th>\n",
       "    </tr>\n",
       "  </thead>\n",
       "  <tbody>\n",
       "    <tr>\n",
       "      <th>0</th>\n",
       "      <td>[articulo 36 del decreto 2591 de 1991, articul...</td>\n",
       "      <td>[articulo 36 del decreto 2591 de 1991, articul...</td>\n",
       "      <td>[sentencia y del expediente a la superintenden...</td>\n",
       "      <td>[decreto 2591 de 1991]</td>\n",
       "      <td>T-2719663</td>\n",
       "    </tr>\n",
       "    <tr>\n",
       "      <th>1</th>\n",
       "      <td>[articulo 36 del decreto 2591 de  1991, para l...</td>\n",
       "      <td>[articulo 36 del decreto 2591 de  1991, para l...</td>\n",
       "      <td>[sentencia proferida por el juzgado primero pe...</td>\n",
       "      <td>[decreto 2591 de  1991, para los efectos alli ...</td>\n",
       "      <td>T-3176539</td>\n",
       "    </tr>\n",
       "    <tr>\n",
       "      <th>2</th>\n",
       "      <td>[articulos 86 y 241-9 de la  constitucion poli...</td>\n",
       "      <td>[articulos 86 y 241-9 de la  constitucion poli...</td>\n",
       "      <td>[sentencia  c-134 de 1994, en la que se declar...</td>\n",
       "      <td>[decreto 2591 de 1991, decreto  2591 de 1991, ...</td>\n",
       "      <td>T-3180007</td>\n",
       "    </tr>\n",
       "    <tr>\n",
       "      <th>3</th>\n",
       "      <td>[articulo 239 del codigo sustantivo del trabaj...</td>\n",
       "      <td>[articulo 239 del codigo sustantivo del trabaj...</td>\n",
       "      <td>[sentencia proferida el siete (7) de mayo de 2...</td>\n",
       "      <td>[decreto 2591 de 1991, decreto 3135 de 1968, e...</td>\n",
       "      <td>T-2764991 Y 2822307</td>\n",
       "    </tr>\n",
       "    <tr>\n",
       "      <th>4</th>\n",
       "      <td>[articulos 86 y 241 numeral 9° de la constituc...</td>\n",
       "      <td>[articulos 86 y 241 numeral 9° de la constituc...</td>\n",
       "      <td>[sentencia proferida dentro del proceso de la ...</td>\n",
       "      <td>[decreto 2591 de 1991]</td>\n",
       "      <td>T-3201980</td>\n",
       "    </tr>\n",
       "    <tr>\n",
       "      <th>...</th>\n",
       "      <td>...</td>\n",
       "      <td>...</td>\n",
       "      <td>...</td>\n",
       "      <td>...</td>\n",
       "      <td>...</td>\n",
       "    </tr>\n",
       "    <tr>\n",
       "      <th>1794</th>\n",
       "      <td>[articulo 36 del decreto ley 2591 de 1991, art...</td>\n",
       "      <td>[articulo 36 del decreto ley 2591 de 1991, art...</td>\n",
       "      <td>[sentencias proferidas el tres (3) de septiemb...</td>\n",
       "      <td>[decreto ley 2591 de 1991, decreto 2591 de 199...</td>\n",
       "      <td>T-7136911</td>\n",
       "    </tr>\n",
       "    <tr>\n",
       "      <th>1795</th>\n",
       "      <td>[articulo 55 (sic) del  reglamento interno de ...</td>\n",
       "      <td>[articulo 55 (sic) del  reglamento interno de ...</td>\n",
       "      <td>[sentencia t-284 de 2019[153]  (expediente t-7...</td>\n",
       "      <td>[]</td>\n",
       "      <td>T-7055614 Y OTRO ACUMULADOS</td>\n",
       "    </tr>\n",
       "    <tr>\n",
       "      <th>1796</th>\n",
       "      <td>[articulo 488 del codigo sustantivo del  traba...</td>\n",
       "      <td>[articulo 488 del codigo sustantivo del  traba...</td>\n",
       "      <td>[sentencias t-426 de 2001 m, sentencias t-051 ...</td>\n",
       "      <td>[decreto 2591 de 1991, decreto 1730 de 2001: i...</td>\n",
       "      <td>T-7222037 Y OTRO ACUMULADOS</td>\n",
       "    </tr>\n",
       "    <tr>\n",
       "      <th>1797</th>\n",
       "      <td>[articulos 86 y 241, numeral 9º, de la  consti...</td>\n",
       "      <td>[articulos 86 y 241, numeral 9º, de la  consti...</td>\n",
       "      <td>[sentencias proferidas dentro del proceso de l...</td>\n",
       "      <td>[decreto  2591 de 1991, decreto 2591 de 1991 s...</td>\n",
       "      <td>T-6899349</td>\n",
       "    </tr>\n",
       "    <tr>\n",
       "      <th>1798</th>\n",
       "      <td>[articulo 36 del decreto 2591 de 1991, para lo...</td>\n",
       "      <td>[articulo 36 del decreto 2591 de 1991, para lo...</td>\n",
       "      <td>[sentencia t-299/19   derecho a la salud y  se...</td>\n",
       "      <td>[decreto 2591 de 1991, para los fines alli con...</td>\n",
       "      <td>T-7217174</td>\n",
       "    </tr>\n",
       "  </tbody>\n",
       "</table>\n",
       "<p>1799 rows × 5 columns</p>\n",
       "</div>"
      ],
      "text/plain": [
       "                                                 folios  \\\n",
       "0     [articulo 36 del decreto 2591 de 1991, articul...   \n",
       "1     [articulo 36 del decreto 2591 de  1991, para l...   \n",
       "2     [articulos 86 y 241-9 de la  constitucion poli...   \n",
       "3     [articulo 239 del codigo sustantivo del trabaj...   \n",
       "4     [articulos 86 y 241 numeral 9° de la constituc...   \n",
       "...                                                 ...   \n",
       "1794  [articulo 36 del decreto ley 2591 de 1991, art...   \n",
       "1795  [articulo 55 (sic) del  reglamento interno de ...   \n",
       "1796  [articulo 488 del codigo sustantivo del  traba...   \n",
       "1797  [articulos 86 y 241, numeral 9º, de la  consti...   \n",
       "1798  [articulo 36 del decreto 2591 de 1991, para lo...   \n",
       "\n",
       "                                              articulos  \\\n",
       "0     [articulo 36 del decreto 2591 de 1991, articul...   \n",
       "1     [articulo 36 del decreto 2591 de  1991, para l...   \n",
       "2     [articulos 86 y 241-9 de la  constitucion poli...   \n",
       "3     [articulo 239 del codigo sustantivo del trabaj...   \n",
       "4     [articulos 86 y 241 numeral 9° de la constituc...   \n",
       "...                                                 ...   \n",
       "1794  [articulo 36 del decreto ley 2591 de 1991, art...   \n",
       "1795  [articulo 55 (sic) del  reglamento interno de ...   \n",
       "1796  [articulo 488 del codigo sustantivo del  traba...   \n",
       "1797  [articulos 86 y 241, numeral 9º, de la  consti...   \n",
       "1798  [articulo 36 del decreto 2591 de 1991, para lo...   \n",
       "\n",
       "                                             sentencias  \\\n",
       "0     [sentencia y del expediente a la superintenden...   \n",
       "1     [sentencia proferida por el juzgado primero pe...   \n",
       "2     [sentencia  c-134 de 1994, en la que se declar...   \n",
       "3     [sentencia proferida el siete (7) de mayo de 2...   \n",
       "4     [sentencia proferida dentro del proceso de la ...   \n",
       "...                                                 ...   \n",
       "1794  [sentencias proferidas el tres (3) de septiemb...   \n",
       "1795  [sentencia t-284 de 2019[153]  (expediente t-7...   \n",
       "1796  [sentencias t-426 de 2001 m, sentencias t-051 ...   \n",
       "1797  [sentencias proferidas dentro del proceso de l...   \n",
       "1798  [sentencia t-299/19   derecho a la salud y  se...   \n",
       "\n",
       "                                               decretos  \\\n",
       "0                                [decreto 2591 de 1991]   \n",
       "1     [decreto 2591 de  1991, para los efectos alli ...   \n",
       "2     [decreto 2591 de 1991, decreto  2591 de 1991, ...   \n",
       "3     [decreto 2591 de 1991, decreto 3135 de 1968, e...   \n",
       "4                                [decreto 2591 de 1991]   \n",
       "...                                                 ...   \n",
       "1794  [decreto ley 2591 de 1991, decreto 2591 de 199...   \n",
       "1795                                                 []   \n",
       "1796  [decreto 2591 de 1991, decreto 1730 de 2001: i...   \n",
       "1797  [decreto  2591 de 1991, decreto 2591 de 1991 s...   \n",
       "1798  [decreto 2591 de 1991, para los fines alli con...   \n",
       "\n",
       "                        reference  \n",
       "0                       T-2719663  \n",
       "1                       T-3176539  \n",
       "2                       T-3180007  \n",
       "3             T-2764991 Y 2822307  \n",
       "4                       T-3201980  \n",
       "...                           ...  \n",
       "1794                    T-7136911  \n",
       "1795  T-7055614 Y OTRO ACUMULADOS  \n",
       "1796  T-7222037 Y OTRO ACUMULADOS  \n",
       "1797                    T-6899349  \n",
       "1798                    T-7217174  \n",
       "\n",
       "[1799 rows x 5 columns]"
      ]
     },
     "execution_count": 50,
     "metadata": {},
     "output_type": "execute_result"
    }
   ],
   "source": [
    "dec = pd.DataFrame(columns = [\"folios\", \"articulos\", \"sentencias\", \"decretos\", \"reference\"])\n",
    "for item in range(1, 1800):\n",
    "    reference = new_data[\"file_id\"][item]\n",
    "    folios, articulos, sentencias, decretos = get_new_data(new_data[\"decision\"][item])\n",
    "    dec = dec.append(\n",
    "        {\n",
    "         \"folios\": articulos, \n",
    "         \"articulos\": articulos, \n",
    "         \"sentencias\": sentencias, \n",
    "         \"decretos\": decretos, \n",
    "         \"reference\": reference\n",
    "        }, \n",
    "        ignore_index=True\n",
    "    )\n",
    "dec"
   ]
  },
  {
   "cell_type": "code",
   "execution_count": 51,
   "id": "built-intranet",
   "metadata": {},
   "outputs": [
    {
     "data": {
      "text/plain": [
       "'articulo 46 el estado, la sociedad y la familia  concurriran para la proteccion y la asistencia de las personas de la tercera  edad y promoveran su integracion a la vida activa y comunitaria'"
      ]
     },
     "execution_count": 51,
     "metadata": {},
     "output_type": "execute_result"
    }
   ],
   "source": [
    "dec[\"folios\"][0][1]"
   ]
  },
  {
   "cell_type": "code",
   "execution_count": 52,
   "id": "cloudy-accreditation",
   "metadata": {},
   "outputs": [
    {
     "data": {
      "text/html": [
       "<div>\n",
       "<style scoped>\n",
       "    .dataframe tbody tr th:only-of-type {\n",
       "        vertical-align: middle;\n",
       "    }\n",
       "\n",
       "    .dataframe tbody tr th {\n",
       "        vertical-align: top;\n",
       "    }\n",
       "\n",
       "    .dataframe thead th {\n",
       "        text-align: right;\n",
       "    }\n",
       "</style>\n",
       "<table border=\"1\" class=\"dataframe\">\n",
       "  <thead>\n",
       "    <tr style=\"text-align: right;\">\n",
       "      <th></th>\n",
       "      <th>articulos</th>\n",
       "    </tr>\n",
       "  </thead>\n",
       "  <tbody>\n",
       "  </tbody>\n",
       "</table>\n",
       "</div>"
      ],
      "text/plain": [
       "Empty DataFrame\n",
       "Columns: [articulos]\n",
       "Index: []"
      ]
     },
     "execution_count": 52,
     "metadata": {},
     "output_type": "execute_result"
    }
   ],
   "source": [
    "decision_new_data_articulo.head()"
   ]
  },
  {
   "cell_type": "code",
   "execution_count": 53,
   "id": "willing-plant",
   "metadata": {},
   "outputs": [
    {
     "data": {
      "text/plain": [
       "(1799, 5)"
      ]
     },
     "execution_count": 53,
     "metadata": {},
     "output_type": "execute_result"
    }
   ],
   "source": [
    "dec.shape"
   ]
  },
  {
   "cell_type": "code",
   "execution_count": 85,
   "id": "particular-grave",
   "metadata": {},
   "outputs": [
    {
     "ename": "NameError",
     "evalue": "name 'dec' is not defined",
     "output_type": "error",
     "traceback": [
      "\u001b[0;31m---------------------------------------------------------------------------\u001b[0m",
      "\u001b[0;31mNameError\u001b[0m                                 Traceback (most recent call last)",
      "\u001b[0;32m<ipython-input-85-4d590d9f4141>\u001b[0m in \u001b[0;36m<module>\u001b[0;34m\u001b[0m\n\u001b[0;32m----> 1\u001b[0;31m \u001b[0mdec\u001b[0m\u001b[0;34m[\u001b[0m\u001b[0;36m1050\u001b[0m\u001b[0;34m:\u001b[0m\u001b[0;36m1060\u001b[0m\u001b[0;34m]\u001b[0m\u001b[0;34m\u001b[0m\u001b[0;34m\u001b[0m\u001b[0m\n\u001b[0m",
      "\u001b[0;31mNameError\u001b[0m: name 'dec' is not defined"
     ]
    }
   ],
   "source": [
    "dec[1050:1060]"
   ]
  },
  {
   "cell_type": "code",
   "execution_count": 83,
   "id": "naval-dressing",
   "metadata": {},
   "outputs": [
    {
     "ename": "NameError",
     "evalue": "name 'dec' is not defined",
     "output_type": "error",
     "traceback": [
      "\u001b[0;31m---------------------------------------------------------------------------\u001b[0m",
      "\u001b[0;31mNameError\u001b[0m                                 Traceback (most recent call last)",
      "\u001b[0;32m<ipython-input-83-50e4862460ff>\u001b[0m in \u001b[0;36m<module>\u001b[0;34m\u001b[0m\n\u001b[0;32m----> 1\u001b[0;31m \u001b[0mdec\u001b[0m\u001b[0;34m.\u001b[0m\u001b[0mto_parquet\u001b[0m\u001b[0;34m(\u001b[0m\u001b[0;34m'processed_data.gzip'\u001b[0m\u001b[0;34m,\u001b[0m \u001b[0mcompression\u001b[0m\u001b[0;34m=\u001b[0m\u001b[0;34m'gzip'\u001b[0m\u001b[0;34m)\u001b[0m\u001b[0;34m\u001b[0m\u001b[0;34m\u001b[0m\u001b[0m\n\u001b[0m",
      "\u001b[0;31mNameError\u001b[0m: name 'dec' is not defined"
     ]
    }
   ],
   "source": [
    "dec.to_parquet('processed_data.gzip', compression='gzip')"
   ]
  },
  {
   "cell_type": "code",
   "execution_count": 56,
   "id": "congressional-people",
   "metadata": {},
   "outputs": [
    {
     "data": {
      "text/html": [
       "<div>\n",
       "<style scoped>\n",
       "    .dataframe tbody tr th:only-of-type {\n",
       "        vertical-align: middle;\n",
       "    }\n",
       "\n",
       "    .dataframe tbody tr th {\n",
       "        vertical-align: top;\n",
       "    }\n",
       "\n",
       "    .dataframe thead th {\n",
       "        text-align: right;\n",
       "    }\n",
       "</style>\n",
       "<table border=\"1\" class=\"dataframe\">\n",
       "  <thead>\n",
       "    <tr style=\"text-align: right;\">\n",
       "      <th></th>\n",
       "      <th>decretos</th>\n",
       "    </tr>\n",
       "  </thead>\n",
       "  <tbody>\n",
       "  </tbody>\n",
       "</table>\n",
       "</div>"
      ],
      "text/plain": [
       "Empty DataFrame\n",
       "Columns: [decretos]\n",
       "Index: []"
      ]
     },
     "execution_count": 56,
     "metadata": {},
     "output_type": "execute_result"
    }
   ],
   "source": [
    "decision_new_data_decreto.head()"
   ]
  },
  {
   "cell_type": "code",
   "execution_count": 57,
   "id": "absolute-pulse",
   "metadata": {},
   "outputs": [
    {
     "data": {
      "text/html": [
       "<div>\n",
       "<style scoped>\n",
       "    .dataframe tbody tr th:only-of-type {\n",
       "        vertical-align: middle;\n",
       "    }\n",
       "\n",
       "    .dataframe tbody tr th {\n",
       "        vertical-align: top;\n",
       "    }\n",
       "\n",
       "    .dataframe thead th {\n",
       "        text-align: right;\n",
       "    }\n",
       "</style>\n",
       "<table border=\"1\" class=\"dataframe\">\n",
       "  <thead>\n",
       "    <tr style=\"text-align: right;\">\n",
       "      <th></th>\n",
       "      <th>folios</th>\n",
       "    </tr>\n",
       "  </thead>\n",
       "  <tbody>\n",
       "  </tbody>\n",
       "</table>\n",
       "</div>"
      ],
      "text/plain": [
       "Empty DataFrame\n",
       "Columns: [folios]\n",
       "Index: []"
      ]
     },
     "execution_count": 57,
     "metadata": {},
     "output_type": "execute_result"
    }
   ],
   "source": [
    "decision_new_data_folio.head()"
   ]
  },
  {
   "cell_type": "code",
   "execution_count": 95,
   "id": "developed-naples",
   "metadata": {},
   "outputs": [],
   "source": [
    "parquet_data.to_csv('processed_data.csv')"
   ]
  },
  {
   "cell_type": "markdown",
   "id": "original-malpractice",
   "metadata": {},
   "source": [
    "# Reglas de asociacion"
   ]
  },
  {
   "cell_type": "code",
   "execution_count": null,
   "id": "tested-remark",
   "metadata": {},
   "outputs": [],
   "source": []
  },
  {
   "cell_type": "code",
   "execution_count": 26,
   "id": "informed-brooks",
   "metadata": {},
   "outputs": [
    {
     "name": "stderr",
     "output_type": "stream",
     "text": [
      "/home/oscfrayle/PycharmProjects/UNAL/entrega2md/venv/lib/python3.8/site-packages/gensim/similarities/__init__.py:15: UserWarning: The gensim.similarities.levenshtein submodule is disabled, because the optional Levenshtein package <https://pypi.org/project/python-Levenshtein/> is unavailable. Install Levenhstein (e.g. `pip install python-Levenshtein`) to suppress this warning.\n",
      "  warnings.warn(msg)\n"
     ]
    }
   ],
   "source": [
    "import plotly.express as px\n",
    "import nltk\n",
    "import seaborn as sns\n",
    "import numpy as np\n",
    "from gensim.models.doc2vec import Doc2Vec, TaggedDocument\n",
    "from nltk.tokenize import word_tokenize"
   ]
  },
  {
   "cell_type": "code",
   "execution_count": 27,
   "id": "brutal-operations",
   "metadata": {},
   "outputs": [
    {
     "name": "stderr",
     "output_type": "stream",
     "text": [
      "[nltk_data] Downloading package punkt to /home/oscfrayle/nltk_data...\n",
      "[nltk_data]   Package punkt is already up-to-date!\n"
     ]
    },
    {
     "data": {
      "text/plain": [
       "True"
      ]
     },
     "execution_count": 27,
     "metadata": {},
     "output_type": "execute_result"
    }
   ],
   "source": [
    "nltk.download('punkt')"
   ]
  },
  {
   "cell_type": "code",
   "execution_count": 29,
   "id": "radio-council",
   "metadata": {},
   "outputs": [],
   "source": [
    "from efficient_apriori import apriori\n",
    "import pyfpgrowth"
   ]
  },
  {
   "cell_type": "code",
   "execution_count": 30,
   "id": "geographic-prison",
   "metadata": {},
   "outputs": [
    {
     "data": {
      "text/html": [
       "<div>\n",
       "<style scoped>\n",
       "    .dataframe tbody tr th:only-of-type {\n",
       "        vertical-align: middle;\n",
       "    }\n",
       "\n",
       "    .dataframe tbody tr th {\n",
       "        vertical-align: top;\n",
       "    }\n",
       "\n",
       "    .dataframe thead th {\n",
       "        text-align: right;\n",
       "    }\n",
       "</style>\n",
       "<table border=\"1\" class=\"dataframe\">\n",
       "  <thead>\n",
       "    <tr style=\"text-align: right;\">\n",
       "      <th></th>\n",
       "      <th>file_id</th>\n",
       "      <th>antecedentes</th>\n",
       "      <th>decision</th>\n",
       "    </tr>\n",
       "  </thead>\n",
       "  <tbody>\n",
       "    <tr>\n",
       "      <th>0</th>\n",
       "      <td>T-3187308</td>\n",
       "      <td>antecedentes   1 hechos   1 el 27 de julio de ...</td>\n",
       "      <td>decision   con  fundamento en las consideracio...</td>\n",
       "    </tr>\n",
       "    <tr>\n",
       "      <th>1</th>\n",
       "      <td>T-2719663</td>\n",
       "      <td>antecedentes   1    hechos   el defensor del p...</td>\n",
       "      <td>decision   en merito de lo expuesto la  sala p...</td>\n",
       "    </tr>\n",
       "    <tr>\n",
       "      <th>2</th>\n",
       "      <td>T-3176539</td>\n",
       "      <td>antecedentes   el ocho 8 de junio de dos mil  ...</td>\n",
       "      <td>decision   en merito de lo expuesto la sala te...</td>\n",
       "    </tr>\n",
       "    <tr>\n",
       "      <th>3</th>\n",
       "      <td>T-3180007</td>\n",
       "      <td>antecedentes   el senor juan antonio a traves ...</td>\n",
       "      <td>consideraciones de la corte constitucional   1...</td>\n",
       "    </tr>\n",
       "    <tr>\n",
       "      <th>4</th>\n",
       "      <td>T-2764991 Y 2822307</td>\n",
       "      <td>antecedentes   1 hechos   los hechos relatados...</td>\n",
       "      <td>decision    en merito de lo expuesto la sala n...</td>\n",
       "    </tr>\n",
       "    <tr>\n",
       "      <th>...</th>\n",
       "      <td>...</td>\n",
       "      <td>...</td>\n",
       "      <td>...</td>\n",
       "    </tr>\n",
       "    <tr>\n",
       "      <th>1857</th>\n",
       "      <td>T-7128811</td>\n",
       "      <td>antecedentes   1 hechos    11 la senora karina...</td>\n",
       "      <td>que no esten  expresamente incluidos en el pbs...</td>\n",
       "    </tr>\n",
       "    <tr>\n",
       "      <th>1858</th>\n",
       "      <td>T-6960341</td>\n",
       "      <td>antecedentes    1 hechos y relato contenidos e...</td>\n",
       "      <td>pruebas decretadas en sede de revision    el  ...</td>\n",
       "    </tr>\n",
       "    <tr>\n",
       "      <th>1859</th>\n",
       "      <td>T-7147012</td>\n",
       "      <td>antecedentes   herley  ramirez alzate presento...</td>\n",
       "      <td>existencia  de un peligro especifico e individ...</td>\n",
       "    </tr>\n",
       "    <tr>\n",
       "      <th>1860</th>\n",
       "      <td>T-7103649</td>\n",
       "      <td>antecedentes   a hechos y pretensiones   1  la...</td>\n",
       "      <td>decision   en merito de lo expuesto la sala se...</td>\n",
       "    </tr>\n",
       "    <tr>\n",
       "      <th>1861</th>\n",
       "      <td>T-6882209</td>\n",
       "      <td>antecedentes   1     hechos relevantes   11   ...</td>\n",
       "      <td>sintesis   en el presente caso correspondio a ...</td>\n",
       "    </tr>\n",
       "  </tbody>\n",
       "</table>\n",
       "<p>1862 rows × 3 columns</p>\n",
       "</div>"
      ],
      "text/plain": [
       "                  file_id                                       antecedentes  \\\n",
       "0               T-3187308  antecedentes   1 hechos   1 el 27 de julio de ...   \n",
       "1               T-2719663  antecedentes   1    hechos   el defensor del p...   \n",
       "2               T-3176539  antecedentes   el ocho 8 de junio de dos mil  ...   \n",
       "3               T-3180007  antecedentes   el senor juan antonio a traves ...   \n",
       "4     T-2764991 Y 2822307  antecedentes   1 hechos   los hechos relatados...   \n",
       "...                   ...                                                ...   \n",
       "1857            T-7128811  antecedentes   1 hechos    11 la senora karina...   \n",
       "1858            T-6960341  antecedentes    1 hechos y relato contenidos e...   \n",
       "1859            T-7147012  antecedentes   herley  ramirez alzate presento...   \n",
       "1860            T-7103649  antecedentes   a hechos y pretensiones   1  la...   \n",
       "1861            T-6882209  antecedentes   1     hechos relevantes   11   ...   \n",
       "\n",
       "                                               decision  \n",
       "0     decision   con  fundamento en las consideracio...  \n",
       "1     decision   en merito de lo expuesto la  sala p...  \n",
       "2     decision   en merito de lo expuesto la sala te...  \n",
       "3     consideraciones de la corte constitucional   1...  \n",
       "4     decision    en merito de lo expuesto la sala n...  \n",
       "...                                                 ...  \n",
       "1857  que no esten  expresamente incluidos en el pbs...  \n",
       "1858  pruebas decretadas en sede de revision    el  ...  \n",
       "1859  existencia  de un peligro especifico e individ...  \n",
       "1860  decision   en merito de lo expuesto la sala se...  \n",
       "1861  sintesis   en el presente caso correspondio a ...  \n",
       "\n",
       "[1862 rows x 3 columns]"
      ]
     },
     "execution_count": 30,
     "metadata": {},
     "output_type": "execute_result"
    }
   ],
   "source": [
    "new_data"
   ]
  },
  {
   "cell_type": "code",
   "execution_count": 31,
   "id": "flexible-registration",
   "metadata": {},
   "outputs": [],
   "source": [
    "parquet_data = pd.read_parquet('processed_data.gzip')"
   ]
  },
  {
   "cell_type": "code",
   "execution_count": 32,
   "id": "early-lafayette",
   "metadata": {},
   "outputs": [
    {
     "data": {
      "text/html": [
       "<div>\n",
       "<style scoped>\n",
       "    .dataframe tbody tr th:only-of-type {\n",
       "        vertical-align: middle;\n",
       "    }\n",
       "\n",
       "    .dataframe tbody tr th {\n",
       "        vertical-align: top;\n",
       "    }\n",
       "\n",
       "    .dataframe thead th {\n",
       "        text-align: right;\n",
       "    }\n",
       "</style>\n",
       "<table border=\"1\" class=\"dataframe\">\n",
       "  <thead>\n",
       "    <tr style=\"text-align: right;\">\n",
       "      <th></th>\n",
       "      <th>folios</th>\n",
       "      <th>articulos</th>\n",
       "      <th>sentencias</th>\n",
       "      <th>decretos</th>\n",
       "      <th>reference</th>\n",
       "    </tr>\n",
       "  </thead>\n",
       "  <tbody>\n",
       "    <tr>\n",
       "      <th>0</th>\n",
       "      <td>[articulo 36 del decreto 2591 de 1991, articul...</td>\n",
       "      <td>[articulo 36 del decreto 2591 de 1991, articul...</td>\n",
       "      <td>[sentencia y del expediente a la superintenden...</td>\n",
       "      <td>[decreto 2591 de 1991]</td>\n",
       "      <td>T-2719663</td>\n",
       "    </tr>\n",
       "    <tr>\n",
       "      <th>1</th>\n",
       "      <td>[articulo 36 del decreto 2591 de  1991, para l...</td>\n",
       "      <td>[articulo 36 del decreto 2591 de  1991, para l...</td>\n",
       "      <td>[sentencia proferida por el juzgado primero pe...</td>\n",
       "      <td>[decreto 2591 de  1991, para los efectos alli ...</td>\n",
       "      <td>T-3176539</td>\n",
       "    </tr>\n",
       "    <tr>\n",
       "      <th>2</th>\n",
       "      <td>[articulos 86 y 241-9 de la  constitucion poli...</td>\n",
       "      <td>[articulos 86 y 241-9 de la  constitucion poli...</td>\n",
       "      <td>[sentencia  c-134 de 1994, en la que se declar...</td>\n",
       "      <td>[decreto 2591 de 1991, decreto  2591 de 1991, ...</td>\n",
       "      <td>T-3180007</td>\n",
       "    </tr>\n",
       "    <tr>\n",
       "      <th>3</th>\n",
       "      <td>[articulo 239 del codigo sustantivo del trabaj...</td>\n",
       "      <td>[articulo 239 del codigo sustantivo del trabaj...</td>\n",
       "      <td>[sentencia proferida el siete (7) de mayo de 2...</td>\n",
       "      <td>[decreto 2591 de 1991, decreto 3135 de 1968, e...</td>\n",
       "      <td>T-2764991 Y 2822307</td>\n",
       "    </tr>\n",
       "    <tr>\n",
       "      <th>4</th>\n",
       "      <td>[articulos 86 y 241 numeral 9° de la constituc...</td>\n",
       "      <td>[articulos 86 y 241 numeral 9° de la constituc...</td>\n",
       "      <td>[sentencia proferida dentro del proceso de la ...</td>\n",
       "      <td>[decreto 2591 de 1991]</td>\n",
       "      <td>T-3201980</td>\n",
       "    </tr>\n",
       "    <tr>\n",
       "      <th>...</th>\n",
       "      <td>...</td>\n",
       "      <td>...</td>\n",
       "      <td>...</td>\n",
       "      <td>...</td>\n",
       "      <td>...</td>\n",
       "    </tr>\n",
       "    <tr>\n",
       "      <th>1794</th>\n",
       "      <td>[articulo 36 del decreto ley 2591 de 1991, art...</td>\n",
       "      <td>[articulo 36 del decreto ley 2591 de 1991, art...</td>\n",
       "      <td>[sentencias proferidas el tres (3) de septiemb...</td>\n",
       "      <td>[decreto ley 2591 de 1991, decreto 2591 de 199...</td>\n",
       "      <td>T-7136911</td>\n",
       "    </tr>\n",
       "    <tr>\n",
       "      <th>1795</th>\n",
       "      <td>[articulo 55 (sic) del  reglamento interno de ...</td>\n",
       "      <td>[articulo 55 (sic) del  reglamento interno de ...</td>\n",
       "      <td>[sentencia t-284 de 2019[153]  (expediente t-7...</td>\n",
       "      <td>[]</td>\n",
       "      <td>T-7055614 Y OTRO ACUMULADOS</td>\n",
       "    </tr>\n",
       "    <tr>\n",
       "      <th>1796</th>\n",
       "      <td>[articulo 488 del codigo sustantivo del  traba...</td>\n",
       "      <td>[articulo 488 del codigo sustantivo del  traba...</td>\n",
       "      <td>[sentencias t-426 de 2001 m, sentencias t-051 ...</td>\n",
       "      <td>[decreto 2591 de 1991, decreto 1730 de 2001: i...</td>\n",
       "      <td>T-7222037 Y OTRO ACUMULADOS</td>\n",
       "    </tr>\n",
       "    <tr>\n",
       "      <th>1797</th>\n",
       "      <td>[articulos 86 y 241, numeral 9º, de la  consti...</td>\n",
       "      <td>[articulos 86 y 241, numeral 9º, de la  consti...</td>\n",
       "      <td>[sentencias proferidas dentro del proceso de l...</td>\n",
       "      <td>[decreto  2591 de 1991, decreto 2591 de 1991 s...</td>\n",
       "      <td>T-6899349</td>\n",
       "    </tr>\n",
       "    <tr>\n",
       "      <th>1798</th>\n",
       "      <td>[articulo 36 del decreto 2591 de 1991, para lo...</td>\n",
       "      <td>[articulo 36 del decreto 2591 de 1991, para lo...</td>\n",
       "      <td>[sentencia t-299/19   derecho a la salud y  se...</td>\n",
       "      <td>[decreto 2591 de 1991, para los fines alli con...</td>\n",
       "      <td>T-7217174</td>\n",
       "    </tr>\n",
       "  </tbody>\n",
       "</table>\n",
       "<p>1799 rows × 5 columns</p>\n",
       "</div>"
      ],
      "text/plain": [
       "                                                 folios  \\\n",
       "0     [articulo 36 del decreto 2591 de 1991, articul...   \n",
       "1     [articulo 36 del decreto 2591 de  1991, para l...   \n",
       "2     [articulos 86 y 241-9 de la  constitucion poli...   \n",
       "3     [articulo 239 del codigo sustantivo del trabaj...   \n",
       "4     [articulos 86 y 241 numeral 9° de la constituc...   \n",
       "...                                                 ...   \n",
       "1794  [articulo 36 del decreto ley 2591 de 1991, art...   \n",
       "1795  [articulo 55 (sic) del  reglamento interno de ...   \n",
       "1796  [articulo 488 del codigo sustantivo del  traba...   \n",
       "1797  [articulos 86 y 241, numeral 9º, de la  consti...   \n",
       "1798  [articulo 36 del decreto 2591 de 1991, para lo...   \n",
       "\n",
       "                                              articulos  \\\n",
       "0     [articulo 36 del decreto 2591 de 1991, articul...   \n",
       "1     [articulo 36 del decreto 2591 de  1991, para l...   \n",
       "2     [articulos 86 y 241-9 de la  constitucion poli...   \n",
       "3     [articulo 239 del codigo sustantivo del trabaj...   \n",
       "4     [articulos 86 y 241 numeral 9° de la constituc...   \n",
       "...                                                 ...   \n",
       "1794  [articulo 36 del decreto ley 2591 de 1991, art...   \n",
       "1795  [articulo 55 (sic) del  reglamento interno de ...   \n",
       "1796  [articulo 488 del codigo sustantivo del  traba...   \n",
       "1797  [articulos 86 y 241, numeral 9º, de la  consti...   \n",
       "1798  [articulo 36 del decreto 2591 de 1991, para lo...   \n",
       "\n",
       "                                             sentencias  \\\n",
       "0     [sentencia y del expediente a la superintenden...   \n",
       "1     [sentencia proferida por el juzgado primero pe...   \n",
       "2     [sentencia  c-134 de 1994, en la que se declar...   \n",
       "3     [sentencia proferida el siete (7) de mayo de 2...   \n",
       "4     [sentencia proferida dentro del proceso de la ...   \n",
       "...                                                 ...   \n",
       "1794  [sentencias proferidas el tres (3) de septiemb...   \n",
       "1795  [sentencia t-284 de 2019[153]  (expediente t-7...   \n",
       "1796  [sentencias t-426 de 2001 m, sentencias t-051 ...   \n",
       "1797  [sentencias proferidas dentro del proceso de l...   \n",
       "1798  [sentencia t-299/19   derecho a la salud y  se...   \n",
       "\n",
       "                                               decretos  \\\n",
       "0                                [decreto 2591 de 1991]   \n",
       "1     [decreto 2591 de  1991, para los efectos alli ...   \n",
       "2     [decreto 2591 de 1991, decreto  2591 de 1991, ...   \n",
       "3     [decreto 2591 de 1991, decreto 3135 de 1968, e...   \n",
       "4                                [decreto 2591 de 1991]   \n",
       "...                                                 ...   \n",
       "1794  [decreto ley 2591 de 1991, decreto 2591 de 199...   \n",
       "1795                                                 []   \n",
       "1796  [decreto 2591 de 1991, decreto 1730 de 2001: i...   \n",
       "1797  [decreto  2591 de 1991, decreto 2591 de 1991 s...   \n",
       "1798  [decreto 2591 de 1991, para los fines alli con...   \n",
       "\n",
       "                        reference  \n",
       "0                       T-2719663  \n",
       "1                       T-3176539  \n",
       "2                       T-3180007  \n",
       "3             T-2764991 Y 2822307  \n",
       "4                       T-3201980  \n",
       "...                           ...  \n",
       "1794                    T-7136911  \n",
       "1795  T-7055614 Y OTRO ACUMULADOS  \n",
       "1796  T-7222037 Y OTRO ACUMULADOS  \n",
       "1797                    T-6899349  \n",
       "1798                    T-7217174  \n",
       "\n",
       "[1799 rows x 5 columns]"
      ]
     },
     "execution_count": 32,
     "metadata": {},
     "output_type": "execute_result"
    }
   ],
   "source": [
    "parquet_data"
   ]
  },
  {
   "cell_type": "code",
   "execution_count": 33,
   "id": "dynamic-major",
   "metadata": {},
   "outputs": [],
   "source": [
    "def extraer_ley(text):\n",
    "    ley = \"\"\n",
    "    regx = f\"(ley)( +)+([0-9]+)+( +)(de)+( +)([0-9]+)\"\n",
    "    expretion = re.compile(r\"{}\".format(regx))\n",
    "    result = expretion.findall(text)\n",
    "    if result:\n",
    "        return ley.join(list(result[0]))\n",
    "    return \"\""
   ]
  },
  {
   "cell_type": "code",
   "execution_count": 128,
   "id": "typical-secondary",
   "metadata": {},
   "outputs": [],
   "source": [
    "def extraer_decreto(text):\n",
    "    decreto = \"\"\n",
    "    regx = f\"((decreto)( )([0-9]+)( )+(de)+( )([0-9]+))\"\n",
    "    expretion = re.compile(r\"{}\".format(regx))\n",
    "    result = expretion.search(text)\n",
    "    if result:\n",
    "        return decreto.join(list(result[0]))\n",
    "    return \"\""
   ]
  },
  {
   "cell_type": "code",
   "execution_count": 129,
   "id": "eight-lightweight",
   "metadata": {},
   "outputs": [],
   "source": [
    "def extraer_decreto2(text):\n",
    "    decretos_list = []\n",
    "    decreto = \"\"\n",
    "    decretos = \", \"\n",
    "    result = re.findall(\"((decreto)( )([0-9]+)( )+(de)+( )([0-9]+))\",text)\n",
    "    for item in result:\n",
    "        temporal_list = list(item)\n",
    "        \n",
    "        if len(decreto.join(list(item))) > 15:\n",
    "            decretos_list.append(decreto.join(list(item)).strip().replace(\",\", \"\"))\n",
    "    return decretos.join(decretos_list)"
   ]
  },
  {
   "cell_type": "code",
   "execution_count": 117,
   "id": "raising-harmony",
   "metadata": {},
   "outputs": [],
   "source": [
    "def extraer_decreto(text):\n",
    "    decretos_list = []\n",
    "    decreto = \"\"\n",
    "    decretos = \", \"\n",
    "    result = re.findall(\"((decreto)( )([0-9]+)( )+(de)+( )([0-9]+))\",text)\n",
    "    for item in result:\n",
    "        temporal_list = list(item)\n",
    "        \n",
    "        if len(decreto.join(list(item))) > 15:\n",
    "            decretos_list.append(decreto.join(list(item)).strip().replace(\",\", \"\"))\n",
    "    return decretos.join(decretos_list)"
   ]
  },
  {
   "cell_type": "code",
   "execution_count": 36,
   "id": "existing-motion",
   "metadata": {},
   "outputs": [
    {
     "name": "stdout",
     "output_type": "stream",
     "text": [
      "ley 1355 de 1970\n"
     ]
    }
   ],
   "source": [
    "ley_test = extraer_ley(\"decreto 992 de 1930, normas que no estaban vigentes  ya que habian sido subrogadas por el decreto ley 1355 de 1970\")\n",
    "print(ley_test)"
   ]
  },
  {
   "cell_type": "code",
   "execution_count": 37,
   "id": "chronic-compilation",
   "metadata": {},
   "outputs": [
    {
     "name": "stdout",
     "output_type": "stream",
     "text": [
      "derecho a la salud\n"
     ]
    }
   ],
   "source": [
    "derecho_test = extraer_derecho(\"decreto 992 de 1930, normas que no estaban en los derecho a la salud vigentes ya que habian sido subrogadas por el decreto ley 1355 de 1970\")\n",
    "print(derecho_test)"
   ]
  },
  {
   "cell_type": "code",
   "execution_count": 38,
   "id": "sealed-initial",
   "metadata": {},
   "outputs": [
    {
     "name": "stdout",
     "output_type": "stream",
     "text": [
      "decreto 992 de 1931, decreto 992 de 1930, decreto 99232 de 192330, decreto 99233 de 192331\n"
     ]
    }
   ],
   "source": [
    "decreto_test = extraer_decreto(\"decreto 992 de 1931, decreto 992 de 1930, decreto 99232 de 192330 normas que no estaban en los derecho fundamental a la salud vigentes ya que habian sido subrogadas por decreto 99233 de 192331, el decreto ley 1355 de 1970\")\n",
    "print(decreto_test)"
   ]
  },
  {
   "cell_type": "code",
   "execution_count": 39,
   "id": "beautiful-blink",
   "metadata": {},
   "outputs": [],
   "source": [
    "def compose_partial_line(dataframe_column):\n",
    "    diccionario_line = {}\n",
    "    for item, key in parquet_data.iterrows():\n",
    "        lista_full_text = []\n",
    "        final_line = \"\"\n",
    "        for line in key[dataframe_column]:\n",
    "            list_line = []\n",
    "            full_text = \",\"\n",
    "            decreto_extract = extraer_decreto(line)\n",
    "            if decreto_extract:\n",
    "                list_line.append(extraer_decreto(line))\n",
    "        if list_line:\n",
    "            diccionario_line.update({key[\"reference\"]: full_text.join(list_line).strip()})\n",
    "    return diccionario_line\n",
    "#compose_partial_line(\"decretos\")"
   ]
  },
  {
   "cell_type": "code",
   "execution_count": 40,
   "id": "collaborative-glory",
   "metadata": {},
   "outputs": [
    {
     "data": {
      "text/plain": [
       "(1799, 5)"
      ]
     },
     "execution_count": 40,
     "metadata": {},
     "output_type": "execute_result"
    }
   ],
   "source": [
    "parquet_data.shape"
   ]
  },
  {
   "cell_type": "code",
   "execution_count": 41,
   "id": "photographic-cuisine",
   "metadata": {},
   "outputs": [
    {
     "name": "stdout",
     "output_type": "stream",
     "text": [
      "dict_keys(['T-3229258', 'T-3170053', 'T-3163147', 'T-3242509', 'T-3255611', 'T-3257265', 'T-3368359', 'T-3336431', 'T-3331151', 'T-2934614', 'T-3038260', 'T-3383054', 'T-3364320', 'T-3339178', 'T-2706361', 'T-3093713', 'T-3439513', 'T-3101081', 'T-3077270', 'T-3066688', 'T-3078861', 'T-3407562', 'T-3052938', 'T-3011473', 'T-2545429 Y OTROS ACUMULADOS', 'T-2448215', 'T-3015372 Y OTROS ACUMULADOS', 'T-3408860', 'T-3433683', 'T-3001628', 'T-2595774', 'T-3037072 acumulado', 'T-2944866', 'T-3415529', 'T-3405496', 'T-2980419', 'T-3415130', 'T-2097348', 'T-2927070', 'T-3343947 Y OTRO ACUMULADOS', 'T-2910430', 'T-2864851', 'T-2674656', 'T-2753981', 'T-2983421', 'T-859-11', 'T-3302323', 'T-2176281', 'T-2719755', 'T-2992723', 'T-3339097', 'T-2899768', 'T-3008975 Y OTRO ACUMULADO', 'T-2815439', 'T-2892198', 'T-2906284', 'T-2635345', 'T-2902876', 'T-3247689', 'T-3336110', 'T-2482392', 'T-3257281', 'T-3206395', 'T-3199440', 'T-2839194 Y OTRO ACUMULADOS', 'T-2813791 Y OTROS ACUMULADOS', 'T-2857660', 'T-3240442', 'T-2828372', 'T-2907642 Y OTRO ACUMULADOS', 'T-3198142 Y OTRO ACUMULADO', 'T-2644270', 'T-2831205', 'T-3150597', 'T-2812003', 'T-2740402', 'T-2811398', 'T-3150857', 'T-2735520', 'T-3182123', 'T-2287318 T-2287317', 'T-115-14', 'T-647-12', 'T-4415487', 'T-4591786', 'T-4622954', 'T-4669750', 'T-4694633', 'T-4693342', 'T-3010397', 'T-4744365', 'T-3657161', 'T-2379468', 'T-4813221', 'T-4808412', 'T-4903239', 'T-4892125', 'T-4899506', 'T-4902038', 'T-4925964', 'T-3172275 YOTRO ACUMULADOS', 'T-4789181', 'T-3930728 Y OTRO ACUMULADOS', 'T-3883272', 'T-3886217', 'T-3875515', 'T-4899342 Y OTRO ACUMULADO', 'T-4884120', 'T-4864456', 'T-4915553', 'T-3871179 Y OTRO ACUMULADOS', 'T-3862736', 'T-4124790', 'T-3215147', 'T-3850902', 'T-3836879', 'T-3838805 Y OTRO ACUMULADO', 'T-2941765 Y OTROS ACUMULADOS', 'T-4785489', 'T-3848705', 'T-2687739', 'T-3002838 Y OTROS ACUMULADOS', 'T-3829139', 'T-4080985', 'T-4325260', 'T-4822295', 'T-4775326', 'T-3787239', 'T-3746878', 'T-3805402', 'T-3811565', 'T-3739743', 'T-4706206', 'T-798365', 'T-4737132', 'T-3025186', 'T-511-11', 'T-4610966', 'T-3725102', 'T-3699975 Y OTRAS ACUMULADAS', 'T-3698162', 'T-3402731', 'T-4478561 Y OTROS ACUMULADOS', 'T-3630613', 'T-3615654', 'T-3677985', 'T-2139563 Y OTROS ACUMULADOS', 'T-4594812', 'T-3105026', 'T-3659257', 'T-4353004', 'T-4551344', 'T-2848522', 'T-4515088 Y OTROS ACUMULADOS', 'T-3417272', 'T-3365491', 'T-4549667', 'T-4050693', 'T-3629301', 'T-4055677 Y OTROS ACUMIULADOS', 'T-3481260', 'T-4510680', 'T-3353968', 'T-4426042', 'T-4491368', 'T-5608726 Y OTROS ACUMULADOS', 'T-4818506', 'T-5872661', 'T-5457997', 'T-5306045', 'T-6093967 Y OTRO ACUMULADOS', 'T-6096221', 'T-6448131', 'T-6604110', 'T-6700575', 'T-6070328 Y OTRO ACUMULADOS', 'T-5414020', 'T-6652959 Y OTRO ACUMULADOS', 'T-5929699', 'T-5523439 Y OTROS ACUMULADOS', 'T-5525920', 'T-6230725 Y OTROS ACUMULADOS', 'T-6058474', 'T-6643905 Y OTRO', 'T-4697245', 'T-6471810', 'T-5506053', 'T-5208437 Y OTROS ACUMULADOS', 'T-6080873', 'T-6036012', 'T-5466709', 'T-6593004', 'T-6023114', 'T-6304188 Y OTRO ACUMULADOS', 'T-5349374', 'T-6026464', 'T-5999877', 'T-6327369', 'T-5902872', 'T-6334710', 'T-5388920', 'T-5964653', 'T-5799348 Y OTROS ACUMULADOS', 'T-5377286', 'T-5331547', 'T-6264503', 'T-6333661 Y OTRO ACUMULADOS', 'T-5899593', 'T-5892627', 'T-5888660 Y OTRO ACUMULADOS', 'T-6288636 Y OTRO ACUMULADO', 'T-4910243', 'T-5890880', 'T-3505020 Y OTROS ACUMULADOS', 'T-6542638', 'T-5860547 Y OTRO ACUMULADOS', 'T-5442725', 'T-2202165', 'T-5239290', 'T-5260029', 'T-6448561', 'T-5721274 Y OTROS ACUMULADOS', 'T-5799418', 'T-5215221', 'T-5231852', 'T-5485856', 'T-5388821', 'T-6346931', 'T-5481677', 'T-5196392', 'T-5004773', 'T-6390550 Y OTROS ACUMULADOS', 'T-4873373', 'T-5206105', 'T-6406746', 'T-6402183 Y OTROS ACUMULADOS', 'T-5120337', 'T-5143141', 'T-4445122', 'T-5144950', 'T-5184426', 'T-5719398', 'T-5728624', 'T-5538281 Y OTROS ACUMULADOS', 'T-5722635', 'T-6696098', 'T-7004249', 'T-6951249', 'T-6890904', 'T-6740805', 'T-6749702', 'T-7022081', 'T-7078909', 'T-5912326', 'T-6826223', 'T-6011878 Y OTRO ACUMULADOS', 'T-7069734', 'T-7023847', 'T-6913441 Y OTRO ACUMULADOS', 'T-7096964 Y OTRO ACUMULADOS', 'T-6657386', 'T-5457363 Y OTROS ACUMULADOS', 'T-7222037 Y OTRO ACUMULADOS'])\n"
     ]
    }
   ],
   "source": [
    "ley_df = {}\n",
    "lista_referencias = {}\n",
    "for item, key in parquet_data.iterrows():\n",
    "    lista_leyes_sentencias = []\n",
    "    for line in key[\"sentencias\"]:\n",
    "        _ = extraer_ley(line)\n",
    "        if _:\n",
    "            lista_leyes_sentencias.append(\n",
    "                _\n",
    "            )\n",
    "            lista_referencias.update({key[\"reference\"]: lista_leyes_sentencias})\n",
    "            \n",
    "print(lista_referencias.keys())"
   ]
  },
  {
   "cell_type": "code",
   "execution_count": 42,
   "id": "minus-springer",
   "metadata": {},
   "outputs": [
    {
     "name": "stdout",
     "output_type": "stream",
     "text": [
      "['ley 797 de 2003,derecho a la seguridad,decreto 3085 de 2007, decreto 3085 de  2007'] T-4808412\n",
      "['ley 1448 de 2011,derechos fundamentales a la vida,decreto 1290 de 2008'] T-2687739\n",
      "['ley 100 de 1993,derecho a la  pension,decreto 1213 de 1990'] T-3746878\n"
     ]
    }
   ],
   "source": [
    "def compose_full_line(dataframe_column):\n",
    "    ley_df = {}\n",
    "    diccionario_line = {}\n",
    "    for item, key in parquet_data.iterrows():\n",
    "        lista_full_text = []\n",
    "        final_line = \"\"\n",
    "        for line in key[dataframe_column]:\n",
    "            list_line = []\n",
    "            full_text = \",\"\n",
    "            ley_extract = extraer_ley(line)\n",
    "            if ley_extract:\n",
    "                list_line.append(extraer_ley(line))\n",
    "            derecho_extract = extraer_derecho(line)\n",
    "            if derecho_extract:\n",
    "                list_line.append(derecho_extract.strip())\n",
    "            decreto_extract = extraer_decreto(line)\n",
    "            if decreto_extract:\n",
    "                list_line.append(extraer_decreto(line))\n",
    "            if list_line and ley_extract and derecho_extract and decreto_extract:\n",
    "            #if list_line:\n",
    "                final_line = full_text.join(list_line)\n",
    "                lista_full_text.append(final_line)\n",
    "            list_line = []\n",
    "        if lista_full_text:    \n",
    "            print(lista_full_text,  key[\"reference\"])\n",
    "\n",
    "            \n",
    "compose_full_line(\"sentencias\") "
   ]
  },
  {
   "cell_type": "markdown",
   "id": "reverse-genetics",
   "metadata": {},
   "source": [
    "# antecedentes [derechos, leyes, decretos]"
   ]
  },
  {
   "cell_type": "code",
   "execution_count": 130,
   "id": "rocky-parcel",
   "metadata": {},
   "outputs": [
    {
     "data": {
      "text/html": [
       "<div>\n",
       "<style scoped>\n",
       "    .dataframe tbody tr th:only-of-type {\n",
       "        vertical-align: middle;\n",
       "    }\n",
       "\n",
       "    .dataframe tbody tr th {\n",
       "        vertical-align: top;\n",
       "    }\n",
       "\n",
       "    .dataframe thead th {\n",
       "        text-align: right;\n",
       "    }\n",
       "</style>\n",
       "<table border=\"1\" class=\"dataframe\">\n",
       "  <thead>\n",
       "    <tr style=\"text-align: right;\">\n",
       "      <th></th>\n",
       "      <th>reference</th>\n",
       "      <th>text</th>\n",
       "    </tr>\n",
       "  </thead>\n",
       "  <tbody>\n",
       "    <tr>\n",
       "      <th>0</th>\n",
       "      <td>T-3187308</td>\n",
       "      <td>[ley 100 de 1993, decreto 2196 de 2009, derech...</td>\n",
       "    </tr>\n",
       "    <tr>\n",
       "      <th>1</th>\n",
       "      <td>T-2809578</td>\n",
       "      <td>[decreto 094  de 1989, derechos fundamentales ...</td>\n",
       "    </tr>\n",
       "    <tr>\n",
       "      <th>2</th>\n",
       "      <td>T-3170053</td>\n",
       "      <td>[ley 57 de 1905, decreto 992 de 1993, derechos...</td>\n",
       "    </tr>\n",
       "    <tr>\n",
       "      <th>3</th>\n",
       "      <td>T-3154181</td>\n",
       "      <td>[ley 267 de 2000, derechos fundamentales al de...</td>\n",
       "    </tr>\n",
       "    <tr>\n",
       "      <th>4</th>\n",
       "      <td>T-3215125</td>\n",
       "      <td>[derecho a la pension, ley 100 de 1993, decret...</td>\n",
       "    </tr>\n",
       "    <tr>\n",
       "      <th>...</th>\n",
       "      <td>...</td>\n",
       "      <td>...</td>\n",
       "    </tr>\n",
       "    <tr>\n",
       "      <th>394</th>\n",
       "      <td>T-7057599</td>\n",
       "      <td>[ley  1151 de 2007, derechos fundamentales al ...</td>\n",
       "    </tr>\n",
       "    <tr>\n",
       "      <th>395</th>\n",
       "      <td>T-7136220</td>\n",
       "      <td>[ley 100 de 1993, decreto 2591 de 1991, derech...</td>\n",
       "    </tr>\n",
       "    <tr>\n",
       "      <th>396</th>\n",
       "      <td>T-7139120</td>\n",
       "      <td>[ley  860 de 2003, derechos fundamentales a la...</td>\n",
       "    </tr>\n",
       "    <tr>\n",
       "      <th>397</th>\n",
       "      <td>T-7163048</td>\n",
       "      <td>[decreto 624 de 1989, derechos fundamentales a...</td>\n",
       "    </tr>\n",
       "    <tr>\n",
       "      <th>398</th>\n",
       "      <td>T-6882209</td>\n",
       "      <td>[ley 1437 de 2011, derecho fundamental al debi...</td>\n",
       "    </tr>\n",
       "  </tbody>\n",
       "</table>\n",
       "<p>399 rows × 2 columns</p>\n",
       "</div>"
      ],
      "text/plain": [
       "     reference                                               text\n",
       "0    T-3187308  [ley 100 de 1993, decreto 2196 de 2009, derech...\n",
       "1    T-2809578  [decreto 094  de 1989, derechos fundamentales ...\n",
       "2    T-3170053  [ley 57 de 1905, decreto 992 de 1993, derechos...\n",
       "3    T-3154181  [ley 267 de 2000, derechos fundamentales al de...\n",
       "4    T-3215125  [derecho a la pension, ley 100 de 1993, decret...\n",
       "..         ...                                                ...\n",
       "394  T-7057599  [ley  1151 de 2007, derechos fundamentales al ...\n",
       "395  T-7136220  [ley 100 de 1993, decreto 2591 de 1991, derech...\n",
       "396  T-7139120  [ley  860 de 2003, derechos fundamentales a la...\n",
       "397  T-7163048  [decreto 624 de 1989, derechos fundamentales a...\n",
       "398  T-6882209  [ley 1437 de 2011, derecho fundamental al debi...\n",
       "\n",
       "[399 rows x 2 columns]"
      ]
     },
     "execution_count": 130,
     "metadata": {},
     "output_type": "execute_result"
    }
   ],
   "source": [
    "count = 0\n",
    "antecedentes_df = pd.DataFrame(columns = [\"reference\", \"text\"])\n",
    "antecedentes_full_text = {}\n",
    "for item, key in new_data.iterrows():\n",
    "    item_derecho = extraer_derecho(key[\"antecedentes\"])\n",
    "    item_decreto = extraer_decreto(key[\"antecedentes\"])\n",
    "    item_ley = extraer_ley(key[\"antecedentes\"])\n",
    "    count = count + 1\n",
    "    if item_derecho and item_decreto and item_ley:\n",
    "        antecedentes_df = antecedentes_df.append({\n",
    "            \"reference\": key[\"file_id\"],\n",
    "            \"text\": list(set([item_derecho.strip(), item_decreto.strip().replace(', , ,',''), item_ley.strip().replace(',,','')]))\n",
    "        }, \n",
    "        ignore_index=True\n",
    "        )\n",
    "antecedentes_df"
   ]
  },
  {
   "cell_type": "markdown",
   "id": "committed-reverse",
   "metadata": {},
   "source": [
    "# decision [derechos, leyes, decretos]"
   ]
  },
  {
   "cell_type": "code",
   "execution_count": 131,
   "id": "bridal-colonial",
   "metadata": {},
   "outputs": [
    {
     "data": {
      "text/html": [
       "<div>\n",
       "<style scoped>\n",
       "    .dataframe tbody tr th:only-of-type {\n",
       "        vertical-align: middle;\n",
       "    }\n",
       "\n",
       "    .dataframe tbody tr th {\n",
       "        vertical-align: top;\n",
       "    }\n",
       "\n",
       "    .dataframe thead th {\n",
       "        text-align: right;\n",
       "    }\n",
       "</style>\n",
       "<table border=\"1\" class=\"dataframe\">\n",
       "  <thead>\n",
       "    <tr style=\"text-align: right;\">\n",
       "      <th></th>\n",
       "      <th>reference</th>\n",
       "      <th>text</th>\n",
       "    </tr>\n",
       "  </thead>\n",
       "  <tbody>\n",
       "    <tr>\n",
       "      <th>0</th>\n",
       "      <td>T-2719663</td>\n",
       "      <td>[ley 1122 de 2007, derecho a la salud, decreto...</td>\n",
       "    </tr>\n",
       "    <tr>\n",
       "      <th>1</th>\n",
       "      <td>T-3180007</td>\n",
       "      <td>[ley 1098 de 2006, derecho a la igualdad, decr...</td>\n",
       "    </tr>\n",
       "    <tr>\n",
       "      <th>2</th>\n",
       "      <td>T-2764991 Y 2822307</td>\n",
       "      <td>[derechos fundamentales a la  estabilidad, dec...</td>\n",
       "    </tr>\n",
       "    <tr>\n",
       "      <th>3</th>\n",
       "      <td>T-3229258</td>\n",
       "      <td>[ley 797  de 2003, derechos fundamentales a la...</td>\n",
       "    </tr>\n",
       "    <tr>\n",
       "      <th>4</th>\n",
       "      <td>T-2828671</td>\n",
       "      <td>[derechos  fundamentales al trabajo, decreto 2...</td>\n",
       "    </tr>\n",
       "    <tr>\n",
       "      <th>...</th>\n",
       "      <td>...</td>\n",
       "      <td>...</td>\n",
       "    </tr>\n",
       "    <tr>\n",
       "      <th>784</th>\n",
       "      <td>T-7349929</td>\n",
       "      <td>[derechos fundamentales a la  salud, decreto 2...</td>\n",
       "    </tr>\n",
       "    <tr>\n",
       "      <th>785</th>\n",
       "      <td>T-7277620</td>\n",
       "      <td>[ley 906 de 2004, derecho a la vivienda, decre...</td>\n",
       "    </tr>\n",
       "    <tr>\n",
       "      <th>786</th>\n",
       "      <td>T-7139120</td>\n",
       "      <td>[ley 100 de 1993, decreto 2591 de 1991, derech...</td>\n",
       "    </tr>\n",
       "    <tr>\n",
       "      <th>787</th>\n",
       "      <td>T-7163048</td>\n",
       "      <td>[ley 963 de 2005, derecho fundamental a la tut...</td>\n",
       "    </tr>\n",
       "    <tr>\n",
       "      <th>788</th>\n",
       "      <td>T-7103649</td>\n",
       "      <td>[ley 100 de  1993, derecho fundamental a la se...</td>\n",
       "    </tr>\n",
       "  </tbody>\n",
       "</table>\n",
       "<p>789 rows × 2 columns</p>\n",
       "</div>"
      ],
      "text/plain": [
       "               reference                                               text\n",
       "0              T-2719663  [ley 1122 de 2007, derecho a la salud, decreto...\n",
       "1              T-3180007  [ley 1098 de 2006, derecho a la igualdad, decr...\n",
       "2    T-2764991 Y 2822307  [derechos fundamentales a la  estabilidad, dec...\n",
       "3              T-3229258  [ley 797  de 2003, derechos fundamentales a la...\n",
       "4              T-2828671  [derechos  fundamentales al trabajo, decreto 2...\n",
       "..                   ...                                                ...\n",
       "784            T-7349929  [derechos fundamentales a la  salud, decreto 2...\n",
       "785            T-7277620  [ley 906 de 2004, derecho a la vivienda, decre...\n",
       "786            T-7139120  [ley 100 de 1993, decreto 2591 de 1991, derech...\n",
       "787            T-7163048  [ley 963 de 2005, derecho fundamental a la tut...\n",
       "788            T-7103649  [ley 100 de  1993, derecho fundamental a la se...\n",
       "\n",
       "[789 rows x 2 columns]"
      ]
     },
     "execution_count": 131,
     "metadata": {},
     "output_type": "execute_result"
    }
   ],
   "source": [
    "count = 0\n",
    "decision_df = pd.DataFrame(columns = [\"reference\", \"text\"])\n",
    "decision_full_text = {}\n",
    "for item, key in new_data.iterrows():\n",
    "    item_derecho = extraer_derecho(key[\"decision\"])\n",
    "    item_decreto = extraer_decreto(key[\"decision\"])\n",
    "    item_ley = extraer_ley(key[\"decision\"])\n",
    "    count = count + 1\n",
    "    if item_derecho and item_decreto and item_ley:\n",
    "        decision_df = decision_df.append({\n",
    "            \"reference\": key[\"file_id\"],\n",
    "            \"text\": list(set([item_derecho.strip(), item_decreto.strip().replace(', , ,',''), item_ley.strip().replace(',,','')])) #f\"{item_derecho.strip()}, {item_decreto.strip()}, {item_ley.strip().replace(',','')}\"\n",
    "        }, \n",
    "        ignore_index=True\n",
    "        )\n",
    "decision_df"
   ]
  },
  {
   "cell_type": "markdown",
   "id": "revolutionary-economics",
   "metadata": {},
   "source": [
    "### tags decision"
   ]
  },
  {
   "cell_type": "code",
   "execution_count": 121,
   "id": "excellent-teach",
   "metadata": {},
   "outputs": [
    {
     "name": "stdout",
     "output_type": "stream",
     "text": [
      "tags 991 / 2367\n"
     ]
    }
   ],
   "source": [
    "all_tags = [t.lower() for tags in decision_df['text'].values for t in tags]\n",
    "tags, cnt = np.unique(all_tags, return_counts=True)\n",
    "print(\"tags\",len(tags), \"/\",len(all_tags))"
   ]
  },
  {
   "cell_type": "markdown",
   "id": "happy-outreach",
   "metadata": {},
   "source": [
    "### tags antecedentes"
   ]
  },
  {
   "cell_type": "code",
   "execution_count": 122,
   "id": "adopted-street",
   "metadata": {},
   "outputs": [
    {
     "name": "stdout",
     "output_type": "stream",
     "text": [
      "tags 665 / 1197\n"
     ]
    }
   ],
   "source": [
    "all_tags = [t.lower() for tags in antecedentes_df['text'].values for t in tags]\n",
    "tags, cnt = np.unique(all_tags, return_counts=True)\n",
    "print(\"tags\",len(tags), \"/\",len(all_tags))"
   ]
  },
  {
   "cell_type": "markdown",
   "id": "outside-cowboy",
   "metadata": {},
   "source": [
    "## reglas"
   ]
  },
  {
   "cell_type": "code",
   "execution_count": 123,
   "id": "behind-antibody",
   "metadata": {},
   "outputs": [
    {
     "data": {
      "text/plain": [
       "[['decreto 2591 de 1991decreto 2591 de 1991',\n",
       "  'ley 1098 de 2006',\n",
       "  'derecho a la igualdad'],\n",
       " ['derechos fundamentales a la  estabilidad',\n",
       "  'decreto 2591 de 1991decreto 2591 de 1991, decreto 3135 de 1968decreto 3135 de 1968, decreto 4588 de 2006decreto 4588 de 2006, decreto 468 de 1990decreto 468 de 1990, decreto 4588 de 2006decreto 4588 de 2006',\n",
       "  'ley 74 de 1968']]"
      ]
     },
     "execution_count": 123,
     "metadata": {},
     "output_type": "execute_result"
    }
   ],
   "source": [
    "all_tags = [[t.lower() for t in tags] for tags in decision_df['text'][1:3]]\n",
    "all_tags"
   ]
  },
  {
   "cell_type": "code",
   "execution_count": 124,
   "id": "sporting-bernard",
   "metadata": {},
   "outputs": [
    {
     "data": {
      "text/plain": [
       "[['decreto 992 de 1930, normas que no estaban vigentes  ya que habian sido subrogadas por el decreto ley 1355 de 1970',\n",
       "  'decreto 992 de 1930 fueron subrogados por  el decreto ley 1355 de 1970',\n",
       "  'decreto  992  de 1930, normatividad subrogada y modificada por el decreto ley 1355 de 1970',\n",
       "  'decreto ley 1355 de 1970 en su articulo 125 y siguientes,  regulo integralmente la materia a que se referia aquel',\n",
       "  'decreto ley 1355 de 1970 y  subsidiariamente por los codigos departamentales y distritales de policia']]"
      ]
     },
     "execution_count": 124,
     "metadata": {},
     "output_type": "execute_result"
    }
   ],
   "source": [
    "all_tags = [[t.lower() for t in tags] for tags in parquet_data['decretos'][10:11]]\n",
    "all_tags"
   ]
  },
  {
   "cell_type": "code",
   "execution_count": 204,
   "id": "numeric-arabic",
   "metadata": {},
   "outputs": [
    {
     "name": "stdout",
     "output_type": "stream",
     "text": [
      "{derecho a la igualdad} -> {decreto 2591 de 1991} (conf: 1.000, supp: 0.069, lift: 1.208, conv: 172413793.103)\n",
      "{ley 1098 de 2006} -> {decreto 2591 de 1991} (conf: 1.000, supp: 0.034, lift: 1.208, conv: 172413793.103)\n",
      "{ley 1098 de 2006} -> {derecho a la igualdad} (conf: 1.000, supp: 0.034, lift: 14.500, conv: 931034482.759)\n",
      "{derechos fundamentales a la  estabilidad} -> {decreto 2591 de 1991} (conf: 1.000, supp: 0.034, lift: 1.208, conv: 172413793.103)\n",
      "{ley 74 de 1968} -> {decreto 2591 de 1991} (conf: 1.000, supp: 0.034, lift: 1.208, conv: 172413793.103)\n",
      "{ley 74 de 1968} -> {derechos fundamentales a la  estabilidad} (conf: 1.000, supp: 0.034, lift: 29.000, conv: 965517241.379)\n",
      "{derechos fundamentales a la  estabilidad} -> {ley 74 de 1968} (conf: 1.000, supp: 0.034, lift: 29.000, conv: 965517241.379)\n",
      "{derechos fundamentales a la vida} -> {decreto 2591 de 1991} (conf: 1.000, supp: 0.069, lift: 1.208, conv: 172413793.103)\n",
      "{ley 797  de 2003} -> {decreto 2591 de 1991} (conf: 1.000, supp: 0.034, lift: 1.208, conv: 172413793.103)\n",
      "{ley 797  de 2003} -> {derechos fundamentales a la vida} (conf: 1.000, supp: 0.034, lift: 14.500, conv: 931034482.759)\n",
      "{derechos  fundamentales al trabajo} -> {decreto 2591 de 1991} (conf: 1.000, supp: 0.034, lift: 1.208, conv: 172413793.103)\n",
      "\n",
      "==========AGRUPACION==============\n",
      "\n",
      "{'derecho a la igualdad': {'consequent': ['decreto 2591 de 1991'],\n",
      "                           'metrics': {'conf': 1.0,\n",
      "                                       'conv': 172413793.10344827,\n",
      "                                       'lift': 1.2083333333333333,\n",
      "                                       'supp': 0.06896551724137931}},\n",
      " 'derechos  fundamentales al trabajo': {'consequent': ['decreto 2591 de 1991'],\n",
      "                                        'metrics': {'conf': 1.0,\n",
      "                                                    'conv': 172413793.10344827,\n",
      "                                                    'lift': 1.2083333333333333,\n",
      "                                                    'supp': 0.034482758620689655}},\n",
      " 'derechos fundamentales a la  estabilidad': {'consequent': ['decreto 2591 de '\n",
      "                                                             '1991',\n",
      "                                                             'ley 74 de 1968'],\n",
      "                                              'metrics': {'conf': 1.0,\n",
      "                                                          'conv': 965517241.3793104,\n",
      "                                                          'lift': 29.000000000000004,\n",
      "                                                          'supp': 0.034482758620689655}},\n",
      " 'derechos fundamentales a la vida': {'consequent': ['decreto 2591 de 1991'],\n",
      "                                      'metrics': {'conf': 1.0,\n",
      "                                                  'conv': 172413793.10344827,\n",
      "                                                  'lift': 1.2083333333333333,\n",
      "                                                  'supp': 0.06896551724137931}},\n",
      " 'ley 1098 de 2006': {'consequent': ['decreto 2591 de 1991',\n",
      "                                     'derecho a la igualdad'],\n",
      "                      'metrics': {'conf': 1.0,\n",
      "                                  'conv': 931034482.7586206,\n",
      "                                  'lift': 14.500000000000002,\n",
      "                                  'supp': 0.034482758620689655}},\n",
      " 'ley 74 de 1968': {'consequent': ['decreto 2591 de 1991',\n",
      "                                   'derechos fundamentales a la  estabilidad'],\n",
      "                    'metrics': {'conf': 1.0,\n",
      "                                'conv': 965517241.3793104,\n",
      "                                'lift': 29.000000000000004,\n",
      "                                'supp': 0.034482758620689655}},\n",
      " 'ley 797  de 2003': {'consequent': ['decreto 2591 de 1991',\n",
      "                                     'derechos fundamentales a la vida'],\n",
      "                      'metrics': {'conf': 1.0,\n",
      "                                  'conv': 931034482.7586206,\n",
      "                                  'lift': 14.500000000000002,\n",
      "                                  'supp': 0.034482758620689655}}}\n"
     ]
    }
   ],
   "source": [
    "all_tags = [[t.lower() for t in tags] for tags in decision_df['text'][1:30]]\n",
    "itemsets, reglas = apriori(all_tags, min_support=0.001, min_confidence=0.01)\n",
    "count = 0\n",
    "dict_rules = {}\n",
    "dict_rules_metrics = {}\n",
    "for regla in reglas:\n",
    "    list_consecuente = []\n",
    "    count = count + 1\n",
    "    if count > 20:\n",
    "        break\n",
    "    if regla.confidence > 0.8:\n",
    "        tem = dict_rules.get(regla.lhs[0], list())\n",
    "        dict_rules.update({regla.lhs[0]: tem})\n",
    "        tem = dict_rules.get(regla.lhs[0])\n",
    "        tem.append(regla.rhs[0])\n",
    "        dict_rules.update({regla.lhs[0]: tem})\n",
    "        dict_rules_metrics.update({\n",
    "            regla.lhs[0]: {\n",
    "                \"consequent\": dict_rules[regla.lhs[0]],\n",
    "                \"metrics\": {\n",
    "                    \"conf\": regla.confidence,\n",
    "                    \"supp\": regla.support,\n",
    "                    \"lift\": regla.lift,\n",
    "                    \"conv\": regla.conviction \n",
    "                }\n",
    "            }\n",
    "        })\n",
    "        print(regla)\n",
    "print(\"\")\n",
    "print(\"==========AGRUPACION==============\")\n",
    "print(\"\")\n",
    "pprint.pprint(dict_rules_metrics)"
   ]
  },
  {
   "cell_type": "code",
   "execution_count": 203,
   "id": "split-penalty",
   "metadata": {},
   "outputs": [
    {
     "name": "stdout",
     "output_type": "stream",
     "text": [
      "{derechos  fundamentales al minimo} -> {decreto 3770  de 2008} (conf: 1.000, supp: 0.033, lift: 30.000, conv: 966666666.667)\n",
      "{decreto 3770  de 2008} -> {derechos  fundamentales al minimo} (conf: 1.000, supp: 0.033, lift: 30.000, conv: 966666666.667)\n",
      "{ley 70 de 1993} -> {decreto 3770  de 2008} (conf: 1.000, supp: 0.033, lift: 30.000, conv: 966666666.667)\n",
      "{decreto 3770  de 2008} -> {ley 70 de 1993} (conf: 1.000, supp: 0.033, lift: 30.000, conv: 966666666.667)\n",
      "{ley 70 de 1993} -> {derechos  fundamentales al minimo} (conf: 1.000, supp: 0.033, lift: 30.000, conv: 966666666.667)\n",
      "{derechos  fundamentales al minimo} -> {ley 70 de 1993} (conf: 1.000, supp: 0.033, lift: 30.000, conv: 966666666.667)\n",
      "{derechos  fundamentales a la seguridad} -> {decreto 691 de 1994} (conf: 1.000, supp: 0.033, lift: 30.000, conv: 966666666.667)\n",
      "{decreto 691 de 1994} -> {derechos  fundamentales a la seguridad} (conf: 1.000, supp: 0.033, lift: 30.000, conv: 966666666.667)\n",
      "{decreto 691 de 1994} -> {ley 100 de 1993} (conf: 1.000, supp: 0.033, lift: 3.750, conv: 733333333.333)\n",
      "{derechos  fundamentales a la seguridad} -> {ley 100 de 1993} (conf: 1.000, supp: 0.033, lift: 3.750, conv: 733333333.333)\n",
      "{derechos  fundamentales a la salud} -> {decreto 806 de 1998} (conf: 1.000, supp: 0.033, lift: 30.000, conv: 966666666.667)\n",
      "{decreto 806 de 1998} -> {derechos  fundamentales a la salud} (conf: 1.000, supp: 0.033, lift: 30.000, conv: 966666666.667)\n",
      "{ley 10 de 1990} -> {decreto 806 de 1998} (conf: 1.000, supp: 0.033, lift: 30.000, conv: 966666666.667)\n",
      "{decreto 806 de 1998} -> {ley 10 de 1990} (conf: 1.000, supp: 0.033, lift: 30.000, conv: 966666666.667)\n",
      "{ley 10 de 1990} -> {derechos  fundamentales a la salud} (conf: 1.000, supp: 0.033, lift: 30.000, conv: 966666666.667)\n",
      "{derechos  fundamentales a la salud} -> {ley 10 de 1990} (conf: 1.000, supp: 0.033, lift: 30.000, conv: 966666666.667)\n",
      "\n",
      "==========AGRUPACION==============\n",
      "\n",
      "{'decreto 3770  de 2008': {'consequent': ['derechos  fundamentales al minimo',\n",
      "                                          'ley 70 de 1993'],\n",
      "                           'metrics': {'conf': 1.0,\n",
      "                                       'conv': 966666666.6666666,\n",
      "                                       'lift': 30.0,\n",
      "                                       'supp': 0.03333333333333333}},\n",
      " 'decreto 691 de 1994': {'consequent': ['derechos  fundamentales a la '\n",
      "                                        'seguridad',\n",
      "                                        'ley 100 de 1993'],\n",
      "                         'metrics': {'conf': 1.0,\n",
      "                                     'conv': 733333333.3333334,\n",
      "                                     'lift': 3.75,\n",
      "                                     'supp': 0.03333333333333333}},\n",
      " 'decreto 806 de 1998': {'consequent': ['derechos  fundamentales a la salud',\n",
      "                                        'ley 10 de 1990'],\n",
      "                         'metrics': {'conf': 1.0,\n",
      "                                     'conv': 966666666.6666666,\n",
      "                                     'lift': 30.0,\n",
      "                                     'supp': 0.03333333333333333}},\n",
      " 'derechos  fundamentales a la salud': {'consequent': ['decreto 806 de 1998',\n",
      "                                                       'ley 10 de 1990'],\n",
      "                                        'metrics': {'conf': 1.0,\n",
      "                                                    'conv': 966666666.6666666,\n",
      "                                                    'lift': 30.0,\n",
      "                                                    'supp': 0.03333333333333333}},\n",
      " 'derechos  fundamentales a la seguridad': {'consequent': ['decreto 691 de '\n",
      "                                                           '1994',\n",
      "                                                           'ley 100 de 1993'],\n",
      "                                            'metrics': {'conf': 1.0,\n",
      "                                                        'conv': 733333333.3333334,\n",
      "                                                        'lift': 3.75,\n",
      "                                                        'supp': 0.03333333333333333}},\n",
      " 'derechos  fundamentales al minimo': {'consequent': ['decreto 3770  de 2008',\n",
      "                                                      'ley 70 de 1993'],\n",
      "                                       'metrics': {'conf': 1.0,\n",
      "                                                   'conv': 966666666.6666666,\n",
      "                                                   'lift': 30.0,\n",
      "                                                   'supp': 0.03333333333333333}},\n",
      " 'ley 10 de 1990': {'consequent': ['decreto 806 de 1998',\n",
      "                                   'derechos  fundamentales a la salud'],\n",
      "                    'metrics': {'conf': 1.0,\n",
      "                                'conv': 966666666.6666666,\n",
      "                                'lift': 30.0,\n",
      "                                'supp': 0.03333333333333333}},\n",
      " 'ley 70 de 1993': {'consequent': ['decreto 3770  de 2008',\n",
      "                                   'derechos  fundamentales al minimo'],\n",
      "                    'metrics': {'conf': 1.0,\n",
      "                                'conv': 966666666.6666666,\n",
      "                                'lift': 30.0,\n",
      "                                'supp': 0.03333333333333333}}}\n"
     ]
    }
   ],
   "source": [
    "all_tags = [[t.lower() for t in tags] for tags in antecedentes_df['text'][10:40]]\n",
    "itemsets, reglas = apriori(all_tags, min_support=0.001, min_confidence=0.01)\n",
    "count = 0\n",
    "dict_rules = {}\n",
    "dict_rules_metrics = {}\n",
    "for regla in reglas:\n",
    "    list_consecuente = []\n",
    "    count = count + 1\n",
    "    if count > 20:\n",
    "        break\n",
    "    if regla.confidence > 0.8:\n",
    "        tem = dict_rules.get(regla.lhs[0], list())\n",
    "        dict_rules.update({regla.lhs[0]: tem})\n",
    "        tem = dict_rules.get(regla.lhs[0])\n",
    "        tem.append(regla.rhs[0])\n",
    "        dict_rules.update({regla.lhs[0]: tem})\n",
    "        dict_rules_metrics.update({\n",
    "            regla.lhs[0]: {\n",
    "                \"consequent\": dict_rules[regla.lhs[0]],\n",
    "                \"metrics\": {\n",
    "                    \"conf\": regla.confidence,\n",
    "                    \"supp\": regla.support,\n",
    "                    \"lift\": regla.lift,\n",
    "                    \"conv\": regla.conviction \n",
    "                }\n",
    "            }\n",
    "        })\n",
    "        print(regla)\n",
    "print(\"\")\n",
    "print(\"==========AGRUPACION==============\")\n",
    "print(\"\")\n",
    "pprint.pprint(dict_rules_metrics)"
   ]
  },
  {
   "cell_type": "markdown",
   "id": "thermal-asthma",
   "metadata": {},
   "source": [
    "# Reglas de asociacion / exploratorio"
   ]
  },
  {
   "cell_type": "code",
   "execution_count": 1,
   "id": "adult-spyware",
   "metadata": {},
   "outputs": [
    {
     "ename": "NameError",
     "evalue": "name 'parquet_data' is not defined",
     "output_type": "error",
     "traceback": [
      "\u001b[0;31m---------------------------------------------------------------------------\u001b[0m",
      "\u001b[0;31mNameError\u001b[0m                                 Traceback (most recent call last)",
      "\u001b[0;32m<ipython-input-1-32f332f58543>\u001b[0m in \u001b[0;36m<module>\u001b[0;34m\u001b[0m\n\u001b[0;32m----> 1\u001b[0;31m \u001b[0mall_tags\u001b[0m \u001b[0;34m=\u001b[0m \u001b[0;34m[\u001b[0m\u001b[0mt\u001b[0m\u001b[0;34m.\u001b[0m\u001b[0mlower\u001b[0m\u001b[0;34m(\u001b[0m\u001b[0;34m)\u001b[0m \u001b[0;32mfor\u001b[0m \u001b[0mtags\u001b[0m \u001b[0;32min\u001b[0m \u001b[0mparquet_data\u001b[0m\u001b[0;34m[\u001b[0m\u001b[0;34m'folios'\u001b[0m\u001b[0;34m]\u001b[0m\u001b[0;34m.\u001b[0m\u001b[0mvalues\u001b[0m \u001b[0;32mfor\u001b[0m \u001b[0mt\u001b[0m \u001b[0;32min\u001b[0m \u001b[0mtags\u001b[0m\u001b[0;34m]\u001b[0m\u001b[0;34m\u001b[0m\u001b[0;34m\u001b[0m\u001b[0m\n\u001b[0m\u001b[1;32m      2\u001b[0m \u001b[0mtags\u001b[0m\u001b[0;34m,\u001b[0m \u001b[0mcnt\u001b[0m \u001b[0;34m=\u001b[0m \u001b[0mnp\u001b[0m\u001b[0;34m.\u001b[0m\u001b[0munique\u001b[0m\u001b[0;34m(\u001b[0m\u001b[0mall_tags\u001b[0m\u001b[0;34m,\u001b[0m \u001b[0mreturn_counts\u001b[0m\u001b[0;34m=\u001b[0m\u001b[0;32mTrue\u001b[0m\u001b[0;34m)\u001b[0m\u001b[0;34m\u001b[0m\u001b[0;34m\u001b[0m\u001b[0m\n\u001b[1;32m      3\u001b[0m \u001b[0mprint\u001b[0m\u001b[0;34m(\u001b[0m\u001b[0;34m\"tags\"\u001b[0m\u001b[0;34m,\u001b[0m\u001b[0mlen\u001b[0m\u001b[0;34m(\u001b[0m\u001b[0mtags\u001b[0m\u001b[0;34m)\u001b[0m\u001b[0;34m,\u001b[0m \u001b[0;34m\"/\"\u001b[0m\u001b[0;34m,\u001b[0m\u001b[0mlen\u001b[0m\u001b[0;34m(\u001b[0m\u001b[0mall_tags\u001b[0m\u001b[0;34m)\u001b[0m\u001b[0;34m)\u001b[0m\u001b[0;34m\u001b[0m\u001b[0;34m\u001b[0m\u001b[0m\n",
      "\u001b[0;31mNameError\u001b[0m: name 'parquet_data' is not defined"
     ]
    }
   ],
   "source": [
    "all_tags = [t.lower() for tags in parquet_data['folios'].values for t in tags]\n",
    "tags, cnt = np.unique(all_tags, return_counts=True)\n",
    "print(\"tags\",len(tags), \"/\",len(all_tags))"
   ]
  },
  {
   "cell_type": "code",
   "execution_count": 25,
   "id": "faced-claim",
   "metadata": {},
   "outputs": [
    {
     "name": "stdout",
     "output_type": "stream",
     "text": [
      "tags 12513 / 16156\n"
     ]
    }
   ],
   "source": [
    "all_tags = [t.lower() for tags in parquet_data['articulos'].values for t in tags]\n",
    "tags, cnt = np.unique(all_tags, return_counts=True)\n",
    "print(\"tags\",len(tags), \"/\",len(all_tags))"
   ]
  },
  {
   "cell_type": "code",
   "execution_count": 26,
   "id": "lesbian-victory",
   "metadata": {},
   "outputs": [
    {
     "name": "stdout",
     "output_type": "stream",
     "text": [
      "tags 22478 / 26896\n"
     ]
    }
   ],
   "source": [
    "all_tags = [t.lower() for tags in parquet_data['sentencias'].values for t in tags]\n",
    "tags, cnt = np.unique(all_tags, return_counts=True)\n",
    "print(\"tags\",len(tags), \"/\",len(all_tags))"
   ]
  },
  {
   "cell_type": "code",
   "execution_count": 27,
   "id": "interior-bones",
   "metadata": {},
   "outputs": [
    {
     "name": "stdout",
     "output_type": "stream",
     "text": [
      "tags 3888 / 5574\n"
     ]
    }
   ],
   "source": [
    "all_tags = [t.lower() for tags in parquet_data['decretos'].values for t in tags]\n",
    "tags, cnt = np.unique(all_tags, return_counts=True)\n",
    "print(\"tags\",len(tags), \"/\",len(all_tags))"
   ]
  },
  {
   "cell_type": "code",
   "execution_count": 28,
   "id": "ahead-teddy",
   "metadata": {},
   "outputs": [],
   "source": [
    "list_data = parquet_data['decretos'][10:11]\n",
    "list_data = list(list_data.iloc[0])"
   ]
  },
  {
   "cell_type": "code",
   "execution_count": 29,
   "id": "covered-proxy",
   "metadata": {},
   "outputs": [
    {
     "data": {
      "text/plain": [
       "[TaggedDocument(words=['decreto', '992', 'de', '1930', ',', 'normas', 'que', 'no', 'estaban', 'vigentes', 'ya', 'que', 'habian', 'sido', 'subrogadas', 'por', 'el', 'decreto', 'ley', '1355', 'de', '1970'], tags=['0']),\n",
       " TaggedDocument(words=['decreto', '992', 'de', '1930', 'fueron', 'subrogados', 'por', 'el', 'decreto', 'ley', '1355', 'de', '1970'], tags=['1']),\n",
       " TaggedDocument(words=['decreto', '992', 'de', '1930', ',', 'normatividad', 'subrogada', 'y', 'modificada', 'por', 'el', 'decreto', 'ley', '1355', 'de', '1970'], tags=['2']),\n",
       " TaggedDocument(words=['decreto', 'ley', '1355', 'de', '1970', 'en', 'su', 'articulo', '125', 'y', 'siguientes', ',', 'regulo', 'integralmente', 'la', 'materia', 'a', 'que', 'se', 'referia', 'aquel'], tags=['3']),\n",
       " TaggedDocument(words=['decreto', 'ley', '1355', 'de', '1970', 'y', 'subsidiariamente', 'por', 'los', 'codigos', 'departamentales', 'y', 'distritales', 'de', 'policia'], tags=['4'])]"
      ]
     },
     "execution_count": 29,
     "metadata": {},
     "output_type": "execute_result"
    }
   ],
   "source": [
    "tagged_data = [TaggedDocument(words=word_tokenize(_d.lower()), tags=[str(i)]) for i, _d in enumerate(list_data)]\n",
    "tagged_data"
   ]
  },
  {
   "cell_type": "code",
   "execution_count": 118,
   "id": "veterinary-clerk",
   "metadata": {},
   "outputs": [
    {
     "data": {
      "text/plain": [
       "['decreto 992 de 1930 fueron subrogados por  el decreto ley 1355 de 1970',\n",
       " 'decreto  992  de 1930, normatividad subrogada y modificada por el decreto ley 1355 de 1970']"
      ]
     },
     "execution_count": 118,
     "metadata": {},
     "output_type": "execute_result"
    }
   ],
   "source": [
    "list_data[1:3]"
   ]
  },
  {
   "cell_type": "code",
   "execution_count": 106,
   "id": "cutting-designer",
   "metadata": {},
   "outputs": [
    {
     "data": {
      "text/plain": [
       "['decreto',\n",
       " '992',\n",
       " 'de',\n",
       " '1930',\n",
       " 'fueron',\n",
       " 'subrogados',\n",
       " 'por',\n",
       " 'el',\n",
       " 'decreto',\n",
       " 'ley',\n",
       " '1355',\n",
       " 'de',\n",
       " '1970']"
      ]
     },
     "execution_count": 106,
     "metadata": {},
     "output_type": "execute_result"
    }
   ],
   "source": [
    "tagged_data[1][0]"
   ]
  },
  {
   "cell_type": "code",
   "execution_count": 53,
   "id": "toxic-storage",
   "metadata": {},
   "outputs": [
    {
     "data": {
      "text/plain": [
       "10    [decreto 992 de 1930, normas que no estaban vi...\n",
       "11                                                   []\n",
       "12                               [decreto 2591 de 1991]\n",
       "Name: decretos, dtype: object"
      ]
     },
     "execution_count": 53,
     "metadata": {},
     "output_type": "execute_result"
    }
   ],
   "source": [
    "parquet_data['decretos'][10:13]"
   ]
  },
  {
   "cell_type": "code",
   "execution_count": 114,
   "id": "spectacular-control",
   "metadata": {},
   "outputs": [
    {
     "data": {
      "text/plain": [
       "[['decreto 992 de 1930, normas que no estaban vigentes  ya que habian sido subrogadas por el decreto ley 1355 de 1970',\n",
       "  'decreto 992 de 1930 fueron subrogados por  el decreto ley 1355 de 1970',\n",
       "  'decreto  992  de 1930, normatividad subrogada y modificada por el decreto ley 1355 de 1970',\n",
       "  'decreto ley 1355 de 1970 en su articulo 125 y siguientes,  regulo integralmente la materia a que se referia aquel',\n",
       "  'decreto ley 1355 de 1970 y  subsidiariamente por los codigos departamentales y distritales de policia']]"
      ]
     },
     "execution_count": 114,
     "metadata": {},
     "output_type": "execute_result"
    }
   ],
   "source": [
    "all_tags = [[t.lower() for t in tags] for tags in parquet_data['decretos'][10:11]]\n",
    "type(all_tags)\n",
    "all_tags\n",
    "# itemsets, rules = apriori(all_tags, min_support=0.001, min_confidence=0.01)\n",
    "# for r in rules:\n",
    "#     if r.confidence > 0.8:\n",
    "#         print(r)"
   ]
  },
  {
   "cell_type": "code",
   "execution_count": 48,
   "id": "musical-richardson",
   "metadata": {},
   "outputs": [
    {
     "name": "stdout",
     "output_type": "stream",
     "text": [
      "{decreto 992 de 1930 fueron subrogados por  el decreto ley 1355 de 1970} -> {decreto  992  de 1930, normatividad subrogada y modificada por el decreto ley 1355 de 1970} (conf: 1.000, supp: 1.000, lift: 1.000, conv: 0.000)\n",
      "{decreto  992  de 1930, normatividad subrogada y modificada por el decreto ley 1355 de 1970} -> {decreto 992 de 1930 fueron subrogados por  el decreto ley 1355 de 1970} (conf: 1.000, supp: 1.000, lift: 1.000, conv: 0.000)\n",
      "{decreto 992 de 1930, normas que no estaban vigentes  ya que habian sido subrogadas por el decreto ley 1355 de 1970} -> {decreto  992  de 1930, normatividad subrogada y modificada por el decreto ley 1355 de 1970} (conf: 1.000, supp: 1.000, lift: 1.000, conv: 0.000)\n",
      "{decreto  992  de 1930, normatividad subrogada y modificada por el decreto ley 1355 de 1970} -> {decreto 992 de 1930, normas que no estaban vigentes  ya que habian sido subrogadas por el decreto ley 1355 de 1970} (conf: 1.000, supp: 1.000, lift: 1.000, conv: 0.000)\n",
      "{decreto ley 1355 de 1970 en su articulo 125 y siguientes,  regulo integralmente la materia a que se referia aquel} -> {decreto  992  de 1930, normatividad subrogada y modificada por el decreto ley 1355 de 1970} (conf: 1.000, supp: 1.000, lift: 1.000, conv: 0.000)\n",
      "{decreto  992  de 1930, normatividad subrogada y modificada por el decreto ley 1355 de 1970} -> {decreto ley 1355 de 1970 en su articulo 125 y siguientes,  regulo integralmente la materia a que se referia aquel} (conf: 1.000, supp: 1.000, lift: 1.000, conv: 0.000)\n",
      "{decreto ley 1355 de 1970 y  subsidiariamente por los codigos departamentales y distritales de policia} -> {decreto  992  de 1930, normatividad subrogada y modificada por el decreto ley 1355 de 1970} (conf: 1.000, supp: 1.000, lift: 1.000, conv: 0.000)\n",
      "{decreto  992  de 1930, normatividad subrogada y modificada por el decreto ley 1355 de 1970} -> {decreto ley 1355 de 1970 y  subsidiariamente por los codigos departamentales y distritales de policia} (conf: 1.000, supp: 1.000, lift: 1.000, conv: 0.000)\n",
      "{decreto 992 de 1930, normas que no estaban vigentes  ya que habian sido subrogadas por el decreto ley 1355 de 1970} -> {decreto 992 de 1930 fueron subrogados por  el decreto ley 1355 de 1970} (conf: 1.000, supp: 1.000, lift: 1.000, conv: 0.000)\n",
      "{decreto 992 de 1930 fueron subrogados por  el decreto ley 1355 de 1970} -> {decreto 992 de 1930, normas que no estaban vigentes  ya que habian sido subrogadas por el decreto ley 1355 de 1970} (conf: 1.000, supp: 1.000, lift: 1.000, conv: 0.000)\n"
     ]
    }
   ],
   "source": [
    "all_tags = [[t.lower() for t in tags] for tags in parquet_data['decretos'][10:11]]\n",
    "type(all_tags)\n",
    "all_tags\n",
    "itemsets, rules = apriori(all_tags, min_support=0.001, min_confidence=0.01)\n",
    "count = 0\n",
    "for r in rules:\n",
    "    count = count + 1\n",
    "    if count > 10:\n",
    "        break\n",
    "    if r.confidence > 0.8:\n",
    "        print(r)"
   ]
  },
  {
   "cell_type": "code",
   "execution_count": 127,
   "id": "nuclear-burner",
   "metadata": {},
   "outputs": [
    {
     "name": "stdout",
     "output_type": "stream",
     "text": [
      "{1930} -> {1355} (conf: 1.000, supp: 1.000, lift: 1.000, conv: 0.000)\n",
      "{1355} -> {1930} (conf: 1.000, supp: 1.000, lift: 1.000, conv: 0.000)\n",
      "{1970} -> {1355} (conf: 1.000, supp: 1.000, lift: 1.000, conv: 0.000)\n",
      "{1355} -> {1970} (conf: 1.000, supp: 1.000, lift: 1.000, conv: 0.000)\n",
      "{992} -> {1355} (conf: 1.000, supp: 1.000, lift: 1.000, conv: 0.000)\n",
      "{1355} -> {992} (conf: 1.000, supp: 1.000, lift: 1.000, conv: 0.000)\n",
      "{de} -> {1355} (conf: 1.000, supp: 1.000, lift: 1.000, conv: 0.000)\n",
      "{1355} -> {de} (conf: 1.000, supp: 1.000, lift: 1.000, conv: 0.000)\n",
      "{decreto} -> {1355} (conf: 1.000, supp: 1.000, lift: 1.000, conv: 0.000)\n",
      "{1355} -> {decreto} (conf: 1.000, supp: 1.000, lift: 1.000, conv: 0.000)\n"
     ]
    }
   ],
   "source": [
    "\n",
    "all_tags = [tagged_data[1][0]]#[[t.lower() for t in tags] for tags in tagged_data[1][0]]\n",
    "itemsets, rules = apriori(all_tags, min_support=0.001, min_confidence=0.01)\n",
    "count = 0\n",
    "for r in rules:\n",
    "    if r.confidence > 0.8:\n",
    "        count = count + 1\n",
    "        if count > 10:\n",
    "            break;\n",
    "        print(r)"
   ]
  },
  {
   "cell_type": "code",
   "execution_count": 117,
   "id": "female-amateur",
   "metadata": {},
   "outputs": [
    {
     "data": {
      "text/plain": [
       "array([list(['decreto 2591 de 1991']),\n",
       "       list(['decreto 2591 de  1991, para los efectos alli contemplados', 'decreto 2591 de 1991 contempla: () la accion de tutela no  procedera: 1']),\n",
       "       list(['decreto 2591 de 1991', 'decreto  2591 de 1991, siendo objeto de analisis de constitucionalidad en la sentencia  c-134 de 1994, en la que se declararon inexequibles algunos de sus apartes y  exequibles otros[8], bajo el entendido de que  la accion de tutela procede siempre contra el particular que este prestando  cualquier servicio publico, y por violacion de cualquier derecho constitucional  fundamental']),\n",
       "       ...,\n",
       "       list(['decreto 2591 de 1991', 'decreto 1730 de 2001: incompatibilidad', 'decreto 1295 de 1994, las indemnizaciones sustitutivas de  vejez y de invalidez, son incompatibles con las pensiones de vejez y de  invalidez', 'decreto 758 de 1990), derogado por la ley 100 de  1993, que, a su vez, en este aspecto, fue modificada por la ley 797 de 2003-o  de un regimen anterior-', 'decreto 1730 de  2001: salvo  lo previsto en el articulo 53 del decreto 1295 de 1994, las indemnizaciones  sustitutivas de vejez y de invalidez, son incompatibles con las pensiones de  vejez y de invalidez', 'decreto 758 del mismo ano, el cual exige (i) tener mas de 55  anos de edad si es mujer y (ii) 500 semanas de cotizacion en los 20 anos  anteriores al cumplimiento de la edad o 1000 en cualquier tiempo', 'decreto 758 de  1990']),\n",
       "       list(['decreto  2591 de 1991', 'decreto 2591 de 1991 se establecieron los escenarios en los que se ha  determinado que se cuenta con legitimacion para presentar una accion de tutela:  (i) en ejercicio directo de la accion; (ii) por medio de representantes (caso  de los menores de edad, los incapaces absolutos, los interdictos y las personas  juridicas); (iii) a traves de apoderado judicial; y (iv) utilizando la figura  juridica de la agencia oficiosa', 'decreto 2591 de 1991 art', 'decreto 2591 de 1991']),\n",
       "       list(['decreto 2591 de 1991, para los fines alli contemplados', 'decreto ley 1795 de 2000', 'decreto 1796  de 2000 (folio 44 reverso, cuaderno principal)', 'decreto ley 1214 de 1990, con excepcion de aquel  que se vincule a partir de la vigencia de la presente ley, ni a los miembros no  remunerados de las corporaciones publicas', 'decreto 1795 de 2000', 'decreto 1795 de 2000', 'decreto 1795  de 2000', 'decreto 1795  de 2000', 'decreto 1795  de 2000', 'decreto estatutario 2591 de 1991'])],\n",
       "      dtype=object)"
      ]
     },
     "execution_count": 117,
     "metadata": {},
     "output_type": "execute_result"
    }
   ],
   "source": [
    "dec['decretos'].values"
   ]
  },
  {
   "cell_type": "code",
   "execution_count": 145,
   "id": "statistical-relationship",
   "metadata": {},
   "outputs": [
    {
     "data": {
      "text/html": [
       "<div>\n",
       "<style scoped>\n",
       "    .dataframe tbody tr th:only-of-type {\n",
       "        vertical-align: middle;\n",
       "    }\n",
       "\n",
       "    .dataframe tbody tr th {\n",
       "        vertical-align: top;\n",
       "    }\n",
       "\n",
       "    .dataframe thead th {\n",
       "        text-align: right;\n",
       "    }\n",
       "</style>\n",
       "<table border=\"1\" class=\"dataframe\">\n",
       "  <thead>\n",
       "    <tr style=\"text-align: right;\">\n",
       "      <th></th>\n",
       "      <th>folios</th>\n",
       "      <th>articulos</th>\n",
       "      <th>sentencias</th>\n",
       "      <th>decretos</th>\n",
       "      <th>reference</th>\n",
       "    </tr>\n",
       "  </thead>\n",
       "  <tbody>\n",
       "    <tr>\n",
       "      <th>1</th>\n",
       "      <td>[articulo 36 del decreto 2591 de  1991, para l...</td>\n",
       "      <td>[articulo 36 del decreto 2591 de  1991, para l...</td>\n",
       "      <td>[sentencia proferida por el juzgado primero pe...</td>\n",
       "      <td>[decreto 2591 de  1991, para los efectos alli ...</td>\n",
       "      <td>T-3176539</td>\n",
       "    </tr>\n",
       "    <tr>\n",
       "      <th>2</th>\n",
       "      <td>[articulos 86 y 241-9 de la  constitucion poli...</td>\n",
       "      <td>[articulos 86 y 241-9 de la  constitucion poli...</td>\n",
       "      <td>[sentencia  c-134 de 1994, en la que se declar...</td>\n",
       "      <td>[decreto 2591 de 1991, decreto  2591 de 1991, ...</td>\n",
       "      <td>T-3180007</td>\n",
       "    </tr>\n",
       "    <tr>\n",
       "      <th>3</th>\n",
       "      <td>[articulo 239 del codigo sustantivo del trabaj...</td>\n",
       "      <td>[articulo 239 del codigo sustantivo del trabaj...</td>\n",
       "      <td>[sentencia proferida el siete (7) de mayo de 2...</td>\n",
       "      <td>[decreto 2591 de 1991, decreto 3135 de 1968, e...</td>\n",
       "      <td>T-2764991 Y 2822307</td>\n",
       "    </tr>\n",
       "    <tr>\n",
       "      <th>4</th>\n",
       "      <td>[articulos 86 y 241 numeral 9° de la constituc...</td>\n",
       "      <td>[articulos 86 y 241 numeral 9° de la constituc...</td>\n",
       "      <td>[sentencia proferida dentro del proceso de la ...</td>\n",
       "      <td>[decreto 2591 de 1991]</td>\n",
       "      <td>T-3201980</td>\n",
       "    </tr>\n",
       "  </tbody>\n",
       "</table>\n",
       "</div>"
      ],
      "text/plain": [
       "                                              folios  \\\n",
       "1  [articulo 36 del decreto 2591 de  1991, para l...   \n",
       "2  [articulos 86 y 241-9 de la  constitucion poli...   \n",
       "3  [articulo 239 del codigo sustantivo del trabaj...   \n",
       "4  [articulos 86 y 241 numeral 9° de la constituc...   \n",
       "\n",
       "                                           articulos  \\\n",
       "1  [articulo 36 del decreto 2591 de  1991, para l...   \n",
       "2  [articulos 86 y 241-9 de la  constitucion poli...   \n",
       "3  [articulo 239 del codigo sustantivo del trabaj...   \n",
       "4  [articulos 86 y 241 numeral 9° de la constituc...   \n",
       "\n",
       "                                          sentencias  \\\n",
       "1  [sentencia proferida por el juzgado primero pe...   \n",
       "2  [sentencia  c-134 de 1994, en la que se declar...   \n",
       "3  [sentencia proferida el siete (7) de mayo de 2...   \n",
       "4  [sentencia proferida dentro del proceso de la ...   \n",
       "\n",
       "                                            decretos            reference  \n",
       "1  [decreto 2591 de  1991, para los efectos alli ...            T-3176539  \n",
       "2  [decreto 2591 de 1991, decreto  2591 de 1991, ...            T-3180007  \n",
       "3  [decreto 2591 de 1991, decreto 3135 de 1968, e...  T-2764991 Y 2822307  \n",
       "4                             [decreto 2591 de 1991]            T-3201980  "
      ]
     },
     "execution_count": 145,
     "metadata": {},
     "output_type": "execute_result"
    }
   ],
   "source": [
    "parquet_data[1:5]"
   ]
  },
  {
   "cell_type": "code",
   "execution_count": 133,
   "id": "silent-design",
   "metadata": {},
   "outputs": [
    {
     "name": "stdout",
     "output_type": "stream",
     "text": [
      "{decreto 3135 de 1968, en el entendido de que,  en los terminos de esta sentencia, y debido al principio de igualdad (cp art} -> {decreto 2591 de 1991} (conf: 1.000, supp: 0.002, lift: 2.685, conv: 627570872.707)\n"
     ]
    }
   ],
   "source": [
    "all_tags = [[t.lower() for t in tags] for tags in dec['decretos'].values]\n",
    "itemsets, rules = apriori(all_tags, min_support=0.001, min_confidence=0.2)\n",
    "count = 0\n",
    "for r in rules:\n",
    "    if r.confidence > 0.8:\n",
    "        count = count + 1\n",
    "        if count > 1:\n",
    "            break;\n",
    "        print(r)"
   ]
  },
  {
   "cell_type": "code",
   "execution_count": 96,
   "id": "municipal-webmaster",
   "metadata": {},
   "outputs": [],
   "source": [
    "all_tags = [[t.lower() for t in tags] for tags in dec['decretos'].values]\n",
    "itemsets, rules = apriori(all_tags, min_support=0.001, min_confidence=0.01)\n",
    "for r in rules:\n",
    "    if r.confidence > 0.2:\n",
    "        print(r)"
   ]
  },
  {
   "cell_type": "code",
   "execution_count": 148,
   "id": "serious-quilt",
   "metadata": {},
   "outputs": [
    {
     "name": "stdout",
     "output_type": "stream",
     "text": [
      "353604\n"
     ]
    }
   ],
   "source": [
    "all_tags = [[t.lower() for t in tags] for tags in dec['articulos'].values]\n",
    "itemsets, rules = apriori(all_tags, min_support=0.001, min_confidence=0.01)\n",
    "print(len(rules))\n",
    "# for r in rules:\n",
    "#     if r.confidence > 0.8:\n",
    "#         print(r)"
   ]
  },
  {
   "cell_type": "code",
   "execution_count": null,
   "id": "minor-classification",
   "metadata": {},
   "outputs": [],
   "source": [
    "all_tags = [[t.lower() for t in tags] for tags in dec['sentencias'].values]\n",
    "itemsets, rules = apriori(all_tags, min_support=0.001, min_confidence=0.01)\n",
    "print(len(rules))\n",
    "for r in rules:\n",
    "    if r.confidence > 0.8:\n",
    "        print(r)"
   ]
  },
  {
   "cell_type": "code",
   "execution_count": null,
   "id": "minor-helen",
   "metadata": {},
   "outputs": [],
   "source": [
    "all_tags = [[t.lower() for t in tags] for tags in dec['folios'].values]\n",
    "itemsets, rules = apriori(all_tags, min_support=0.001, min_confidence=0.01)\n",
    "print(len(rules))\n",
    "for r in rules:\n",
    "    if r.confidence > 0.8:\n",
    "        print(r)"
   ]
  }
 ],
 "metadata": {
  "kernelspec": {
   "display_name": "Python 3",
   "language": "python",
   "name": "python3"
  },
  "language_info": {
   "codemirror_mode": {
    "name": "ipython",
    "version": 3
   },
   "file_extension": ".py",
   "mimetype": "text/x-python",
   "name": "python",
   "nbconvert_exporter": "python",
   "pygments_lexer": "ipython3",
   "version": "3.8.5"
  }
 },
 "nbformat": 4,
 "nbformat_minor": 5
}
