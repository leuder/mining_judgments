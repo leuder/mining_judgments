{
 "cells": [
  {
   "cell_type": "code",
   "execution_count": 1,
   "id": "central-engine",
   "metadata": {},
   "outputs": [],
   "source": [
    "import os\n",
    "import re\n",
    "import csv\n",
    "import string\n",
    "import unicodedata\n",
    "import pandas as pd\n",
    "import matplotlib.pyplot as plt"
   ]
  },
  {
   "cell_type": "code",
   "execution_count": 2,
   "id": "cathedral-disposition",
   "metadata": {},
   "outputs": [],
   "source": [
    "data = pd.read_csv(\"data.csv\",  encoding='utf8', low_memory=False )"
   ]
  },
  {
   "cell_type": "code",
   "execution_count": 3,
   "id": "suspended-dependence",
   "metadata": {},
   "outputs": [
    {
     "data": {
      "text/plain": [
       "(4410, 12)"
      ]
     },
     "execution_count": 3,
     "metadata": {},
     "output_type": "execute_result"
    }
   ],
   "source": [
    "data.shape"
   ]
  },
  {
   "cell_type": "code",
   "execution_count": 4,
   "id": "destroyed-vampire",
   "metadata": {},
   "outputs": [
    {
     "data": {
      "text/html": [
       "<div>\n",
       "<style scoped>\n",
       "    .dataframe tbody tr th:only-of-type {\n",
       "        vertical-align: middle;\n",
       "    }\n",
       "\n",
       "    .dataframe tbody tr th {\n",
       "        vertical-align: top;\n",
       "    }\n",
       "\n",
       "    .dataframe thead th {\n",
       "        text-align: right;\n",
       "    }\n",
       "</style>\n",
       "<table border=\"1\" class=\"dataframe\">\n",
       "  <thead>\n",
       "    <tr style=\"text-align: right;\">\n",
       "      <th></th>\n",
       "      <th>_id</th>\n",
       "      <th>collective</th>\n",
       "      <th>date</th>\n",
       "      <th>file_id</th>\n",
       "      <th>judicature</th>\n",
       "      <th>participants</th>\n",
       "      <th>report_receipt_at</th>\n",
       "      <th>sentence_id</th>\n",
       "      <th>text</th>\n",
       "      <th>topic</th>\n",
       "      <th>url</th>\n",
       "      <th>vocabulary</th>\n",
       "    </tr>\n",
       "  </thead>\n",
       "  <tbody>\n",
       "    <tr>\n",
       "      <th>4408</th>\n",
       "      <td>corteconstitucional_A. 175A/19</td>\n",
       "      <td>{\"entity\": {\"$oid\": \"5fa5017c5821d011a2a92372\"}}</td>\n",
       "      <td>2019-04-03T00:00:00.000Z</td>\n",
       "      <td>T-7071794</td>\n",
       "      <td>[{\"name\": \"ALBERTO ROJAS RÍOS\", \"rol\": \"PONENT...</td>\n",
       "      <td>[{\"name\": \"DARIO GOMEZ SUAREZ\", \"role\": \"PLAIN...</td>\n",
       "      <td>2019-07-08</td>\n",
       "      <td>A. 175A/19</td>\n",
       "      <td>Auto 175A/19\\n \\n \\nReferencia: Expediente T-7...</td>\n",
       "      <td>El accionante le solicitó a la Corporación dec...</td>\n",
       "      <td>https://www.corteconstitucional.gov.co/relator...</td>\n",
       "      <td>[{\"text\": \"auto\", \"qty\": 7}, {\"text\": \"referen...</td>\n",
       "    </tr>\n",
       "    <tr>\n",
       "      <th>4409</th>\n",
       "      <td>corteconstitucional_A. 121/19</td>\n",
       "      <td>{\"entity\": {\"$oid\": \"5fa501875821d011a2a93763\"}}</td>\n",
       "      <td>2019-03-13T00:00:00.000Z</td>\n",
       "      <td>T-6843600</td>\n",
       "      <td>[{\"name\": \"GLORIA STELLA ORTIZ DELGADO\", \"rol\"...</td>\n",
       "      <td>[{\"name\": \"COMISION INTERECLESIAL DE JUSTICIA ...</td>\n",
       "      <td>2019-03-21</td>\n",
       "      <td>A. 121/19</td>\n",
       "      <td>Auto\\r\\n121/19\\n \\n \\nReferencia: expediente T...</td>\n",
       "      <td>Con el presente auto se suspenden los términos...</td>\n",
       "      <td>https://www.corteconstitucional.gov.co/relator...</td>\n",
       "      <td>[{\"text\": \"auto\", \"qty\": 17}, {\"text\": \"refere...</td>\n",
       "    </tr>\n",
       "  </tbody>\n",
       "</table>\n",
       "</div>"
      ],
      "text/plain": [
       "                                 _id  \\\n",
       "4408  corteconstitucional_A. 175A/19   \n",
       "4409   corteconstitucional_A. 121/19   \n",
       "\n",
       "                                            collective  \\\n",
       "4408  {\"entity\": {\"$oid\": \"5fa5017c5821d011a2a92372\"}}   \n",
       "4409  {\"entity\": {\"$oid\": \"5fa501875821d011a2a93763\"}}   \n",
       "\n",
       "                          date    file_id  \\\n",
       "4408  2019-04-03T00:00:00.000Z  T-7071794   \n",
       "4409  2019-03-13T00:00:00.000Z  T-6843600   \n",
       "\n",
       "                                             judicature  \\\n",
       "4408  [{\"name\": \"ALBERTO ROJAS RÍOS\", \"rol\": \"PONENT...   \n",
       "4409  [{\"name\": \"GLORIA STELLA ORTIZ DELGADO\", \"rol\"...   \n",
       "\n",
       "                                           participants report_receipt_at  \\\n",
       "4408  [{\"name\": \"DARIO GOMEZ SUAREZ\", \"role\": \"PLAIN...        2019-07-08   \n",
       "4409  [{\"name\": \"COMISION INTERECLESIAL DE JUSTICIA ...        2019-03-21   \n",
       "\n",
       "     sentence_id                                               text  \\\n",
       "4408  A. 175A/19  Auto 175A/19\\n \\n \\nReferencia: Expediente T-7...   \n",
       "4409   A. 121/19  Auto\\r\\n121/19\\n \\n \\nReferencia: expediente T...   \n",
       "\n",
       "                                                  topic  \\\n",
       "4408  El accionante le solicitó a la Corporación dec...   \n",
       "4409  Con el presente auto se suspenden los términos...   \n",
       "\n",
       "                                                    url  \\\n",
       "4408  https://www.corteconstitucional.gov.co/relator...   \n",
       "4409  https://www.corteconstitucional.gov.co/relator...   \n",
       "\n",
       "                                             vocabulary  \n",
       "4408  [{\"text\": \"auto\", \"qty\": 7}, {\"text\": \"referen...  \n",
       "4409  [{\"text\": \"auto\", \"qty\": 17}, {\"text\": \"refere...  "
      ]
     },
     "execution_count": 4,
     "metadata": {},
     "output_type": "execute_result"
    }
   ],
   "source": [
    "data.tail(2)"
   ]
  },
  {
   "cell_type": "code",
   "execution_count": 5,
   "id": "baking-tennis",
   "metadata": {},
   "outputs": [],
   "source": [
    "data = data.drop([\"judicature\", \"participants\", \"collective\", \"_id\", \"topic\", \"url\", \"vocabulary\", \"date\"], axis=1)"
   ]
  },
  {
   "cell_type": "code",
   "execution_count": 6,
   "id": "manufactured-parallel",
   "metadata": {},
   "outputs": [
    {
     "data": {
      "text/html": [
       "<div>\n",
       "<style scoped>\n",
       "    .dataframe tbody tr th:only-of-type {\n",
       "        vertical-align: middle;\n",
       "    }\n",
       "\n",
       "    .dataframe tbody tr th {\n",
       "        vertical-align: top;\n",
       "    }\n",
       "\n",
       "    .dataframe thead th {\n",
       "        text-align: right;\n",
       "    }\n",
       "</style>\n",
       "<table border=\"1\" class=\"dataframe\">\n",
       "  <thead>\n",
       "    <tr style=\"text-align: right;\">\n",
       "      <th></th>\n",
       "      <th>file_id</th>\n",
       "      <th>report_receipt_at</th>\n",
       "      <th>sentence_id</th>\n",
       "      <th>text</th>\n",
       "    </tr>\n",
       "  </thead>\n",
       "  <tbody>\n",
       "    <tr>\n",
       "      <th>0</th>\n",
       "      <td>T-3140852</td>\n",
       "      <td>2012-08-08</td>\n",
       "      <td>T-017/12</td>\n",
       "      <td>REPÚBLICA DE COLOMBIA\\n\\n\\nSentencia T-017/12\\...</td>\n",
       "    </tr>\n",
       "    <tr>\n",
       "      <th>1</th>\n",
       "      <td>T-3183107</td>\n",
       "      <td>2012-05-18</td>\n",
       "      <td>T-016/12</td>\n",
       "      <td>REPÚBLICA DE COLOMBIA\\n\\n\\nSentencia\\r\\nT-016/...</td>\n",
       "    </tr>\n",
       "    <tr>\n",
       "      <th>2</th>\n",
       "      <td>T-3187308</td>\n",
       "      <td>2013-05-07</td>\n",
       "      <td>T-014/12</td>\n",
       "      <td>REPÚBLICA DE COLOMBIA\\n\\n\\nSentencia\\r\\nT-014/...</td>\n",
       "    </tr>\n",
       "    <tr>\n",
       "      <th>3</th>\n",
       "      <td>T-3182540</td>\n",
       "      <td>2012-05-18</td>\n",
       "      <td>T-015/12</td>\n",
       "      <td>REPÚBLICA DE COLOMBIA\\n\\n\\nSentencia T-015/12\\...</td>\n",
       "    </tr>\n",
       "    <tr>\n",
       "      <th>4</th>\n",
       "      <td>T-2719663</td>\n",
       "      <td>2011-05-10</td>\n",
       "      <td>T-012/11</td>\n",
       "      <td>REPÚBLICA DE COLOMBIA\\n\\n\\nSentencia T-012/11\\...</td>\n",
       "    </tr>\n",
       "  </tbody>\n",
       "</table>\n",
       "</div>"
      ],
      "text/plain": [
       "     file_id report_receipt_at sentence_id  \\\n",
       "0  T-3140852        2012-08-08    T-017/12   \n",
       "1  T-3183107        2012-05-18    T-016/12   \n",
       "2  T-3187308        2013-05-07    T-014/12   \n",
       "3  T-3182540        2012-05-18    T-015/12   \n",
       "4  T-2719663        2011-05-10    T-012/11   \n",
       "\n",
       "                                                text  \n",
       "0  REPÚBLICA DE COLOMBIA\\n\\n\\nSentencia T-017/12\\...  \n",
       "1  REPÚBLICA DE COLOMBIA\\n\\n\\nSentencia\\r\\nT-016/...  \n",
       "2  REPÚBLICA DE COLOMBIA\\n\\n\\nSentencia\\r\\nT-014/...  \n",
       "3  REPÚBLICA DE COLOMBIA\\n\\n\\nSentencia T-015/12\\...  \n",
       "4  REPÚBLICA DE COLOMBIA\\n\\n\\nSentencia T-012/11\\...  "
      ]
     },
     "execution_count": 6,
     "metadata": {},
     "output_type": "execute_result"
    }
   ],
   "source": [
    "data.head()"
   ]
  },
  {
   "cell_type": "code",
   "execution_count": 7,
   "id": "pacific-edward",
   "metadata": {},
   "outputs": [
    {
     "data": {
      "text/html": [
       "<div>\n",
       "<style scoped>\n",
       "    .dataframe tbody tr th:only-of-type {\n",
       "        vertical-align: middle;\n",
       "    }\n",
       "\n",
       "    .dataframe tbody tr th {\n",
       "        vertical-align: top;\n",
       "    }\n",
       "\n",
       "    .dataframe thead th {\n",
       "        text-align: right;\n",
       "    }\n",
       "</style>\n",
       "<table border=\"1\" class=\"dataframe\">\n",
       "  <thead>\n",
       "    <tr style=\"text-align: right;\">\n",
       "      <th></th>\n",
       "      <th>file_id</th>\n",
       "      <th>report_receipt_at</th>\n",
       "      <th>sentence_id</th>\n",
       "      <th>text</th>\n",
       "    </tr>\n",
       "  </thead>\n",
       "  <tbody>\n",
       "    <tr>\n",
       "      <th>0</th>\n",
       "      <td>T-3140852</td>\n",
       "      <td>2012-08-08</td>\n",
       "      <td>T-017/12</td>\n",
       "      <td>REPÚBLICA DE COLOMBIA\\n\\n\\nSentencia T-017/12\\...</td>\n",
       "    </tr>\n",
       "  </tbody>\n",
       "</table>\n",
       "</div>"
      ],
      "text/plain": [
       "     file_id report_receipt_at sentence_id  \\\n",
       "0  T-3140852        2012-08-08    T-017/12   \n",
       "\n",
       "                                                text  \n",
       "0  REPÚBLICA DE COLOMBIA\\n\\n\\nSentencia T-017/12\\...  "
      ]
     },
     "execution_count": 7,
     "metadata": {},
     "output_type": "execute_result"
    }
   ],
   "source": [
    "data.head(1)"
   ]
  },
  {
   "cell_type": "code",
   "execution_count": 8,
   "id": "disturbed-brand",
   "metadata": {},
   "outputs": [],
   "source": [
    "data[\"text\"] = data[\"text\"].str.lower()"
   ]
  },
  {
   "cell_type": "code",
   "execution_count": 9,
   "id": "nonprofit-hamburg",
   "metadata": {},
   "outputs": [
    {
     "data": {
      "text/plain": [
       "4410"
      ]
     },
     "execution_count": 9,
     "metadata": {},
     "output_type": "execute_result"
    }
   ],
   "source": [
    "len(data[\"text\"])"
   ]
  },
  {
   "cell_type": "code",
   "execution_count": 10,
   "id": "standing-warrior",
   "metadata": {},
   "outputs": [
    {
     "data": {
      "text/html": [
       "<div>\n",
       "<style scoped>\n",
       "    .dataframe tbody tr th:only-of-type {\n",
       "        vertical-align: middle;\n",
       "    }\n",
       "\n",
       "    .dataframe tbody tr th {\n",
       "        vertical-align: top;\n",
       "    }\n",
       "\n",
       "    .dataframe thead th {\n",
       "        text-align: right;\n",
       "    }\n",
       "</style>\n",
       "<table border=\"1\" class=\"dataframe\">\n",
       "  <thead>\n",
       "    <tr style=\"text-align: right;\">\n",
       "      <th></th>\n",
       "      <th>file_id</th>\n",
       "      <th>report_receipt_at</th>\n",
       "      <th>sentence_id</th>\n",
       "      <th>text</th>\n",
       "    </tr>\n",
       "  </thead>\n",
       "  <tbody>\n",
       "    <tr>\n",
       "      <th>0</th>\n",
       "      <td>T-3140852</td>\n",
       "      <td>2012-08-08</td>\n",
       "      <td>T-017/12</td>\n",
       "      <td>república de colombia\\n\\n\\nsentencia t-017/12\\...</td>\n",
       "    </tr>\n",
       "    <tr>\n",
       "      <th>1</th>\n",
       "      <td>T-3183107</td>\n",
       "      <td>2012-05-18</td>\n",
       "      <td>T-016/12</td>\n",
       "      <td>república de colombia\\n\\n\\nsentencia\\r\\nt-016/...</td>\n",
       "    </tr>\n",
       "    <tr>\n",
       "      <th>2</th>\n",
       "      <td>T-3187308</td>\n",
       "      <td>2013-05-07</td>\n",
       "      <td>T-014/12</td>\n",
       "      <td>república de colombia\\n\\n\\nsentencia\\r\\nt-014/...</td>\n",
       "    </tr>\n",
       "    <tr>\n",
       "      <th>3</th>\n",
       "      <td>T-3182540</td>\n",
       "      <td>2012-05-18</td>\n",
       "      <td>T-015/12</td>\n",
       "      <td>república de colombia\\n\\n\\nsentencia t-015/12\\...</td>\n",
       "    </tr>\n",
       "    <tr>\n",
       "      <th>4</th>\n",
       "      <td>T-2719663</td>\n",
       "      <td>2011-05-10</td>\n",
       "      <td>T-012/11</td>\n",
       "      <td>república de colombia\\n\\n\\nsentencia t-012/11\\...</td>\n",
       "    </tr>\n",
       "    <tr>\n",
       "      <th>...</th>\n",
       "      <td>...</td>\n",
       "      <td>...</td>\n",
       "      <td>...</td>\n",
       "      <td>...</td>\n",
       "    </tr>\n",
       "    <tr>\n",
       "      <th>4405</th>\n",
       "      <td>T-6403234</td>\n",
       "      <td>2019-04-08</td>\n",
       "      <td>A. 177/19</td>\n",
       "      <td>auto 177/19\\n \\nreferencia:\\r\\nexpediente t-64...</td>\n",
       "    </tr>\n",
       "    <tr>\n",
       "      <th>4406</th>\n",
       "      <td>T-6945381</td>\n",
       "      <td>2019-05-27</td>\n",
       "      <td>A. 177A/19</td>\n",
       "      <td>auto\\r\\n177a/19\\n \\n \\nreferencia:\\r\\nexpedien...</td>\n",
       "    </tr>\n",
       "    <tr>\n",
       "      <th>4407</th>\n",
       "      <td>T-7064392 Y T-7073283</td>\n",
       "      <td>2019-04-08</td>\n",
       "      <td>SU.139/19</td>\n",
       "      <td>sentencia\\r\\nsu139/19 \\n \\naccion de tutela co...</td>\n",
       "    </tr>\n",
       "    <tr>\n",
       "      <th>4408</th>\n",
       "      <td>T-7071794</td>\n",
       "      <td>2019-07-08</td>\n",
       "      <td>A. 175A/19</td>\n",
       "      <td>auto 175a/19\\n \\n \\nreferencia: expediente t-7...</td>\n",
       "    </tr>\n",
       "    <tr>\n",
       "      <th>4409</th>\n",
       "      <td>T-6843600</td>\n",
       "      <td>2019-03-21</td>\n",
       "      <td>A. 121/19</td>\n",
       "      <td>auto\\r\\n121/19\\n \\n \\nreferencia: expediente t...</td>\n",
       "    </tr>\n",
       "  </tbody>\n",
       "</table>\n",
       "<p>4410 rows × 4 columns</p>\n",
       "</div>"
      ],
      "text/plain": [
       "                    file_id report_receipt_at sentence_id  \\\n",
       "0                 T-3140852        2012-08-08    T-017/12   \n",
       "1                 T-3183107        2012-05-18    T-016/12   \n",
       "2                 T-3187308        2013-05-07    T-014/12   \n",
       "3                 T-3182540        2012-05-18    T-015/12   \n",
       "4                 T-2719663        2011-05-10    T-012/11   \n",
       "...                     ...               ...         ...   \n",
       "4405              T-6403234        2019-04-08   A. 177/19   \n",
       "4406              T-6945381        2019-05-27  A. 177A/19   \n",
       "4407  T-7064392 Y T-7073283        2019-04-08   SU.139/19   \n",
       "4408              T-7071794        2019-07-08  A. 175A/19   \n",
       "4409              T-6843600        2019-03-21   A. 121/19   \n",
       "\n",
       "                                                   text  \n",
       "0     república de colombia\\n\\n\\nsentencia t-017/12\\...  \n",
       "1     república de colombia\\n\\n\\nsentencia\\r\\nt-016/...  \n",
       "2     república de colombia\\n\\n\\nsentencia\\r\\nt-014/...  \n",
       "3     república de colombia\\n\\n\\nsentencia t-015/12\\...  \n",
       "4     república de colombia\\n\\n\\nsentencia t-012/11\\...  \n",
       "...                                                 ...  \n",
       "4405  auto 177/19\\n \\nreferencia:\\r\\nexpediente t-64...  \n",
       "4406  auto\\r\\n177a/19\\n \\n \\nreferencia:\\r\\nexpedien...  \n",
       "4407  sentencia\\r\\nsu139/19 \\n \\naccion de tutela co...  \n",
       "4408  auto 175a/19\\n \\n \\nreferencia: expediente t-7...  \n",
       "4409  auto\\r\\n121/19\\n \\n \\nreferencia: expediente t...  \n",
       "\n",
       "[4410 rows x 4 columns]"
      ]
     },
     "execution_count": 10,
     "metadata": {},
     "output_type": "execute_result"
    }
   ],
   "source": [
    "data"
   ]
  },
  {
   "cell_type": "code",
   "execution_count": 11,
   "id": "muslim-mailman",
   "metadata": {},
   "outputs": [],
   "source": [
    "new_data = pd.DataFrame([], columns = ['file_id', 'antecedentes' , 'decision'])"
   ]
  },
  {
   "cell_type": "code",
   "execution_count": 12,
   "id": "cordless-investigation",
   "metadata": {},
   "outputs": [
    {
     "data": {
      "text/html": [
       "<div>\n",
       "<style scoped>\n",
       "    .dataframe tbody tr th:only-of-type {\n",
       "        vertical-align: middle;\n",
       "    }\n",
       "\n",
       "    .dataframe tbody tr th {\n",
       "        vertical-align: top;\n",
       "    }\n",
       "\n",
       "    .dataframe thead th {\n",
       "        text-align: right;\n",
       "    }\n",
       "</style>\n",
       "<table border=\"1\" class=\"dataframe\">\n",
       "  <thead>\n",
       "    <tr style=\"text-align: right;\">\n",
       "      <th></th>\n",
       "      <th>file_id</th>\n",
       "      <th>antecedentes</th>\n",
       "      <th>decision</th>\n",
       "    </tr>\n",
       "  </thead>\n",
       "  <tbody>\n",
       "  </tbody>\n",
       "</table>\n",
       "</div>"
      ],
      "text/plain": [
       "Empty DataFrame\n",
       "Columns: [file_id, antecedentes, decision]\n",
       "Index: []"
      ]
     },
     "execution_count": 12,
     "metadata": {},
     "output_type": "execute_result"
    }
   ],
   "source": [
    "new_data"
   ]
  },
  {
   "cell_type": "code",
   "execution_count": 13,
   "id": "complete-collar",
   "metadata": {},
   "outputs": [],
   "source": [
    "def quitar_tildes(cadena):\n",
    "    s = ''.join((c for c in unicodedata.normalize('NFD',cadena) if unicodedata.category(c) != 'Mn'))\n",
    "    return s"
   ]
  },
  {
   "cell_type": "code",
   "execution_count": 14,
   "id": "analyzed-cornell",
   "metadata": {},
   "outputs": [],
   "source": [
    "def get_segment(data):\n",
    "    lista_df = []\n",
    "    for index, row in data.iterrows():\n",
    "        texto = re.split(\n",
    "            r'[\\n]+[(^i|^v|)]+\\.\\s{0,}[(\\w)]{0,}?', \n",
    "            quitar_tildes(row[\"text\"])\n",
    "        )\n",
    "        if len(texto) > 4:\n",
    "            lista_df.append({\"file_id\": row[\"file_id\"] , \"antecedentes\": texto[1], \"decision\": texto[4]})\n",
    "\n",
    "    return lista_df"
   ]
  },
  {
   "cell_type": "code",
   "execution_count": 15,
   "id": "opposed-honor",
   "metadata": {},
   "outputs": [],
   "source": [
    "new_data = pd.DataFrame(get_segment(data), columns = [\"file_id\", 'antecedentes' , 'decision'])"
   ]
  },
  {
   "cell_type": "code",
   "execution_count": 16,
   "id": "accompanied-testament",
   "metadata": {},
   "outputs": [
    {
     "data": {
      "text/html": [
       "<div>\n",
       "<style scoped>\n",
       "    .dataframe tbody tr th:only-of-type {\n",
       "        vertical-align: middle;\n",
       "    }\n",
       "\n",
       "    .dataframe tbody tr th {\n",
       "        vertical-align: top;\n",
       "    }\n",
       "\n",
       "    .dataframe thead th {\n",
       "        text-align: right;\n",
       "    }\n",
       "</style>\n",
       "<table border=\"1\" class=\"dataframe\">\n",
       "  <thead>\n",
       "    <tr style=\"text-align: right;\">\n",
       "      <th></th>\n",
       "      <th>file_id</th>\n",
       "      <th>antecedentes</th>\n",
       "      <th>decision</th>\n",
       "    </tr>\n",
       "  </thead>\n",
       "  <tbody>\n",
       "    <tr>\n",
       "      <th>0</th>\n",
       "      <td>T-3187308</td>\n",
       "      <td>antecedentes\\n \\n1. hechos\\n \\n1. el 27 de jul...</td>\n",
       "      <td>decision\\n \\ncon\\r\\nfundamento en las consider...</td>\n",
       "    </tr>\n",
       "    <tr>\n",
       "      <th>1</th>\n",
       "      <td>T-2719663</td>\n",
       "      <td>antecedentes\\n \\n1.    hechos\\n \\nel defensor ...</td>\n",
       "      <td>decision\\n \\nen merito de lo expuesto, la\\r\\ns...</td>\n",
       "    </tr>\n",
       "    <tr>\n",
       "      <th>2</th>\n",
       "      <td>T-3176539</td>\n",
       "      <td>antecedentes\\n \\nel ocho (8) de junio de dos m...</td>\n",
       "      <td>decision\\n \\nen merito de lo expuesto, la sala...</td>\n",
       "    </tr>\n",
       "    <tr>\n",
       "      <th>3</th>\n",
       "      <td>T-3180007</td>\n",
       "      <td>antecedentes\\n \\nel senor juan antonio, a trav...</td>\n",
       "      <td>consideraciones de la corte constitucional\\n \\...</td>\n",
       "    </tr>\n",
       "    <tr>\n",
       "      <th>4</th>\n",
       "      <td>T-2764991 Y 2822307</td>\n",
       "      <td>antecedentes\\n \\n1. hechos\\n \\nlos hechos rela...</td>\n",
       "      <td>decision \\n \\nen merito de lo expuesto, la sal...</td>\n",
       "    </tr>\n",
       "    <tr>\n",
       "      <th>...</th>\n",
       "      <td>...</td>\n",
       "      <td>...</td>\n",
       "      <td>...</td>\n",
       "    </tr>\n",
       "    <tr>\n",
       "      <th>1857</th>\n",
       "      <td>T-7128811</td>\n",
       "      <td>antecedentes\\n \\n1. hechos\\n \\n\\n1.1 la senora...</td>\n",
       "      <td>que no esten\\r\\nexpresamente incluidos en el p...</td>\n",
       "    </tr>\n",
       "    <tr>\n",
       "      <th>1858</th>\n",
       "      <td>T-6960341</td>\n",
       "      <td>antecedentes \\n \\n1. hechos y relato contenido...</td>\n",
       "      <td>pruebas decretadas en sede de revision \\n \\nel...</td>\n",
       "    </tr>\n",
       "    <tr>\n",
       "      <th>1859</th>\n",
       "      <td>T-7147012</td>\n",
       "      <td>antecedentes\\n \\nherley\\r\\nramirez alzate pres...</td>\n",
       "      <td>existencia\\r\\nde un peligro especifico e indiv...</td>\n",
       "    </tr>\n",
       "    <tr>\n",
       "      <th>1860</th>\n",
       "      <td>T-7103649</td>\n",
       "      <td>antecedentes\\n \\na. hechos y pretensiones\\n \\n...</td>\n",
       "      <td>decision\\n \\nen merito de lo expuesto, la sala...</td>\n",
       "    </tr>\n",
       "    <tr>\n",
       "      <th>1861</th>\n",
       "      <td>T-6882209</td>\n",
       "      <td>antecedentes\\n \\n1.     hechos relevantes\\n \\n...</td>\n",
       "      <td>sintesis\\n \\nen el presente caso, correspondio...</td>\n",
       "    </tr>\n",
       "  </tbody>\n",
       "</table>\n",
       "<p>1862 rows × 3 columns</p>\n",
       "</div>"
      ],
      "text/plain": [
       "                  file_id                                       antecedentes  \\\n",
       "0               T-3187308  antecedentes\\n \\n1. hechos\\n \\n1. el 27 de jul...   \n",
       "1               T-2719663  antecedentes\\n \\n1.    hechos\\n \\nel defensor ...   \n",
       "2               T-3176539  antecedentes\\n \\nel ocho (8) de junio de dos m...   \n",
       "3               T-3180007  antecedentes\\n \\nel senor juan antonio, a trav...   \n",
       "4     T-2764991 Y 2822307  antecedentes\\n \\n1. hechos\\n \\nlos hechos rela...   \n",
       "...                   ...                                                ...   \n",
       "1857            T-7128811  antecedentes\\n \\n1. hechos\\n \\n\\n1.1 la senora...   \n",
       "1858            T-6960341  antecedentes \\n \\n1. hechos y relato contenido...   \n",
       "1859            T-7147012  antecedentes\\n \\nherley\\r\\nramirez alzate pres...   \n",
       "1860            T-7103649  antecedentes\\n \\na. hechos y pretensiones\\n \\n...   \n",
       "1861            T-6882209  antecedentes\\n \\n1.     hechos relevantes\\n \\n...   \n",
       "\n",
       "                                               decision  \n",
       "0     decision\\n \\ncon\\r\\nfundamento en las consider...  \n",
       "1     decision\\n \\nen merito de lo expuesto, la\\r\\ns...  \n",
       "2     decision\\n \\nen merito de lo expuesto, la sala...  \n",
       "3     consideraciones de la corte constitucional\\n \\...  \n",
       "4     decision \\n \\nen merito de lo expuesto, la sal...  \n",
       "...                                                 ...  \n",
       "1857  que no esten\\r\\nexpresamente incluidos en el p...  \n",
       "1858  pruebas decretadas en sede de revision \\n \\nel...  \n",
       "1859  existencia\\r\\nde un peligro especifico e indiv...  \n",
       "1860  decision\\n \\nen merito de lo expuesto, la sala...  \n",
       "1861  sintesis\\n \\nen el presente caso, correspondio...  \n",
       "\n",
       "[1862 rows x 3 columns]"
      ]
     },
     "execution_count": 16,
     "metadata": {},
     "output_type": "execute_result"
    }
   ],
   "source": [
    "new_data"
   ]
  },
  {
   "cell_type": "code",
   "execution_count": 17,
   "id": "instant-bronze",
   "metadata": {},
   "outputs": [
    {
     "data": {
      "text/plain": [
       "(1862, 3)"
      ]
     },
     "execution_count": 17,
     "metadata": {},
     "output_type": "execute_result"
    }
   ],
   "source": [
    "new_data.shape"
   ]
  },
  {
   "cell_type": "code",
   "execution_count": 18,
   "id": "searching-diabetes",
   "metadata": {},
   "outputs": [],
   "source": [
    "new_data.to_csv('splid_data.csv', sep=\",\",quotechar='\"', quoting=csv.QUOTE_ALL, encoding='utf-8')"
   ]
  },
  {
   "cell_type": "code",
   "execution_count": 19,
   "id": "widespread-matthew",
   "metadata": {},
   "outputs": [],
   "source": [
    "new_data.to_csv(r'splid_data.txt', header=None, index=None, sep=' ', mode='a')"
   ]
  },
  {
   "cell_type": "code",
   "execution_count": 20,
   "id": "complex-enzyme",
   "metadata": {},
   "outputs": [],
   "source": [
    "def quitar_espacios(text):\n",
    "    text = re.sub('[‘’“”…«»]', '', text)\n",
    "    text = re.sub('\\n', ' ', text)\n",
    "    text = re.sub('\\r', ' ', text)\n",
    "    text = re.sub('\\xa0', ' ', text)\n",
    "\n",
    "    return text\n",
    "\n",
    "new_data[\"decision\"] = new_data.decision.apply(lambda x: quitar_espacios(x))\n",
    "new_data[\"antecedentes\"] = new_data.antecedentes.apply(lambda x: quitar_espacios(x))"
   ]
  },
  {
   "cell_type": "code",
   "execution_count": 21,
   "id": "cultural-browser",
   "metadata": {},
   "outputs": [],
   "source": [
    "def quita_signos(text):\n",
    "    puntuacion = string.punctuation\n",
    "    for item in puntuacion:\n",
    "        text = text.replace(item, \"\")\n",
    "    return text\n",
    "\n",
    "#new_data[\"decision\"] = pd.DataFrame(new_data.decision.apply(lambda x: quita_signos(x)))\n",
    "#new_data[\"antecedentes\"] = pd.DataFrame(new_data.antecedentes.apply(lambda x: quita_signos(x)))"
   ]
  },
  {
   "cell_type": "code",
   "execution_count": 22,
   "id": "prospective-revolution",
   "metadata": {},
   "outputs": [
    {
     "data": {
      "text/plain": [
       "1    antecedentes   1.    hechos   el defensor del ...\n",
       "Name: antecedentes, dtype: object"
      ]
     },
     "execution_count": 22,
     "metadata": {},
     "output_type": "execute_result"
    }
   ],
   "source": [
    "new_data[1:2][\"antecedentes\"]"
   ]
  },
  {
   "cell_type": "code",
   "execution_count": 23,
   "id": "numeric-swift",
   "metadata": {},
   "outputs": [
    {
     "data": {
      "text/plain": [
       "'decision   en merito de lo expuesto, la  sala novena de revision de la corte constitucional, administrando justicia en  nombre del pueblo y por mandato de la constitucion,     resuelve:   primero.- revocar la sentencia  proferida el 27 de septiembre  de 2011 por la sala de casacion laboral de la  corte suprema de justicia que a su turno habia confirmado la sentencia dictada  el 10 de agosto de 2011 por sala de casacion civil de la corte suprema de  justicia que habia negado el amparo constitucional solicitado. en su lugar, conceder  la tutela por violacion del derecho al debido proceso.   segundo.- dejar sin efecto  las actuaciones surtidas por el juzgado cuarto civil del circuito de santa  marta y por la sala civil-familia del tribunal superior de la misma ciudad en  el proceso ejecutivo hipotecario seguido por el ahorramas hoy banco av villas  s.a. contra la empresa construcciones dihago ltda. representada por alejandro  habeych gonzalez y contra las personas ana maria barrios quevedo, susana  magdalena restrepo donado, antonio polo palma, nancy saldarriaga de polo,  domingo costa amastha, edilma amparo gaviria minotas, maria concepcion ospino  acevedo, olga quevedo de barrios, efren correa villanueva, rossana guadalupe  diazgranados noguera, ivonne del socorro diazgranados noguera, orieta deysy  diazgranados noguera y la sociedad gonzalez bueno ltda., representada por  rafael gonzalez bueno.   tercero.-  ordenar al  juzgado cuarto civil del circuito de santa marta que dentro de las cuarenta y  ocho (48) horas siguientes a la notificacion de esta decision, profiera una  nueva sentencia, dentro del proceso ejecutivo hipotecario citado en el numeral  anterior. esta sentencia debera proferirse de conformidad con los argumentos y  directrices senalados por esta sala de revision de la corte constitucional.   cuarto.- por secretaria  general librense las comunicaciones previstas en el articulo 36 del decreto  2591 de 1991.   copiese, notifiquese,  comuniquese, publiques'"
      ]
     },
     "execution_count": 23,
     "metadata": {},
     "output_type": "execute_result"
    }
   ],
   "source": [
    "new_data[\"decision\"][50][0:2000]"
   ]
  },
  {
   "cell_type": "code",
   "execution_count": 24,
   "id": "modern-stamp",
   "metadata": {},
   "outputs": [
    {
     "data": {
      "text/plain": [
       "'ecision   en merito de lo expuesto, la  sala novena de revision de la corte constitucional, administrando justicia en  nombre del pueblo y por mandato de la constitucion,     resuelve:   primero.- revocar la sentencia  proferida el 27 de septiembre  de 2011 por la sala de casacion laboral de la  corte suprema de justicia que a su turno habia confirmado la sentencia dictada  el 10 de agosto de 2011 por sala de casacion civil de la corte suprema de  justicia que habia negado el amparo constitucional solicitado. en su lugar, conceder  la tutela por violacion del derecho al debido proceso.   segundo.- dejar sin efecto  las actuaciones surtidas por el juzgado cuarto civil del circuito de santa  marta y por la sala civil-familia del tribunal superior de la misma ciudad en  el proceso ejecutivo hipotecario seguido por el ahorramas hoy banco av villas  s.a. contra la empresa construcciones dihago ltda. representada por alejandro  habeych gonzalez y contra las personas ana maria barrios queved'"
      ]
     },
     "execution_count": 24,
     "metadata": {},
     "output_type": "execute_result"
    }
   ],
   "source": [
    "new_data[\"decision\"][50][1:1000]"
   ]
  },
  {
   "cell_type": "code",
   "execution_count": 25,
   "id": "federal-argument",
   "metadata": {},
   "outputs": [],
   "source": [
    "#from pyspark.ml import PipelineModel\n",
    "from sparknlp.annotator import *\n",
    "from sparknlp.base import *\n",
    "#import sparknlp\n",
    "#import pyspark.sql.functions as F\n",
    "\n",
    "#spark = sparknlp.start()\n",
    "#spark"
   ]
  },
  {
   "cell_type": "code",
   "execution_count": 26,
   "id": "viral-custody",
   "metadata": {},
   "outputs": [],
   "source": [
    "os.environ[\"JAVA_HOME\"] = \"/usr/lib/jvm/java-8-openjdk-amd64\"\n",
    "os.environ[\"PATH\"] = os.environ[\"JAVA_HOME\"] + \"/bin:\" + os.environ[\"PATH\"]"
   ]
  },
  {
   "cell_type": "code",
   "execution_count": 27,
   "id": "conceptual-scheme",
   "metadata": {},
   "outputs": [
    {
     "data": {
      "text/html": [
       "\n",
       "            <div>\n",
       "                <p><b>SparkSession - in-memory</b></p>\n",
       "                \n",
       "        <div>\n",
       "            <p><b>SparkContext</b></p>\n",
       "\n",
       "            <p><a href=\"http://192.168.0.12:4040\">Spark UI</a></p>\n",
       "\n",
       "            <dl>\n",
       "              <dt>Version</dt>\n",
       "                <dd><code>v3.1.1</code></dd>\n",
       "              <dt>Master</dt>\n",
       "                <dd><code>local[*]</code></dd>\n",
       "              <dt>AppName</dt>\n",
       "                <dd><code>Spark NLP</code></dd>\n",
       "            </dl>\n",
       "        </div>\n",
       "        \n",
       "            </div>\n",
       "        "
      ],
      "text/plain": [
       "<pyspark.sql.session.SparkSession at 0x7f538a077b50>"
      ]
     },
     "execution_count": 27,
     "metadata": {},
     "output_type": "execute_result"
    }
   ],
   "source": [
    "import sparknlp\n",
    "spark = sparknlp.start()\n",
    "from sparknlp.pretrained import PretrainedPipeline\n",
    "spark\n"
   ]
  },
  {
   "cell_type": "code",
   "execution_count": 28,
   "id": "alike-genre",
   "metadata": {},
   "outputs": [
    {
     "name": "stdout",
     "output_type": "stream",
     "text": [
      "explain_document_md download started this may take some time.\n",
      "Approx size to download 453.9 MB\n",
      "[OK!]\n"
     ]
    }
   ],
   "source": [
    "explain_document_pipeline = PretrainedPipeline(\"explain_document_md\", lang = 'es')"
   ]
  },
  {
   "cell_type": "code",
   "execution_count": 66,
   "id": "metric-romania",
   "metadata": {},
   "outputs": [
    {
     "data": {
      "text/plain": [
       "['entities',\n",
       " 'lemma',\n",
       " 'document',\n",
       " 'pos',\n",
       " 'token',\n",
       " 'ner',\n",
       " 'embeddings',\n",
       " 'sentence']"
      ]
     },
     "execution_count": 66,
     "metadata": {},
     "output_type": "execute_result"
    }
   ],
   "source": [
    "annotations = explain_document_pipeline.annotate(new_data[\"decision\"][51])\n",
    "list(annotations.keys())"
   ]
  },
  {
   "cell_type": "code",
   "execution_count": 30,
   "id": "identical-berkeley",
   "metadata": {},
   "outputs": [
    {
     "name": "stdout",
     "output_type": "stream",
     "text": [
      "False\n"
     ]
    }
   ],
   "source": [
    "print('articulo' == annotations['token'])"
   ]
  },
  {
   "cell_type": "code",
   "execution_count": 31,
   "id": "exclusive-universal",
   "metadata": {},
   "outputs": [],
   "source": [
    "def count_word(word):\n",
    "    count=0\n",
    "    for item in annotations[\"token\"]:\n",
    "        if word == item or f\"{word}s\" == item:\n",
    "            count = count + 1\n",
    "    return count"
   ]
  },
  {
   "cell_type": "code",
   "execution_count": 34,
   "id": "exotic-project",
   "metadata": {},
   "outputs": [
    {
     "name": "stdout",
     "output_type": "stream",
     "text": [
      "=====================\n",
      "Articulos:....... 12\n",
      "=====================\n",
      "Decretos:....... 5\n",
      "=====================\n",
      "Sentencias:....... 64\n",
      "=====================\n",
      "Folios:....... 6\n",
      "=====================\n"
     ]
    }
   ],
   "source": [
    "print(\"=====================\")\n",
    "print(\"Articulos:....... \" + str(count_word('articulo')))\n",
    "print(\"=====================\")\n",
    "print(\"Decretos:....... \" + str(count_word('decreto')))\n",
    "print(\"=====================\")\n",
    "print(\"Sentencias:....... \" + str(count_word('sentencia')))\n",
    "print(\"=====================\")\n",
    "print(\"Folios:....... \" + str(count_word('folio')))\n",
    "print(\"=====================\")"
   ]
  },
  {
   "cell_type": "code",
   "execution_count": 82,
   "id": "surface-shield",
   "metadata": {},
   "outputs": [
    {
     "name": "stdout",
     "output_type": "stream",
     "text": [
      "sentence_detector_dl download started this may take some time.\n",
      "Approximate size to download 354.6 KB\n",
      "[OK!]\n"
     ]
    }
   ],
   "source": [
    "documenter = DocumentAssembler()\\\n",
    "    .setInputCol(\"text\")\\\n",
    "    .setOutputCol(\"document\")\n",
    "    \n",
    "sentencerDL = SentenceDetectorDLModel\\\n",
    "  .pretrained(\"sentence_detector_dl\", \"en\") \\\n",
    "  .setInputCols([\"document\"]) \\\n",
    "  .setOutputCol(\"sentences\")\n",
    "\n",
    "sd_pipeline = PipelineModel(stages=[documenter, sentencerDL])\n",
    "sd_model = LightPipeline(sd_pipeline)"
   ]
  },
  {
   "cell_type": "code",
   "execution_count": 293,
   "id": "finnish-yukon",
   "metadata": {},
   "outputs": [],
   "source": [
    "def processed_step_by_step(index):\n",
    "    \n",
    "    annotations = explain_document_pipeline.annotate(new_data[\"decision\"][51])\n",
    "\n",
    "    \n",
    "    documenter = DocumentAssembler()\\\n",
    "        .setInputCol(\"text\")\\\n",
    "        .setOutputCol(\"document\")\n",
    "\n",
    "    sentencerDL = SentenceDetectorDLModel\\\n",
    "      .pretrained(\"sentence_detector_dl\", \"en\") \\\n",
    "      .setInputCols([\"document\"]) \\\n",
    "      .setOutputCol(\"sentences\")\n",
    "\n",
    "    sd_pipeline = PipelineModel(stages=[documenter, sentencerDL])\n",
    "    sd_model = LightPipeline(sd_pipeline)\n",
    "    \n",
    "    return sd_model\n",
    "    "
   ]
  },
  {
   "cell_type": "code",
   "execution_count": 294,
   "id": "closing-catalyst",
   "metadata": {},
   "outputs": [],
   "source": [
    "def get_list_sentenses_by_model(text_count):\n",
    "    list_sentenses = []\n",
    "    for sentense in sd_model.fullAnnotate(text_count)[0][\"sentences\"]:\n",
    "        list_sentenses.append(sentense.result)\n",
    "    return list_sentenses"
   ]
  },
  {
   "cell_type": "code",
   "execution_count": 295,
   "id": "conventional-start",
   "metadata": {},
   "outputs": [],
   "source": [
    "def extraer_articulos(sentences, topic):\n",
    "    lista_df = []\n",
    "    for item in sentences:\n",
    "        regx = f\"({topic}|{topic}s)[ ]([\\s\\S]*?)\\.\"\n",
    "        expretion = re.compile(r\"{}\".format(regx))\n",
    "        result = expretion.findall(item)\n",
    "        for item_normalize in list(map(\" \".join, result)):\n",
    "            lista_df.append(item_normalize)\n",
    "    return lista_df"
   ]
  },
  {
   "cell_type": "code",
   "execution_count": 296,
   "id": "running-proposal",
   "metadata": {},
   "outputs": [],
   "source": [
    "\n",
    "def get_list_sentenses():\n",
    "    list_sentenses = []\n",
    "    for sentense in sd_model.fullAnnotate(text)[0][\"sentences\"]:\n",
    "        list_sentenses.append(sentense.result)\n",
    "    return list_sentenses"
   ]
  },
  {
   "cell_type": "code",
   "execution_count": 297,
   "id": "senior-telephone",
   "metadata": {},
   "outputs": [],
   "source": [
    "new_dataframe_to_graph = pd.DataFrame(columns = [\"folios\", \"reference\"])"
   ]
  },
  {
   "cell_type": "code",
   "execution_count": 298,
   "id": "municipal-vietnamese",
   "metadata": {},
   "outputs": [
    {
     "data": {
      "text/html": [
       "<div>\n",
       "<style scoped>\n",
       "    .dataframe tbody tr th:only-of-type {\n",
       "        vertical-align: middle;\n",
       "    }\n",
       "\n",
       "    .dataframe tbody tr th {\n",
       "        vertical-align: top;\n",
       "    }\n",
       "\n",
       "    .dataframe thead th {\n",
       "        text-align: right;\n",
       "    }\n",
       "</style>\n",
       "<table border=\"1\" class=\"dataframe\">\n",
       "  <thead>\n",
       "    <tr style=\"text-align: right;\">\n",
       "      <th></th>\n",
       "      <th>file_id</th>\n",
       "      <th>antecedentes</th>\n",
       "      <th>decision</th>\n",
       "    </tr>\n",
       "  </thead>\n",
       "  <tbody>\n",
       "    <tr>\n",
       "      <th>0</th>\n",
       "      <td>T-3187308</td>\n",
       "      <td>antecedentes   1. hechos   1. el 27 de julio d...</td>\n",
       "      <td>decision   con  fundamento en las consideracio...</td>\n",
       "    </tr>\n",
       "    <tr>\n",
       "      <th>1</th>\n",
       "      <td>T-2719663</td>\n",
       "      <td>antecedentes   1.    hechos   el defensor del ...</td>\n",
       "      <td>decision   en merito de lo expuesto, la  sala ...</td>\n",
       "    </tr>\n",
       "    <tr>\n",
       "      <th>2</th>\n",
       "      <td>T-3176539</td>\n",
       "      <td>antecedentes   el ocho (8) de junio de dos mil...</td>\n",
       "      <td>decision   en merito de lo expuesto, la sala t...</td>\n",
       "    </tr>\n",
       "    <tr>\n",
       "      <th>3</th>\n",
       "      <td>T-3180007</td>\n",
       "      <td>antecedentes   el senor juan antonio, a traves...</td>\n",
       "      <td>consideraciones de la corte constitucional   1...</td>\n",
       "    </tr>\n",
       "    <tr>\n",
       "      <th>4</th>\n",
       "      <td>T-2764991 Y 2822307</td>\n",
       "      <td>antecedentes   1. hechos   los hechos relatado...</td>\n",
       "      <td>decision    en merito de lo expuesto, la sala ...</td>\n",
       "    </tr>\n",
       "    <tr>\n",
       "      <th>...</th>\n",
       "      <td>...</td>\n",
       "      <td>...</td>\n",
       "      <td>...</td>\n",
       "    </tr>\n",
       "    <tr>\n",
       "      <th>1857</th>\n",
       "      <td>T-7128811</td>\n",
       "      <td>antecedentes   1. hechos    1.1 la senora kari...</td>\n",
       "      <td>que no esten  expresamente incluidos en el pbs...</td>\n",
       "    </tr>\n",
       "    <tr>\n",
       "      <th>1858</th>\n",
       "      <td>T-6960341</td>\n",
       "      <td>antecedentes    1. hechos y relato contenidos ...</td>\n",
       "      <td>pruebas decretadas en sede de revision    el  ...</td>\n",
       "    </tr>\n",
       "    <tr>\n",
       "      <th>1859</th>\n",
       "      <td>T-7147012</td>\n",
       "      <td>antecedentes   herley  ramirez alzate presento...</td>\n",
       "      <td>existencia  de un peligro especifico e individ...</td>\n",
       "    </tr>\n",
       "    <tr>\n",
       "      <th>1860</th>\n",
       "      <td>T-7103649</td>\n",
       "      <td>antecedentes   a. hechos y pretensiones   1.  ...</td>\n",
       "      <td>decision   en merito de lo expuesto, la sala s...</td>\n",
       "    </tr>\n",
       "    <tr>\n",
       "      <th>1861</th>\n",
       "      <td>T-6882209</td>\n",
       "      <td>antecedentes   1.     hechos relevantes   1.1....</td>\n",
       "      <td>sintesis   en el presente caso, correspondio a...</td>\n",
       "    </tr>\n",
       "  </tbody>\n",
       "</table>\n",
       "<p>1862 rows × 3 columns</p>\n",
       "</div>"
      ],
      "text/plain": [
       "                  file_id                                       antecedentes  \\\n",
       "0               T-3187308  antecedentes   1. hechos   1. el 27 de julio d...   \n",
       "1               T-2719663  antecedentes   1.    hechos   el defensor del ...   \n",
       "2               T-3176539  antecedentes   el ocho (8) de junio de dos mil...   \n",
       "3               T-3180007  antecedentes   el senor juan antonio, a traves...   \n",
       "4     T-2764991 Y 2822307  antecedentes   1. hechos   los hechos relatado...   \n",
       "...                   ...                                                ...   \n",
       "1857            T-7128811  antecedentes   1. hechos    1.1 la senora kari...   \n",
       "1858            T-6960341  antecedentes    1. hechos y relato contenidos ...   \n",
       "1859            T-7147012  antecedentes   herley  ramirez alzate presento...   \n",
       "1860            T-7103649  antecedentes   a. hechos y pretensiones   1.  ...   \n",
       "1861            T-6882209  antecedentes   1.     hechos relevantes   1.1....   \n",
       "\n",
       "                                               decision  \n",
       "0     decision   con  fundamento en las consideracio...  \n",
       "1     decision   en merito de lo expuesto, la  sala ...  \n",
       "2     decision   en merito de lo expuesto, la sala t...  \n",
       "3     consideraciones de la corte constitucional   1...  \n",
       "4     decision    en merito de lo expuesto, la sala ...  \n",
       "...                                                 ...  \n",
       "1857  que no esten  expresamente incluidos en el pbs...  \n",
       "1858  pruebas decretadas en sede de revision    el  ...  \n",
       "1859  existencia  de un peligro especifico e individ...  \n",
       "1860  decision   en merito de lo expuesto, la sala s...  \n",
       "1861  sintesis   en el presente caso, correspondio a...  \n",
       "\n",
       "[1862 rows x 3 columns]"
      ]
     },
     "execution_count": 298,
     "metadata": {},
     "output_type": "execute_result"
    }
   ],
   "source": [
    "new_data"
   ]
  },
  {
   "cell_type": "markdown",
   "id": "incoming-terrain",
   "metadata": {},
   "source": [
    "# Seccion DECISION [sentencias, articulos, folios, decretos]"
   ]
  },
  {
   "cell_type": "code",
   "execution_count": 313,
   "id": "comprehensive-blond",
   "metadata": {},
   "outputs": [],
   "source": [
    "text = new_data[\"decision\"][28]"
   ]
  },
  {
   "cell_type": "code",
   "execution_count": 338,
   "id": "curious-neighbor",
   "metadata": {},
   "outputs": [],
   "source": [
    "decision_new_data_folio = pd.DataFrame(columns = [\"folios\", \"reference\"])\n",
    "decision_new_data_articulo = pd.DataFrame(columns = ['articulos', \"reference\"])\n",
    "decision_new_data_decreto = pd.DataFrame(columns = ['decretos', \"reference\"])\n",
    "decision_new_data_sentencia = pd.DataFrame(columns = ['sentencias', \"reference\"])"
   ]
  },
  {
   "cell_type": "code",
   "execution_count": 358,
   "id": "afraid-pension",
   "metadata": {},
   "outputs": [],
   "source": [
    "decision_new_data_folio['folios'] = extraer_articulos(get_list_sentenses()[27:128], \"folio\")"
   ]
  },
  {
   "cell_type": "code",
   "execution_count": 359,
   "id": "specified-racing",
   "metadata": {},
   "outputs": [],
   "source": [
    "decision_new_data_decreto['decretos'] = extraer_articulos(get_list_sentenses(), \"decreto\")"
   ]
  },
  {
   "cell_type": "code",
   "execution_count": 360,
   "id": "random-welsh",
   "metadata": {},
   "outputs": [],
   "source": [
    "decision_new_data_articulo['articulos'] = extraer_articulos(get_list_sentenses(), \"articulo\")"
   ]
  },
  {
   "cell_type": "code",
   "execution_count": 361,
   "id": "conditional-conservation",
   "metadata": {},
   "outputs": [],
   "source": [
    "decision_new_data_sentencia['sentencias'] = extraer_articulos(get_list_sentenses()[27:128], \"sentencia\")"
   ]
  },
  {
   "cell_type": "code",
   "execution_count": 363,
   "id": "reduced-hello",
   "metadata": {},
   "outputs": [
    {
     "data": {
      "text/html": [
       "<div>\n",
       "<style scoped>\n",
       "    .dataframe tbody tr th:only-of-type {\n",
       "        vertical-align: middle;\n",
       "    }\n",
       "\n",
       "    .dataframe tbody tr th {\n",
       "        vertical-align: top;\n",
       "    }\n",
       "\n",
       "    .dataframe thead th {\n",
       "        text-align: right;\n",
       "    }\n",
       "</style>\n",
       "<table border=\"1\" class=\"dataframe\">\n",
       "  <thead>\n",
       "    <tr style=\"text-align: right;\">\n",
       "      <th></th>\n",
       "      <th>articulos</th>\n",
       "    </tr>\n",
       "  </thead>\n",
       "  <tbody>\n",
       "    <tr>\n",
       "      <th>0</th>\n",
       "      <td>articulos 86 y  241, numeral 9°, de la constit...</td>\n",
       "    </tr>\n",
       "    <tr>\n",
       "      <th>1</th>\n",
       "      <td>articulo 29 superior, dispone que el debido  p...</td>\n",
       "    </tr>\n",
       "    <tr>\n",
       "      <th>2</th>\n",
       "      <td>articulo 209 superior), toda vez que a traves ...</td>\n",
       "    </tr>\n",
       "    <tr>\n",
       "      <th>3</th>\n",
       "      <td>articulo 86 superior, la accion de tutela es u...</td>\n",
       "    </tr>\n",
       "    <tr>\n",
       "      <th>4</th>\n",
       "      <td>articulo  6° del decreto 2591 de 1991, el cual...</td>\n",
       "    </tr>\n",
       "    <tr>\n",
       "      <th>5</th>\n",
       "      <td>articulo 49 del codigo contencioso administrat...</td>\n",
       "    </tr>\n",
       "    <tr>\n",
       "      <th>6</th>\n",
       "      <td>articulo 58 y el decreto  distrital 531 de 23 ...</td>\n",
       "    </tr>\n",
       "    <tr>\n",
       "      <th>7</th>\n",
       "      <td>articulo 58 y el decreto distrital 531 de 23 d...</td>\n",
       "    </tr>\n",
       "    <tr>\n",
       "      <th>8</th>\n",
       "      <td>articulo 28 del c</td>\n",
       "    </tr>\n",
       "    <tr>\n",
       "      <th>9</th>\n",
       "      <td>articulo 17 de la ley 1333 de 2009, la privo d...</td>\n",
       "    </tr>\n",
       "    <tr>\n",
       "      <th>10</th>\n",
       "      <td>articulo 28  del c</td>\n",
       "    </tr>\n",
       "    <tr>\n",
       "      <th>11</th>\n",
       "      <td>articulo 17 de la ley 1333 de 2009[25],  pues ...</td>\n",
       "    </tr>\n",
       "  </tbody>\n",
       "</table>\n",
       "</div>"
      ],
      "text/plain": [
       "                                            articulos\n",
       "0   articulos 86 y  241, numeral 9°, de la constit...\n",
       "1   articulo 29 superior, dispone que el debido  p...\n",
       "2   articulo 209 superior), toda vez que a traves ...\n",
       "3   articulo 86 superior, la accion de tutela es u...\n",
       "4   articulo  6° del decreto 2591 de 1991, el cual...\n",
       "5   articulo 49 del codigo contencioso administrat...\n",
       "6   articulo 58 y el decreto  distrital 531 de 23 ...\n",
       "7   articulo 58 y el decreto distrital 531 de 23 d...\n",
       "8                                   articulo 28 del c\n",
       "9   articulo 17 de la ley 1333 de 2009, la privo d...\n",
       "10                                 articulo 28  del c\n",
       "11  articulo 17 de la ley 1333 de 2009[25],  pues ..."
      ]
     },
     "execution_count": 363,
     "metadata": {},
     "output_type": "execute_result"
    }
   ],
   "source": [
    "decision_new_data_articulo.tail(30)"
   ]
  },
  {
   "cell_type": "code",
   "execution_count": 357,
   "id": "later-dubai",
   "metadata": {},
   "outputs": [
    {
     "data": {
      "text/plain": [
       "[]"
      ]
     },
     "execution_count": 357,
     "metadata": {},
     "output_type": "execute_result"
    }
   ],
   "source": [
    "folios = extraer_articulos(get_list_sentenses_by_model(new_data[\"decision\"][28]), \"folio\")\n",
    "folios"
   ]
  },
  {
   "cell_type": "code",
   "execution_count": 352,
   "id": "muslim-turkish",
   "metadata": {},
   "outputs": [],
   "source": [
    "decision_new_data_folio = pd.DataFrame(columns = [\"folios\"])\n",
    "decision_new_data_articulo = pd.DataFrame(columns = ['articulos'])\n",
    "decision_new_data_decreto = pd.DataFrame(columns = ['decretos'])\n",
    "decision_new_data_sentencia = pd.DataFrame(columns = ['sentencias'])\n",
    "\n",
    "def get_new_data(sentence):\n",
    "    folios = extraer_articulos(get_list_sentenses_by_model(sentence), \"folio\")\n",
    "    articulos = extraer_articulos(get_list_sentenses_by_model(sentence), \"articulo\")\n",
    "    sentencias = extraer_articulos(get_list_sentenses_by_model(sentence), \"sentencia\")\n",
    "    decretos = extraer_articulos(get_list_sentenses_by_model(sentence), \"decreto\")\n",
    "    return folios, articulos, sentencias, decretos\n",
    "    "
   ]
  },
  {
   "cell_type": "code",
   "execution_count": null,
   "id": "encouraging-acquisition",
   "metadata": {},
   "outputs": [],
   "source": []
  },
  {
   "cell_type": "code",
   "execution_count": 384,
   "id": "organic-spare",
   "metadata": {},
   "outputs": [
    {
     "data": {
      "text/html": [
       "<div>\n",
       "<style scoped>\n",
       "    .dataframe tbody tr th:only-of-type {\n",
       "        vertical-align: middle;\n",
       "    }\n",
       "\n",
       "    .dataframe tbody tr th {\n",
       "        vertical-align: top;\n",
       "    }\n",
       "\n",
       "    .dataframe thead th {\n",
       "        text-align: right;\n",
       "    }\n",
       "</style>\n",
       "<table border=\"1\" class=\"dataframe\">\n",
       "  <thead>\n",
       "    <tr style=\"text-align: right;\">\n",
       "      <th></th>\n",
       "      <th>folios</th>\n",
       "      <th>articulos</th>\n",
       "      <th>sentencias</th>\n",
       "      <th>decretos</th>\n",
       "      <th>reference</th>\n",
       "    </tr>\n",
       "  </thead>\n",
       "  <tbody>\n",
       "    <tr>\n",
       "      <th>0</th>\n",
       "      <td>[articulo 36 del decreto 2591 de 1991, articul...</td>\n",
       "      <td>[articulo 36 del decreto 2591 de 1991, articul...</td>\n",
       "      <td>[sentencia y del expediente a la superintenden...</td>\n",
       "      <td>[decreto 2591 de 1991]</td>\n",
       "      <td>T-2719663</td>\n",
       "    </tr>\n",
       "    <tr>\n",
       "      <th>1</th>\n",
       "      <td>[articulo 36 del decreto 2591 de  1991, para l...</td>\n",
       "      <td>[articulo 36 del decreto 2591 de  1991, para l...</td>\n",
       "      <td>[sentencia proferida por el juzgado primero pe...</td>\n",
       "      <td>[decreto 2591 de  1991, para los efectos alli ...</td>\n",
       "      <td>T-3176539</td>\n",
       "    </tr>\n",
       "    <tr>\n",
       "      <th>2</th>\n",
       "      <td>[articulos 86 y 241-9 de la  constitucion poli...</td>\n",
       "      <td>[articulos 86 y 241-9 de la  constitucion poli...</td>\n",
       "      <td>[sentencia  c-134 de 1994, en la que se declar...</td>\n",
       "      <td>[decreto 2591 de 1991, decreto  2591 de 1991, ...</td>\n",
       "      <td>T-3180007</td>\n",
       "    </tr>\n",
       "    <tr>\n",
       "      <th>3</th>\n",
       "      <td>[articulo 239 del codigo sustantivo del trabaj...</td>\n",
       "      <td>[articulo 239 del codigo sustantivo del trabaj...</td>\n",
       "      <td>[sentencia proferida el siete (7) de mayo de 2...</td>\n",
       "      <td>[decreto 2591 de 1991, decreto 3135 de 1968, e...</td>\n",
       "      <td>T-2764991 Y 2822307</td>\n",
       "    </tr>\n",
       "    <tr>\n",
       "      <th>4</th>\n",
       "      <td>[articulos 86 y 241 numeral 9° de la constituc...</td>\n",
       "      <td>[articulos 86 y 241 numeral 9° de la constituc...</td>\n",
       "      <td>[sentencia proferida dentro del proceso de la ...</td>\n",
       "      <td>[decreto 2591 de 1991]</td>\n",
       "      <td>T-3201980</td>\n",
       "    </tr>\n",
       "    <tr>\n",
       "      <th>...</th>\n",
       "      <td>...</td>\n",
       "      <td>...</td>\n",
       "      <td>...</td>\n",
       "      <td>...</td>\n",
       "      <td>...</td>\n",
       "    </tr>\n",
       "    <tr>\n",
       "      <th>1794</th>\n",
       "      <td>[articulo 36 del decreto ley 2591 de 1991, art...</td>\n",
       "      <td>[articulo 36 del decreto ley 2591 de 1991, art...</td>\n",
       "      <td>[sentencias proferidas el tres (3) de septiemb...</td>\n",
       "      <td>[decreto ley 2591 de 1991, decreto 2591 de 199...</td>\n",
       "      <td>T-7136911</td>\n",
       "    </tr>\n",
       "    <tr>\n",
       "      <th>1795</th>\n",
       "      <td>[articulo 55 (sic) del  reglamento interno de ...</td>\n",
       "      <td>[articulo 55 (sic) del  reglamento interno de ...</td>\n",
       "      <td>[sentencia t-284 de 2019[153]  (expediente t-7...</td>\n",
       "      <td>[]</td>\n",
       "      <td>T-7055614 Y OTRO ACUMULADOS</td>\n",
       "    </tr>\n",
       "    <tr>\n",
       "      <th>1796</th>\n",
       "      <td>[articulo 488 del codigo sustantivo del  traba...</td>\n",
       "      <td>[articulo 488 del codigo sustantivo del  traba...</td>\n",
       "      <td>[sentencias t-426 de 2001 m, sentencias t-051 ...</td>\n",
       "      <td>[decreto 2591 de 1991, decreto 1730 de 2001: i...</td>\n",
       "      <td>T-7222037 Y OTRO ACUMULADOS</td>\n",
       "    </tr>\n",
       "    <tr>\n",
       "      <th>1797</th>\n",
       "      <td>[articulos 86 y 241, numeral 9º, de la  consti...</td>\n",
       "      <td>[articulos 86 y 241, numeral 9º, de la  consti...</td>\n",
       "      <td>[sentencias proferidas dentro del proceso de l...</td>\n",
       "      <td>[decreto  2591 de 1991, decreto 2591 de 1991 s...</td>\n",
       "      <td>T-6899349</td>\n",
       "    </tr>\n",
       "    <tr>\n",
       "      <th>1798</th>\n",
       "      <td>[articulo 36 del decreto 2591 de 1991, para lo...</td>\n",
       "      <td>[articulo 36 del decreto 2591 de 1991, para lo...</td>\n",
       "      <td>[sentencia t-299/19   derecho a la salud y  se...</td>\n",
       "      <td>[decreto 2591 de 1991, para los fines alli con...</td>\n",
       "      <td>T-7217174</td>\n",
       "    </tr>\n",
       "  </tbody>\n",
       "</table>\n",
       "<p>1799 rows × 5 columns</p>\n",
       "</div>"
      ],
      "text/plain": [
       "                                                 folios  \\\n",
       "0     [articulo 36 del decreto 2591 de 1991, articul...   \n",
       "1     [articulo 36 del decreto 2591 de  1991, para l...   \n",
       "2     [articulos 86 y 241-9 de la  constitucion poli...   \n",
       "3     [articulo 239 del codigo sustantivo del trabaj...   \n",
       "4     [articulos 86 y 241 numeral 9° de la constituc...   \n",
       "...                                                 ...   \n",
       "1794  [articulo 36 del decreto ley 2591 de 1991, art...   \n",
       "1795  [articulo 55 (sic) del  reglamento interno de ...   \n",
       "1796  [articulo 488 del codigo sustantivo del  traba...   \n",
       "1797  [articulos 86 y 241, numeral 9º, de la  consti...   \n",
       "1798  [articulo 36 del decreto 2591 de 1991, para lo...   \n",
       "\n",
       "                                              articulos  \\\n",
       "0     [articulo 36 del decreto 2591 de 1991, articul...   \n",
       "1     [articulo 36 del decreto 2591 de  1991, para l...   \n",
       "2     [articulos 86 y 241-9 de la  constitucion poli...   \n",
       "3     [articulo 239 del codigo sustantivo del trabaj...   \n",
       "4     [articulos 86 y 241 numeral 9° de la constituc...   \n",
       "...                                                 ...   \n",
       "1794  [articulo 36 del decreto ley 2591 de 1991, art...   \n",
       "1795  [articulo 55 (sic) del  reglamento interno de ...   \n",
       "1796  [articulo 488 del codigo sustantivo del  traba...   \n",
       "1797  [articulos 86 y 241, numeral 9º, de la  consti...   \n",
       "1798  [articulo 36 del decreto 2591 de 1991, para lo...   \n",
       "\n",
       "                                             sentencias  \\\n",
       "0     [sentencia y del expediente a la superintenden...   \n",
       "1     [sentencia proferida por el juzgado primero pe...   \n",
       "2     [sentencia  c-134 de 1994, en la que se declar...   \n",
       "3     [sentencia proferida el siete (7) de mayo de 2...   \n",
       "4     [sentencia proferida dentro del proceso de la ...   \n",
       "...                                                 ...   \n",
       "1794  [sentencias proferidas el tres (3) de septiemb...   \n",
       "1795  [sentencia t-284 de 2019[153]  (expediente t-7...   \n",
       "1796  [sentencias t-426 de 2001 m, sentencias t-051 ...   \n",
       "1797  [sentencias proferidas dentro del proceso de l...   \n",
       "1798  [sentencia t-299/19   derecho a la salud y  se...   \n",
       "\n",
       "                                               decretos  \\\n",
       "0                                [decreto 2591 de 1991]   \n",
       "1     [decreto 2591 de  1991, para los efectos alli ...   \n",
       "2     [decreto 2591 de 1991, decreto  2591 de 1991, ...   \n",
       "3     [decreto 2591 de 1991, decreto 3135 de 1968, e...   \n",
       "4                                [decreto 2591 de 1991]   \n",
       "...                                                 ...   \n",
       "1794  [decreto ley 2591 de 1991, decreto 2591 de 199...   \n",
       "1795                                                 []   \n",
       "1796  [decreto 2591 de 1991, decreto 1730 de 2001: i...   \n",
       "1797  [decreto  2591 de 1991, decreto 2591 de 1991 s...   \n",
       "1798  [decreto 2591 de 1991, para los fines alli con...   \n",
       "\n",
       "                        reference  \n",
       "0                       T-2719663  \n",
       "1                       T-3176539  \n",
       "2                       T-3180007  \n",
       "3             T-2764991 Y 2822307  \n",
       "4                       T-3201980  \n",
       "...                           ...  \n",
       "1794                    T-7136911  \n",
       "1795  T-7055614 Y OTRO ACUMULADOS  \n",
       "1796  T-7222037 Y OTRO ACUMULADOS  \n",
       "1797                    T-6899349  \n",
       "1798                    T-7217174  \n",
       "\n",
       "[1799 rows x 5 columns]"
      ]
     },
     "execution_count": 384,
     "metadata": {},
     "output_type": "execute_result"
    }
   ],
   "source": [
    "dec = pd.DataFrame(columns = [\"folios\", \"articulos\", \"sentencias\", \"decretos\", \"reference\"])\n",
    "for item in range(1, 1800):\n",
    "    reference = new_data[\"file_id\"][item]\n",
    "    folios, articulos, sentencias, decretos = get_new_data(new_data[\"decision\"][item])\n",
    "    dec = dec.append(\n",
    "        {\n",
    "         \"folios\": articulos, \n",
    "         \"articulos\": articulos, \n",
    "         \"sentencias\": sentencias, \n",
    "         \"decretos\": decretos, \n",
    "         \"reference\": reference\n",
    "        }, \n",
    "        ignore_index=True\n",
    "    )\n",
    "dec"
   ]
  },
  {
   "cell_type": "code",
   "execution_count": 377,
   "id": "impressed-restaurant",
   "metadata": {},
   "outputs": [
    {
     "data": {
      "text/plain": [
       "'articulo 29 superior, dispone que el debido  proceso se aplicara a toda clase de actuaciones judiciales y administrativas  precisando, asi mismo, que nadie podra ser juzgado sino conforme a leyes  preexistentes al acto que se le imputa, ante juez o tribunal competente y con  observancia de la plenitud de las formas propias de cada juicio'"
      ]
     },
     "execution_count": 377,
     "metadata": {},
     "output_type": "execute_result"
    }
   ],
   "source": [
    "dec[\"folios\"][0][1]"
   ]
  },
  {
   "cell_type": "code",
   "execution_count": 244,
   "id": "architectural-mainland",
   "metadata": {},
   "outputs": [
    {
     "data": {
      "text/html": [
       "<div>\n",
       "<style scoped>\n",
       "    .dataframe tbody tr th:only-of-type {\n",
       "        vertical-align: middle;\n",
       "    }\n",
       "\n",
       "    .dataframe tbody tr th {\n",
       "        vertical-align: top;\n",
       "    }\n",
       "\n",
       "    .dataframe thead th {\n",
       "        text-align: right;\n",
       "    }\n",
       "</style>\n",
       "<table border=\"1\" class=\"dataframe\">\n",
       "  <thead>\n",
       "    <tr style=\"text-align: right;\">\n",
       "      <th></th>\n",
       "      <th>articulos</th>\n",
       "      <th>reference</th>\n",
       "    </tr>\n",
       "  </thead>\n",
       "  <tbody>\n",
       "  </tbody>\n",
       "</table>\n",
       "</div>"
      ],
      "text/plain": [
       "Empty DataFrame\n",
       "Columns: [articulos, reference]\n",
       "Index: []"
      ]
     },
     "execution_count": 244,
     "metadata": {},
     "output_type": "execute_result"
    }
   ],
   "source": [
    "decision_new_data_articulo.head()"
   ]
  },
  {
   "cell_type": "code",
   "execution_count": 385,
   "id": "sonic-button",
   "metadata": {},
   "outputs": [
    {
     "data": {
      "text/plain": [
       "(1799, 5)"
      ]
     },
     "execution_count": 385,
     "metadata": {},
     "output_type": "execute_result"
    }
   ],
   "source": [
    "dec.shape"
   ]
  },
  {
   "cell_type": "code",
   "execution_count": 387,
   "id": "statistical-elder",
   "metadata": {},
   "outputs": [
    {
     "data": {
      "text/html": [
       "<div>\n",
       "<style scoped>\n",
       "    .dataframe tbody tr th:only-of-type {\n",
       "        vertical-align: middle;\n",
       "    }\n",
       "\n",
       "    .dataframe tbody tr th {\n",
       "        vertical-align: top;\n",
       "    }\n",
       "\n",
       "    .dataframe thead th {\n",
       "        text-align: right;\n",
       "    }\n",
       "</style>\n",
       "<table border=\"1\" class=\"dataframe\">\n",
       "  <thead>\n",
       "    <tr style=\"text-align: right;\">\n",
       "      <th></th>\n",
       "      <th>folios</th>\n",
       "      <th>articulos</th>\n",
       "      <th>sentencias</th>\n",
       "      <th>decretos</th>\n",
       "      <th>reference</th>\n",
       "    </tr>\n",
       "  </thead>\n",
       "  <tbody>\n",
       "    <tr>\n",
       "      <th>300</th>\n",
       "      <td>[articulo 36 del decreto 2591 de 1991, articul...</td>\n",
       "      <td>[articulo 36 del decreto 2591 de 1991, articul...</td>\n",
       "      <td>[sentencia dictada en  diciembre 19 de 2011 po...</td>\n",
       "      <td>[decreto 2591 de 1991]</td>\n",
       "      <td>T-3353576</td>\n",
       "    </tr>\n",
       "    <tr>\n",
       "      <th>301</th>\n",
       "      <td>[articulo 36 del decreto 2591  de 1991, articu...</td>\n",
       "      <td>[articulo 36 del decreto 2591  de 1991, articu...</td>\n",
       "      <td>[sentencia proferida el 22 de noviembre de 201...</td>\n",
       "      <td>[decreto 2591  de 1991, decreto 2591 de 1991: ...</td>\n",
       "      <td>T-3363570</td>\n",
       "    </tr>\n",
       "    <tr>\n",
       "      <th>302</th>\n",
       "      <td>[]</td>\n",
       "      <td>[]</td>\n",
       "      <td>[]</td>\n",
       "      <td>[]</td>\n",
       "      <td>T-2919170</td>\n",
       "    </tr>\n",
       "    <tr>\n",
       "      <th>303</th>\n",
       "      <td>[articulos 86 y 241, numeral 9º de la constitu...</td>\n",
       "      <td>[articulos 86 y 241, numeral 9º de la constitu...</td>\n",
       "      <td>[sentencia  proferida dentro del proceso de la...</td>\n",
       "      <td>[decreto 2591 de 1991]</td>\n",
       "      <td>T-3027375</td>\n",
       "    </tr>\n",
       "    <tr>\n",
       "      <th>304</th>\n",
       "      <td>[articulos 86 y 241, numeral 9º, de la constit...</td>\n",
       "      <td>[articulos 86 y 241, numeral 9º, de la constit...</td>\n",
       "      <td>[sentencia t-786 del 14 de agosto  de 2008 rei...</td>\n",
       "      <td>[decreto 2591 de 1991, decreto 2274 de 1998- s...</td>\n",
       "      <td>T-2891721 Y OTRO ACUMULADO</td>\n",
       "    </tr>\n",
       "    <tr>\n",
       "      <th>305</th>\n",
       "      <td>[articulo 241 de la norma  fundamental, articu...</td>\n",
       "      <td>[articulo 241 de la norma  fundamental, articu...</td>\n",
       "      <td>[sentencia anterior deben ser semejantes o pla...</td>\n",
       "      <td>[]</td>\n",
       "      <td>T-2864851</td>\n",
       "    </tr>\n",
       "    <tr>\n",
       "      <th>306</th>\n",
       "      <td>[articulo 228 de la constitucion, a lineamient...</td>\n",
       "      <td>[articulo 228 de la constitucion, a lineamient...</td>\n",
       "      <td>[sentencia t-304 de 2006, en la que se estable...</td>\n",
       "      <td>[decreto 190 de 12004 \"por medio del cual se c...</td>\n",
       "      <td>T-2991694</td>\n",
       "    </tr>\n",
       "    <tr>\n",
       "      <th>307</th>\n",
       "      <td>[]</td>\n",
       "      <td>[]</td>\n",
       "      <td>[]</td>\n",
       "      <td>[]</td>\n",
       "      <td>T-2972157</td>\n",
       "    </tr>\n",
       "    <tr>\n",
       "      <th>308</th>\n",
       "      <td>[articulos 86 y 241 de la constitucion politic...</td>\n",
       "      <td>[articulos 86 y 241 de la constitucion politic...</td>\n",
       "      <td>[sentencia t-025 de 2004,[6] que existe una ob...</td>\n",
       "      <td>[decreto 2591 de 1991 y las demas disposicione...</td>\n",
       "      <td>T-2549402</td>\n",
       "    </tr>\n",
       "    <tr>\n",
       "      <th>309</th>\n",
       "      <td>[articulos 86 y 241 de la constitucion politic...</td>\n",
       "      <td>[articulos 86 y 241 de la constitucion politic...</td>\n",
       "      <td>[sentencia t-888 de  1999:    [] se  garantiza...</td>\n",
       "      <td>[decreto 2591 de 1991 y las  demas disposicion...</td>\n",
       "      <td>T-2674656</td>\n",
       "    </tr>\n",
       "  </tbody>\n",
       "</table>\n",
       "</div>"
      ],
      "text/plain": [
       "                                                folios  \\\n",
       "300  [articulo 36 del decreto 2591 de 1991, articul...   \n",
       "301  [articulo 36 del decreto 2591  de 1991, articu...   \n",
       "302                                                 []   \n",
       "303  [articulos 86 y 241, numeral 9º de la constitu...   \n",
       "304  [articulos 86 y 241, numeral 9º, de la constit...   \n",
       "305  [articulo 241 de la norma  fundamental, articu...   \n",
       "306  [articulo 228 de la constitucion, a lineamient...   \n",
       "307                                                 []   \n",
       "308  [articulos 86 y 241 de la constitucion politic...   \n",
       "309  [articulos 86 y 241 de la constitucion politic...   \n",
       "\n",
       "                                             articulos  \\\n",
       "300  [articulo 36 del decreto 2591 de 1991, articul...   \n",
       "301  [articulo 36 del decreto 2591  de 1991, articu...   \n",
       "302                                                 []   \n",
       "303  [articulos 86 y 241, numeral 9º de la constitu...   \n",
       "304  [articulos 86 y 241, numeral 9º, de la constit...   \n",
       "305  [articulo 241 de la norma  fundamental, articu...   \n",
       "306  [articulo 228 de la constitucion, a lineamient...   \n",
       "307                                                 []   \n",
       "308  [articulos 86 y 241 de la constitucion politic...   \n",
       "309  [articulos 86 y 241 de la constitucion politic...   \n",
       "\n",
       "                                            sentencias  \\\n",
       "300  [sentencia dictada en  diciembre 19 de 2011 po...   \n",
       "301  [sentencia proferida el 22 de noviembre de 201...   \n",
       "302                                                 []   \n",
       "303  [sentencia  proferida dentro del proceso de la...   \n",
       "304  [sentencia t-786 del 14 de agosto  de 2008 rei...   \n",
       "305  [sentencia anterior deben ser semejantes o pla...   \n",
       "306  [sentencia t-304 de 2006, en la que se estable...   \n",
       "307                                                 []   \n",
       "308  [sentencia t-025 de 2004,[6] que existe una ob...   \n",
       "309  [sentencia t-888 de  1999:    [] se  garantiza...   \n",
       "\n",
       "                                              decretos  \\\n",
       "300                             [decreto 2591 de 1991]   \n",
       "301  [decreto 2591  de 1991, decreto 2591 de 1991: ...   \n",
       "302                                                 []   \n",
       "303                             [decreto 2591 de 1991]   \n",
       "304  [decreto 2591 de 1991, decreto 2274 de 1998- s...   \n",
       "305                                                 []   \n",
       "306  [decreto 190 de 12004 \"por medio del cual se c...   \n",
       "307                                                 []   \n",
       "308  [decreto 2591 de 1991 y las demas disposicione...   \n",
       "309  [decreto 2591 de 1991 y las  demas disposicion...   \n",
       "\n",
       "                      reference  \n",
       "300                   T-3353576  \n",
       "301                   T-3363570  \n",
       "302                   T-2919170  \n",
       "303                   T-3027375  \n",
       "304  T-2891721 Y OTRO ACUMULADO  \n",
       "305                   T-2864851  \n",
       "306                   T-2991694  \n",
       "307                   T-2972157  \n",
       "308                   T-2549402  \n",
       "309                   T-2674656  "
      ]
     },
     "execution_count": 387,
     "metadata": {},
     "output_type": "execute_result"
    }
   ],
   "source": [
    "dec[300:310]"
   ]
  },
  {
   "cell_type": "code",
   "execution_count": 391,
   "id": "cooked-ferry",
   "metadata": {},
   "outputs": [],
   "source": [
    "dec.to_parquet('processed_data.gzip', compression='gzip')"
   ]
  },
  {
   "cell_type": "code",
   "execution_count": 51,
   "id": "sufficient-translation",
   "metadata": {},
   "outputs": [
    {
     "data": {
      "text/html": [
       "<div>\n",
       "<style scoped>\n",
       "    .dataframe tbody tr th:only-of-type {\n",
       "        vertical-align: middle;\n",
       "    }\n",
       "\n",
       "    .dataframe tbody tr th {\n",
       "        vertical-align: top;\n",
       "    }\n",
       "\n",
       "    .dataframe thead th {\n",
       "        text-align: right;\n",
       "    }\n",
       "</style>\n",
       "<table border=\"1\" class=\"dataframe\">\n",
       "  <thead>\n",
       "    <tr style=\"text-align: right;\">\n",
       "      <th></th>\n",
       "      <th>decretos</th>\n",
       "    </tr>\n",
       "  </thead>\n",
       "  <tbody>\n",
       "    <tr>\n",
       "      <th>0</th>\n",
       "      <td>decreto ley 663 de 1993 (estatuto  organico de...</td>\n",
       "    </tr>\n",
       "    <tr>\n",
       "      <th>1</th>\n",
       "      <td>decreto ley 663 de  1993 (estatuto organico de...</td>\n",
       "    </tr>\n",
       "    <tr>\n",
       "      <th>2</th>\n",
       "      <td>decreto 856 de mayo 19 de 1999, (diario  ofici...</td>\n",
       "    </tr>\n",
       "    <tr>\n",
       "      <th>3</th>\n",
       "      <td>decreto 2599  de 1998, especificando la denomi...</td>\n",
       "    </tr>\n",
       "  </tbody>\n",
       "</table>\n",
       "</div>"
      ],
      "text/plain": [
       "                                            decretos\n",
       "0  decreto ley 663 de 1993 (estatuto  organico de...\n",
       "1  decreto ley 663 de  1993 (estatuto organico de...\n",
       "2  decreto 856 de mayo 19 de 1999, (diario  ofici...\n",
       "3  decreto 2599  de 1998, especificando la denomi..."
      ]
     },
     "execution_count": 51,
     "metadata": {},
     "output_type": "execute_result"
    }
   ],
   "source": [
    "decision_new_data_decreto.head()"
   ]
  },
  {
   "cell_type": "code",
   "execution_count": 52,
   "id": "greatest-cuisine",
   "metadata": {},
   "outputs": [
    {
     "data": {
      "text/html": [
       "<div>\n",
       "<style scoped>\n",
       "    .dataframe tbody tr th:only-of-type {\n",
       "        vertical-align: middle;\n",
       "    }\n",
       "\n",
       "    .dataframe tbody tr th {\n",
       "        vertical-align: top;\n",
       "    }\n",
       "\n",
       "    .dataframe thead th {\n",
       "        text-align: right;\n",
       "    }\n",
       "</style>\n",
       "<table border=\"1\" class=\"dataframe\">\n",
       "  <thead>\n",
       "    <tr style=\"text-align: right;\">\n",
       "      <th></th>\n",
       "      <th>folios</th>\n",
       "    </tr>\n",
       "  </thead>\n",
       "  <tbody>\n",
       "  </tbody>\n",
       "</table>\n",
       "</div>"
      ],
      "text/plain": [
       "Empty DataFrame\n",
       "Columns: [folios]\n",
       "Index: []"
      ]
     },
     "execution_count": 52,
     "metadata": {},
     "output_type": "execute_result"
    }
   ],
   "source": [
    "decision_new_data_folio.head()"
   ]
  },
  {
   "cell_type": "code",
   "execution_count": 393,
   "id": "stuffed-gasoline",
   "metadata": {},
   "outputs": [],
   "source": [
    "parquet_data = pd.read_parquet('processed_data.gzip')"
   ]
  },
  {
   "cell_type": "code",
   "execution_count": 394,
   "id": "legendary-nightlife",
   "metadata": {},
   "outputs": [
    {
     "data": {
      "text/html": [
       "<div>\n",
       "<style scoped>\n",
       "    .dataframe tbody tr th:only-of-type {\n",
       "        vertical-align: middle;\n",
       "    }\n",
       "\n",
       "    .dataframe tbody tr th {\n",
       "        vertical-align: top;\n",
       "    }\n",
       "\n",
       "    .dataframe thead th {\n",
       "        text-align: right;\n",
       "    }\n",
       "</style>\n",
       "<table border=\"1\" class=\"dataframe\">\n",
       "  <thead>\n",
       "    <tr style=\"text-align: right;\">\n",
       "      <th></th>\n",
       "      <th>folios</th>\n",
       "      <th>articulos</th>\n",
       "      <th>sentencias</th>\n",
       "      <th>decretos</th>\n",
       "      <th>reference</th>\n",
       "    </tr>\n",
       "  </thead>\n",
       "  <tbody>\n",
       "    <tr>\n",
       "      <th>0</th>\n",
       "      <td>[articulo 36 del decreto 2591 de 1991, articul...</td>\n",
       "      <td>[articulo 36 del decreto 2591 de 1991, articul...</td>\n",
       "      <td>[sentencia y del expediente a la superintenden...</td>\n",
       "      <td>[decreto 2591 de 1991]</td>\n",
       "      <td>T-2719663</td>\n",
       "    </tr>\n",
       "    <tr>\n",
       "      <th>1</th>\n",
       "      <td>[articulo 36 del decreto 2591 de  1991, para l...</td>\n",
       "      <td>[articulo 36 del decreto 2591 de  1991, para l...</td>\n",
       "      <td>[sentencia proferida por el juzgado primero pe...</td>\n",
       "      <td>[decreto 2591 de  1991, para los efectos alli ...</td>\n",
       "      <td>T-3176539</td>\n",
       "    </tr>\n",
       "    <tr>\n",
       "      <th>2</th>\n",
       "      <td>[articulos 86 y 241-9 de la  constitucion poli...</td>\n",
       "      <td>[articulos 86 y 241-9 de la  constitucion poli...</td>\n",
       "      <td>[sentencia  c-134 de 1994, en la que se declar...</td>\n",
       "      <td>[decreto 2591 de 1991, decreto  2591 de 1991, ...</td>\n",
       "      <td>T-3180007</td>\n",
       "    </tr>\n",
       "    <tr>\n",
       "      <th>3</th>\n",
       "      <td>[articulo 239 del codigo sustantivo del trabaj...</td>\n",
       "      <td>[articulo 239 del codigo sustantivo del trabaj...</td>\n",
       "      <td>[sentencia proferida el siete (7) de mayo de 2...</td>\n",
       "      <td>[decreto 2591 de 1991, decreto 3135 de 1968, e...</td>\n",
       "      <td>T-2764991 Y 2822307</td>\n",
       "    </tr>\n",
       "    <tr>\n",
       "      <th>4</th>\n",
       "      <td>[articulos 86 y 241 numeral 9° de la constituc...</td>\n",
       "      <td>[articulos 86 y 241 numeral 9° de la constituc...</td>\n",
       "      <td>[sentencia proferida dentro del proceso de la ...</td>\n",
       "      <td>[decreto 2591 de 1991]</td>\n",
       "      <td>T-3201980</td>\n",
       "    </tr>\n",
       "    <tr>\n",
       "      <th>...</th>\n",
       "      <td>...</td>\n",
       "      <td>...</td>\n",
       "      <td>...</td>\n",
       "      <td>...</td>\n",
       "      <td>...</td>\n",
       "    </tr>\n",
       "    <tr>\n",
       "      <th>1794</th>\n",
       "      <td>[articulo 36 del decreto ley 2591 de 1991, art...</td>\n",
       "      <td>[articulo 36 del decreto ley 2591 de 1991, art...</td>\n",
       "      <td>[sentencias proferidas el tres (3) de septiemb...</td>\n",
       "      <td>[decreto ley 2591 de 1991, decreto 2591 de 199...</td>\n",
       "      <td>T-7136911</td>\n",
       "    </tr>\n",
       "    <tr>\n",
       "      <th>1795</th>\n",
       "      <td>[articulo 55 (sic) del  reglamento interno de ...</td>\n",
       "      <td>[articulo 55 (sic) del  reglamento interno de ...</td>\n",
       "      <td>[sentencia t-284 de 2019[153]  (expediente t-7...</td>\n",
       "      <td>[]</td>\n",
       "      <td>T-7055614 Y OTRO ACUMULADOS</td>\n",
       "    </tr>\n",
       "    <tr>\n",
       "      <th>1796</th>\n",
       "      <td>[articulo 488 del codigo sustantivo del  traba...</td>\n",
       "      <td>[articulo 488 del codigo sustantivo del  traba...</td>\n",
       "      <td>[sentencias t-426 de 2001 m, sentencias t-051 ...</td>\n",
       "      <td>[decreto 2591 de 1991, decreto 1730 de 2001: i...</td>\n",
       "      <td>T-7222037 Y OTRO ACUMULADOS</td>\n",
       "    </tr>\n",
       "    <tr>\n",
       "      <th>1797</th>\n",
       "      <td>[articulos 86 y 241, numeral 9º, de la  consti...</td>\n",
       "      <td>[articulos 86 y 241, numeral 9º, de la  consti...</td>\n",
       "      <td>[sentencias proferidas dentro del proceso de l...</td>\n",
       "      <td>[decreto  2591 de 1991, decreto 2591 de 1991 s...</td>\n",
       "      <td>T-6899349</td>\n",
       "    </tr>\n",
       "    <tr>\n",
       "      <th>1798</th>\n",
       "      <td>[articulo 36 del decreto 2591 de 1991, para lo...</td>\n",
       "      <td>[articulo 36 del decreto 2591 de 1991, para lo...</td>\n",
       "      <td>[sentencia t-299/19   derecho a la salud y  se...</td>\n",
       "      <td>[decreto 2591 de 1991, para los fines alli con...</td>\n",
       "      <td>T-7217174</td>\n",
       "    </tr>\n",
       "  </tbody>\n",
       "</table>\n",
       "<p>1799 rows × 5 columns</p>\n",
       "</div>"
      ],
      "text/plain": [
       "                                                 folios  \\\n",
       "0     [articulo 36 del decreto 2591 de 1991, articul...   \n",
       "1     [articulo 36 del decreto 2591 de  1991, para l...   \n",
       "2     [articulos 86 y 241-9 de la  constitucion poli...   \n",
       "3     [articulo 239 del codigo sustantivo del trabaj...   \n",
       "4     [articulos 86 y 241 numeral 9° de la constituc...   \n",
       "...                                                 ...   \n",
       "1794  [articulo 36 del decreto ley 2591 de 1991, art...   \n",
       "1795  [articulo 55 (sic) del  reglamento interno de ...   \n",
       "1796  [articulo 488 del codigo sustantivo del  traba...   \n",
       "1797  [articulos 86 y 241, numeral 9º, de la  consti...   \n",
       "1798  [articulo 36 del decreto 2591 de 1991, para lo...   \n",
       "\n",
       "                                              articulos  \\\n",
       "0     [articulo 36 del decreto 2591 de 1991, articul...   \n",
       "1     [articulo 36 del decreto 2591 de  1991, para l...   \n",
       "2     [articulos 86 y 241-9 de la  constitucion poli...   \n",
       "3     [articulo 239 del codigo sustantivo del trabaj...   \n",
       "4     [articulos 86 y 241 numeral 9° de la constituc...   \n",
       "...                                                 ...   \n",
       "1794  [articulo 36 del decreto ley 2591 de 1991, art...   \n",
       "1795  [articulo 55 (sic) del  reglamento interno de ...   \n",
       "1796  [articulo 488 del codigo sustantivo del  traba...   \n",
       "1797  [articulos 86 y 241, numeral 9º, de la  consti...   \n",
       "1798  [articulo 36 del decreto 2591 de 1991, para lo...   \n",
       "\n",
       "                                             sentencias  \\\n",
       "0     [sentencia y del expediente a la superintenden...   \n",
       "1     [sentencia proferida por el juzgado primero pe...   \n",
       "2     [sentencia  c-134 de 1994, en la que se declar...   \n",
       "3     [sentencia proferida el siete (7) de mayo de 2...   \n",
       "4     [sentencia proferida dentro del proceso de la ...   \n",
       "...                                                 ...   \n",
       "1794  [sentencias proferidas el tres (3) de septiemb...   \n",
       "1795  [sentencia t-284 de 2019[153]  (expediente t-7...   \n",
       "1796  [sentencias t-426 de 2001 m, sentencias t-051 ...   \n",
       "1797  [sentencias proferidas dentro del proceso de l...   \n",
       "1798  [sentencia t-299/19   derecho a la salud y  se...   \n",
       "\n",
       "                                               decretos  \\\n",
       "0                                [decreto 2591 de 1991]   \n",
       "1     [decreto 2591 de  1991, para los efectos alli ...   \n",
       "2     [decreto 2591 de 1991, decreto  2591 de 1991, ...   \n",
       "3     [decreto 2591 de 1991, decreto 3135 de 1968, e...   \n",
       "4                                [decreto 2591 de 1991]   \n",
       "...                                                 ...   \n",
       "1794  [decreto ley 2591 de 1991, decreto 2591 de 199...   \n",
       "1795                                                 []   \n",
       "1796  [decreto 2591 de 1991, decreto 1730 de 2001: i...   \n",
       "1797  [decreto  2591 de 1991, decreto 2591 de 1991 s...   \n",
       "1798  [decreto 2591 de 1991, para los fines alli con...   \n",
       "\n",
       "                        reference  \n",
       "0                       T-2719663  \n",
       "1                       T-3176539  \n",
       "2                       T-3180007  \n",
       "3             T-2764991 Y 2822307  \n",
       "4                       T-3201980  \n",
       "...                           ...  \n",
       "1794                    T-7136911  \n",
       "1795  T-7055614 Y OTRO ACUMULADOS  \n",
       "1796  T-7222037 Y OTRO ACUMULADOS  \n",
       "1797                    T-6899349  \n",
       "1798                    T-7217174  \n",
       "\n",
       "[1799 rows x 5 columns]"
      ]
     },
     "execution_count": 394,
     "metadata": {},
     "output_type": "execute_result"
    }
   ],
   "source": [
    "parquet_data"
   ]
  },
  {
   "cell_type": "code",
   "execution_count": null,
   "id": "charged-arena",
   "metadata": {},
   "outputs": [],
   "source": []
  },
  {
   "cell_type": "code",
   "execution_count": null,
   "id": "initial-teaching",
   "metadata": {},
   "outputs": [],
   "source": []
  },
  {
   "cell_type": "code",
   "execution_count": null,
   "id": "controversial-remainder",
   "metadata": {},
   "outputs": [],
   "source": []
  },
  {
   "cell_type": "code",
   "execution_count": null,
   "id": "elect-roller",
   "metadata": {},
   "outputs": [],
   "source": []
  },
  {
   "cell_type": "code",
   "execution_count": null,
   "id": "legendary-guard",
   "metadata": {},
   "outputs": [],
   "source": []
  },
  {
   "cell_type": "code",
   "execution_count": null,
   "id": "buried-extra",
   "metadata": {},
   "outputs": [],
   "source": []
  },
  {
   "cell_type": "code",
   "execution_count": null,
   "id": "convinced-damages",
   "metadata": {},
   "outputs": [],
   "source": []
  },
  {
   "cell_type": "markdown",
   "id": "indie-lesson",
   "metadata": {},
   "source": [
    "# Propuesta de generar NER para documentos Legales en Colombia"
   ]
  },
  {
   "cell_type": "code",
   "execution_count": 162,
   "id": "fifty-functionality",
   "metadata": {},
   "outputs": [],
   "source": [
    "tokens=[\"articulo\", \"16\", \"de\", \"la\", \"ley\", \"31\", \"de\", \"1992\"]\n",
    "pos_labels=['ART', 'NUM', 'NN', 'NN', 'NN', 'NUM', 'NN', 'YEAR', '.']\n",
    "entity_labels=['ARTICULO','NUM-ARTICULO','STOP','LEY','NUM-LEY','STOP','LEY-ANNO','O','O']"
   ]
  },
  {
   "cell_type": "code",
   "execution_count": 163,
   "id": "sticky-crown",
   "metadata": {},
   "outputs": [
    {
     "name": "stdout",
     "output_type": "stream",
     "text": [
      "articulo ART ART ARTICULO\n",
      "16 NUM NUM NUM-ARTICULO\n",
      "de NN NN STOP\n",
      "la NN NN LEY\n",
      "ley NN NN NUM-LEY\n",
      "31 NUM NUM STOP\n",
      "de NN NN LEY-ANNO\n",
      "1992 YEAR YEAR O\n",
      "\n"
     ]
    }
   ],
   "source": [
    "labels_lines=''\n",
    "for token,pos,label in zip(tokens,pos_labels,entity_labels):\n",
    "    labels_lines+=\"{} {} {} {}\\n\".format(token, pos, pos, label)\n",
    "print(labels_lines)"
   ]
  },
  {
   "cell_type": "code",
   "execution_count": 223,
   "id": "grand-impression",
   "metadata": {},
   "outputs": [
    {
     "name": "stdout",
     "output_type": "stream",
     "text": [
      "[('articulo', '86 de la c'), ('Articulo', '12,23, 23,23')]\n",
      "<re.Match object; span=(8, 28), match='articulo 86 de la c.'>\n"
     ]
    }
   ],
   "source": [
    "addrtext = '[15] el articulo 86 de la c. p. reza lo siguiente: toda persona tendra accion de Articulo 12,23, 23,23. tutela para reclamar ante los jueces,'    \n",
    "newtext = addrtext  \n",
    "ippat = re.compile(r'(articulo|articulos)[ ]([\\s\\S]*?)\\.', flags=re.I | re.X)  \n",
    "mtch = ippat.search(newtext) \n",
    "print(ippat.findall(newtext))\n",
    "print(mtch)\n",
    "\n"
   ]
  },
  {
   "cell_type": "code",
   "execution_count": 224,
   "id": "bulgarian-simpson",
   "metadata": {},
   "outputs": [
    {
     "name": "stdout",
     "output_type": "stream",
     "text": [
      "[('articulo', '86 de la c')]\n"
     ]
    }
   ],
   "source": [
    "import re\n",
    "line = \"[15] el articulo 86 de la c. p. reza lo siguiente: toda persona tendra accion de Articulo 12,23, 23,23. tutela para reclamar ante los jueces,\"\n",
    "matches = re.findall('(articulo|articulos)[ ]([\\s\\S]*?)\\.', line)\n",
    "print(matches)"
   ]
  },
  {
   "cell_type": "code",
   "execution_count": 255,
   "id": "becoming-instrument",
   "metadata": {},
   "outputs": [
    {
     "name": "stdout",
     "output_type": "stream",
     "text": [
      "[('articulo', '86 de la c'), ('articulo', '12,23, 23,23')]\n"
     ]
    }
   ],
   "source": [
    "import re\n",
    "s = \"[15] el articulo 86 de la c. p. reza lo siguiente: toda persona tendra accion de articulo 12,23, 23,23. tutela para reclamar ante los jueces, del folio, del decreto,.\"\n",
    "r = re.compile(r'(articulo|articulos)[ ]([\\s\\S]*?)\\.')\n",
    "print(r.findall(s))"
   ]
  },
  {
   "cell_type": "markdown",
   "id": "coastal-exhaust",
   "metadata": {},
   "source": [
    "## Generador data"
   ]
  },
  {
   "cell_type": "code",
   "execution_count": 256,
   "id": "quality-cycle",
   "metadata": {},
   "outputs": [],
   "source": [
    "validate =  [int, str, \"articulo\", \"folio\", \"sentencia\", \"decreto\"]\n"
   ]
  },
  {
   "cell_type": "code",
   "execution_count": 294,
   "id": "moved-wallet",
   "metadata": {},
   "outputs": [
    {
     "data": {
      "text/plain": [
       "{'articulo': 'B-ART',\n",
       " 'folio': 'FOL',\n",
       " 'sentencia': 'SEN',\n",
       " 'decreto': 'DEC',\n",
       " 'ley': 'LEY',\n",
       " 'num': 'NUM',\n",
       " False: 'MIS'}"
      ]
     },
     "execution_count": 294,
     "metadata": {},
     "output_type": "execute_result"
    }
   ],
   "source": [
    "validate_label = {\n",
    "    \"articulo\": \"B-ART\",\n",
    "    \"folio\": \"FOL\",\n",
    "    \"sentencia\": \"SEN\",\n",
    "    \"decreto\": \"DEC\",\n",
    "    \"ley\": \"LEY\",\n",
    "    \"num\": \"NUM\",\n",
    "    False: \"MIS\"\n",
    "}\n",
    "validate_label"
   ]
  },
  {
   "cell_type": "code",
   "execution_count": 295,
   "id": "delayed-relevance",
   "metadata": {},
   "outputs": [
    {
     "data": {
      "text/plain": [
       "{'sw': 'SW'}"
      ]
     },
     "execution_count": 295,
     "metadata": {},
     "output_type": "execute_result"
    }
   ],
   "source": [
    "validate_label_mix = {\n",
    "    \"sw\": \"SW\", # refactorizar, nltk StopWords\n",
    "}\n",
    "validate_label_mix"
   ]
  },
  {
   "cell_type": "code",
   "execution_count": 296,
   "id": "trained-soundtrack",
   "metadata": {},
   "outputs": [],
   "source": [
    "def clean_word(word):\n",
    "    _ = quita_signos(word) # refactorizar\n",
    "    return _.strip()"
   ]
  },
  {
   "cell_type": "code",
   "execution_count": 297,
   "id": "premier-indonesian",
   "metadata": {},
   "outputs": [],
   "source": [
    "# refactorizar\n",
    "def generate_data_ner(text):\n",
    "    list_label = []\n",
    "    list_value = []\n",
    "    index = 0\n",
    "    data = text.split(' ')\n",
    "    for item in data:\n",
    "        clean_item = clean_word(item)\n",
    "        if clean_item == \"\":\n",
    "            pass\n",
    "        elif validate_label.get(clean_item):\n",
    "            list_label.append(validate_label.get(clean_item))\n",
    "            list_value.append(clean_item)\n",
    "        elif clean_item.isnumeric():\n",
    "            list_label.append(validate_label.get('num'))\n",
    "            list_value.append(clean_item)\n",
    "        elif len(item) <= 3 and item != 'ley':\n",
    "            list_label.append(validate_label_mix.get('sw'))\n",
    "            list_value.append(clean_item)\n",
    "        else:\n",
    "            list_label.append(validate_label.get(False))\n",
    "            list_value.append(clean_item)\n",
    "        index = index + 1\n",
    "        \n",
    "    NER = dict(\n",
    "        zip(\n",
    "            list_value, list_label\n",
    "        )\n",
    "    )\n",
    "        \n",
    "    print(\"=========== VALUES ===============\")\n",
    "    print(list_value)   \n",
    "    print(\"=========== LABELS ===============\")\n",
    "    print(list_label) \n",
    "    print(\"=========== NER - DICT ===============\")\n",
    "    print(NER)\n",
    "    return NER"
   ]
  },
  {
   "cell_type": "code",
   "execution_count": 298,
   "id": "solar-italy",
   "metadata": {},
   "outputs": [
    {
     "name": "stdout",
     "output_type": "stream",
     "text": [
      "=========== VALUES ===============\n",
      "['15', 'el', 'articulo', '86', 'de', 'la', 'c', 'p', 'reza', 'lo', 'siguiente', 'toda', 'persona', 'tendra', 'accion', 'de', 'articulo', '1223', '2323', 'tutela', 'para', 'reclamar', 'ante', 'los', 'jueces', 'del', 'folio', 'del', 'decreto']\n",
      "=========== LABELS ===============\n",
      "['NUM', 'SW', 'B-ART', 'NUM', 'SW', 'SW', 'SW', 'SW', 'MIS', 'SW', 'MIS', 'MIS', 'MIS', 'MIS', 'MIS', 'SW', 'B-ART', 'NUM', 'NUM', 'MIS', 'MIS', 'MIS', 'MIS', 'SW', 'MIS', 'SW', 'FOL', 'SW', 'DEC']\n",
      "=========== NER - DICT ===============\n",
      "{'15': 'NUM', 'el': 'SW', 'articulo': 'B-ART', '86': 'NUM', 'de': 'SW', 'la': 'SW', 'c': 'SW', 'p': 'SW', 'reza': 'MIS', 'lo': 'SW', 'siguiente': 'MIS', 'toda': 'MIS', 'persona': 'MIS', 'tendra': 'MIS', 'accion': 'MIS', '1223': 'NUM', '2323': 'NUM', 'tutela': 'MIS', 'para': 'MIS', 'reclamar': 'MIS', 'ante': 'MIS', 'los': 'SW', 'jueces': 'MIS', 'del': 'SW', 'folio': 'FOL', 'decreto': 'DEC'}\n"
     ]
    },
    {
     "data": {
      "text/plain": [
       "{'15': 'NUM',\n",
       " 'el': 'SW',\n",
       " 'articulo': 'B-ART',\n",
       " '86': 'NUM',\n",
       " 'de': 'SW',\n",
       " 'la': 'SW',\n",
       " 'c': 'SW',\n",
       " 'p': 'SW',\n",
       " 'reza': 'MIS',\n",
       " 'lo': 'SW',\n",
       " 'siguiente': 'MIS',\n",
       " 'toda': 'MIS',\n",
       " 'persona': 'MIS',\n",
       " 'tendra': 'MIS',\n",
       " 'accion': 'MIS',\n",
       " '1223': 'NUM',\n",
       " '2323': 'NUM',\n",
       " 'tutela': 'MIS',\n",
       " 'para': 'MIS',\n",
       " 'reclamar': 'MIS',\n",
       " 'ante': 'MIS',\n",
       " 'los': 'SW',\n",
       " 'jueces': 'MIS',\n",
       " 'del': 'SW',\n",
       " 'folio': 'FOL',\n",
       " 'decreto': 'DEC'}"
      ]
     },
     "execution_count": 298,
     "metadata": {},
     "output_type": "execute_result"
    }
   ],
   "source": [
    "generate_data_ner(s)"
   ]
  },
  {
   "cell_type": "code",
   "execution_count": null,
   "id": "treated-crawford",
   "metadata": {},
   "outputs": [],
   "source": []
  },
  {
   "cell_type": "markdown",
   "id": "personalized-sitting",
   "metadata": {},
   "source": [
    "## ============> Dinamyc "
   ]
  },
  {
   "cell_type": "code",
   "execution_count": 266,
   "id": "fancy-oasis",
   "metadata": {},
   "outputs": [
    {
     "name": "stdout",
     "output_type": "stream",
     "text": [
      "['articulo', '319', 'del', 'codigo', 'de', 'procedimiento', 'civil']\n",
      "['ART', 'NUM', 'SW', 'MIS', 'SW', 'MIS', 'MIS']\n"
     ]
    }
   ],
   "source": [
    "for index, row in decision_new_data_articulo[1:2].iterrows():\n",
    "    generate_data_ner(row['articulos'])\n"
   ]
  },
  {
   "cell_type": "code",
   "execution_count": 249,
   "id": "spare-command",
   "metadata": {},
   "outputs": [
    {
     "data": {
      "text/plain": [
       "['articulo', '', '319', 'del', 'codigo', 'de', 'procedimiento', 'civil']"
      ]
     },
     "execution_count": 249,
     "metadata": {},
     "output_type": "execute_result"
    }
   ],
   "source": [
    "decision_new_data_articulo[1:2]['articulos'][1].split(' ')"
   ]
  },
  {
   "cell_type": "code",
   "execution_count": 240,
   "id": "familiar-shelter",
   "metadata": {},
   "outputs": [
    {
     "data": {
      "text/plain": [
       "1    articulo  319 del codigo de procedimiento civil\n",
       "Name: articulos, dtype: object"
      ]
     },
     "execution_count": 240,
     "metadata": {},
     "output_type": "execute_result"
    }
   ],
   "source": [
    "decision_new_data_articulo[1:2]['articulos']"
   ]
  }
 ],
 "metadata": {
  "kernelspec": {
   "display_name": "Python 3",
   "language": "python",
   "name": "python3"
  },
  "language_info": {
   "codemirror_mode": {
    "name": "ipython",
    "version": 3
   },
   "file_extension": ".py",
   "mimetype": "text/x-python",
   "name": "python",
   "nbconvert_exporter": "python",
   "pygments_lexer": "ipython3",
   "version": "3.8.5"
  }
 },
 "nbformat": 4,
 "nbformat_minor": 5
}
