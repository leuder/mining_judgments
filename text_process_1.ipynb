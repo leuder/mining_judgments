{
 "cells": [
  {
   "cell_type": "code",
   "execution_count": 504,
   "id": "developmental-procurement",
   "metadata": {},
   "outputs": [],
   "source": [
    "import os\n",
    "import re\n",
    "import csv\n",
    "import string\n",
    "import unicodedata\n",
    "import pandas as pd\n",
    "import matplotlib.pyplot as plt"
   ]
  },
  {
   "cell_type": "code",
   "execution_count": 505,
   "id": "affiliated-princess",
   "metadata": {},
   "outputs": [],
   "source": [
    "data = pd.read_csv(\"data.csv\",  encoding='utf8', low_memory=False )"
   ]
  },
  {
   "cell_type": "code",
   "execution_count": 506,
   "id": "instant-configuration",
   "metadata": {},
   "outputs": [
    {
     "data": {
      "text/plain": [
       "(4410, 12)"
      ]
     },
     "execution_count": 506,
     "metadata": {},
     "output_type": "execute_result"
    }
   ],
   "source": [
    "data.shape"
   ]
  },
  {
   "cell_type": "code",
   "execution_count": 507,
   "id": "racial-adaptation",
   "metadata": {},
   "outputs": [
    {
     "data": {
      "text/html": [
       "<div>\n",
       "<style scoped>\n",
       "    .dataframe tbody tr th:only-of-type {\n",
       "        vertical-align: middle;\n",
       "    }\n",
       "\n",
       "    .dataframe tbody tr th {\n",
       "        vertical-align: top;\n",
       "    }\n",
       "\n",
       "    .dataframe thead th {\n",
       "        text-align: right;\n",
       "    }\n",
       "</style>\n",
       "<table border=\"1\" class=\"dataframe\">\n",
       "  <thead>\n",
       "    <tr style=\"text-align: right;\">\n",
       "      <th></th>\n",
       "      <th>_id</th>\n",
       "      <th>collective</th>\n",
       "      <th>date</th>\n",
       "      <th>file_id</th>\n",
       "      <th>judicature</th>\n",
       "      <th>participants</th>\n",
       "      <th>report_receipt_at</th>\n",
       "      <th>sentence_id</th>\n",
       "      <th>text</th>\n",
       "      <th>topic</th>\n",
       "      <th>url</th>\n",
       "      <th>vocabulary</th>\n",
       "    </tr>\n",
       "  </thead>\n",
       "  <tbody>\n",
       "    <tr>\n",
       "      <th>4408</th>\n",
       "      <td>corteconstitucional_A. 175A/19</td>\n",
       "      <td>{\"entity\": {\"$oid\": \"5fa5017c5821d011a2a92372\"}}</td>\n",
       "      <td>2019-04-03T00:00:00.000Z</td>\n",
       "      <td>T-7071794</td>\n",
       "      <td>[{\"name\": \"ALBERTO ROJAS RÍOS\", \"rol\": \"PONENT...</td>\n",
       "      <td>[{\"name\": \"DARIO GOMEZ SUAREZ\", \"role\": \"PLAIN...</td>\n",
       "      <td>2019-07-08</td>\n",
       "      <td>A. 175A/19</td>\n",
       "      <td>Auto 175A/19\\n \\n \\nReferencia: Expediente T-7...</td>\n",
       "      <td>El accionante le solicitó a la Corporación dec...</td>\n",
       "      <td>https://www.corteconstitucional.gov.co/relator...</td>\n",
       "      <td>[{\"text\": \"auto\", \"qty\": 7}, {\"text\": \"referen...</td>\n",
       "    </tr>\n",
       "    <tr>\n",
       "      <th>4409</th>\n",
       "      <td>corteconstitucional_A. 121/19</td>\n",
       "      <td>{\"entity\": {\"$oid\": \"5fa501875821d011a2a93763\"}}</td>\n",
       "      <td>2019-03-13T00:00:00.000Z</td>\n",
       "      <td>T-6843600</td>\n",
       "      <td>[{\"name\": \"GLORIA STELLA ORTIZ DELGADO\", \"rol\"...</td>\n",
       "      <td>[{\"name\": \"COMISION INTERECLESIAL DE JUSTICIA ...</td>\n",
       "      <td>2019-03-21</td>\n",
       "      <td>A. 121/19</td>\n",
       "      <td>Auto\\r\\n121/19\\n \\n \\nReferencia: expediente T...</td>\n",
       "      <td>Con el presente auto se suspenden los términos...</td>\n",
       "      <td>https://www.corteconstitucional.gov.co/relator...</td>\n",
       "      <td>[{\"text\": \"auto\", \"qty\": 17}, {\"text\": \"refere...</td>\n",
       "    </tr>\n",
       "  </tbody>\n",
       "</table>\n",
       "</div>"
      ],
      "text/plain": [
       "                                 _id  \\\n",
       "4408  corteconstitucional_A. 175A/19   \n",
       "4409   corteconstitucional_A. 121/19   \n",
       "\n",
       "                                            collective  \\\n",
       "4408  {\"entity\": {\"$oid\": \"5fa5017c5821d011a2a92372\"}}   \n",
       "4409  {\"entity\": {\"$oid\": \"5fa501875821d011a2a93763\"}}   \n",
       "\n",
       "                          date    file_id  \\\n",
       "4408  2019-04-03T00:00:00.000Z  T-7071794   \n",
       "4409  2019-03-13T00:00:00.000Z  T-6843600   \n",
       "\n",
       "                                             judicature  \\\n",
       "4408  [{\"name\": \"ALBERTO ROJAS RÍOS\", \"rol\": \"PONENT...   \n",
       "4409  [{\"name\": \"GLORIA STELLA ORTIZ DELGADO\", \"rol\"...   \n",
       "\n",
       "                                           participants report_receipt_at  \\\n",
       "4408  [{\"name\": \"DARIO GOMEZ SUAREZ\", \"role\": \"PLAIN...        2019-07-08   \n",
       "4409  [{\"name\": \"COMISION INTERECLESIAL DE JUSTICIA ...        2019-03-21   \n",
       "\n",
       "     sentence_id                                               text  \\\n",
       "4408  A. 175A/19  Auto 175A/19\\n \\n \\nReferencia: Expediente T-7...   \n",
       "4409   A. 121/19  Auto\\r\\n121/19\\n \\n \\nReferencia: expediente T...   \n",
       "\n",
       "                                                  topic  \\\n",
       "4408  El accionante le solicitó a la Corporación dec...   \n",
       "4409  Con el presente auto se suspenden los términos...   \n",
       "\n",
       "                                                    url  \\\n",
       "4408  https://www.corteconstitucional.gov.co/relator...   \n",
       "4409  https://www.corteconstitucional.gov.co/relator...   \n",
       "\n",
       "                                             vocabulary  \n",
       "4408  [{\"text\": \"auto\", \"qty\": 7}, {\"text\": \"referen...  \n",
       "4409  [{\"text\": \"auto\", \"qty\": 17}, {\"text\": \"refere...  "
      ]
     },
     "execution_count": 507,
     "metadata": {},
     "output_type": "execute_result"
    }
   ],
   "source": [
    "data.tail(2)"
   ]
  },
  {
   "cell_type": "code",
   "execution_count": 508,
   "id": "cellular-yorkshire",
   "metadata": {},
   "outputs": [],
   "source": [
    "data = data.drop([\"judicature\", \"participants\", \"collective\", \"_id\", \"topic\", \"url\", \"vocabulary\", \"date\"], axis=1)"
   ]
  },
  {
   "cell_type": "code",
   "execution_count": 509,
   "id": "essential-worker",
   "metadata": {},
   "outputs": [
    {
     "data": {
      "text/html": [
       "<div>\n",
       "<style scoped>\n",
       "    .dataframe tbody tr th:only-of-type {\n",
       "        vertical-align: middle;\n",
       "    }\n",
       "\n",
       "    .dataframe tbody tr th {\n",
       "        vertical-align: top;\n",
       "    }\n",
       "\n",
       "    .dataframe thead th {\n",
       "        text-align: right;\n",
       "    }\n",
       "</style>\n",
       "<table border=\"1\" class=\"dataframe\">\n",
       "  <thead>\n",
       "    <tr style=\"text-align: right;\">\n",
       "      <th></th>\n",
       "      <th>file_id</th>\n",
       "      <th>report_receipt_at</th>\n",
       "      <th>sentence_id</th>\n",
       "      <th>text</th>\n",
       "    </tr>\n",
       "  </thead>\n",
       "  <tbody>\n",
       "    <tr>\n",
       "      <th>0</th>\n",
       "      <td>T-3140852</td>\n",
       "      <td>2012-08-08</td>\n",
       "      <td>T-017/12</td>\n",
       "      <td>REPÚBLICA DE COLOMBIA\\n\\n\\nSentencia T-017/12\\...</td>\n",
       "    </tr>\n",
       "    <tr>\n",
       "      <th>1</th>\n",
       "      <td>T-3183107</td>\n",
       "      <td>2012-05-18</td>\n",
       "      <td>T-016/12</td>\n",
       "      <td>REPÚBLICA DE COLOMBIA\\n\\n\\nSentencia\\r\\nT-016/...</td>\n",
       "    </tr>\n",
       "    <tr>\n",
       "      <th>2</th>\n",
       "      <td>T-3187308</td>\n",
       "      <td>2013-05-07</td>\n",
       "      <td>T-014/12</td>\n",
       "      <td>REPÚBLICA DE COLOMBIA\\n\\n\\nSentencia\\r\\nT-014/...</td>\n",
       "    </tr>\n",
       "    <tr>\n",
       "      <th>3</th>\n",
       "      <td>T-3182540</td>\n",
       "      <td>2012-05-18</td>\n",
       "      <td>T-015/12</td>\n",
       "      <td>REPÚBLICA DE COLOMBIA\\n\\n\\nSentencia T-015/12\\...</td>\n",
       "    </tr>\n",
       "    <tr>\n",
       "      <th>4</th>\n",
       "      <td>T-2719663</td>\n",
       "      <td>2011-05-10</td>\n",
       "      <td>T-012/11</td>\n",
       "      <td>REPÚBLICA DE COLOMBIA\\n\\n\\nSentencia T-012/11\\...</td>\n",
       "    </tr>\n",
       "  </tbody>\n",
       "</table>\n",
       "</div>"
      ],
      "text/plain": [
       "     file_id report_receipt_at sentence_id  \\\n",
       "0  T-3140852        2012-08-08    T-017/12   \n",
       "1  T-3183107        2012-05-18    T-016/12   \n",
       "2  T-3187308        2013-05-07    T-014/12   \n",
       "3  T-3182540        2012-05-18    T-015/12   \n",
       "4  T-2719663        2011-05-10    T-012/11   \n",
       "\n",
       "                                                text  \n",
       "0  REPÚBLICA DE COLOMBIA\\n\\n\\nSentencia T-017/12\\...  \n",
       "1  REPÚBLICA DE COLOMBIA\\n\\n\\nSentencia\\r\\nT-016/...  \n",
       "2  REPÚBLICA DE COLOMBIA\\n\\n\\nSentencia\\r\\nT-014/...  \n",
       "3  REPÚBLICA DE COLOMBIA\\n\\n\\nSentencia T-015/12\\...  \n",
       "4  REPÚBLICA DE COLOMBIA\\n\\n\\nSentencia T-012/11\\...  "
      ]
     },
     "execution_count": 509,
     "metadata": {},
     "output_type": "execute_result"
    }
   ],
   "source": [
    "data.head()"
   ]
  },
  {
   "cell_type": "code",
   "execution_count": 510,
   "id": "dried-ratio",
   "metadata": {},
   "outputs": [
    {
     "data": {
      "text/html": [
       "<div>\n",
       "<style scoped>\n",
       "    .dataframe tbody tr th:only-of-type {\n",
       "        vertical-align: middle;\n",
       "    }\n",
       "\n",
       "    .dataframe tbody tr th {\n",
       "        vertical-align: top;\n",
       "    }\n",
       "\n",
       "    .dataframe thead th {\n",
       "        text-align: right;\n",
       "    }\n",
       "</style>\n",
       "<table border=\"1\" class=\"dataframe\">\n",
       "  <thead>\n",
       "    <tr style=\"text-align: right;\">\n",
       "      <th></th>\n",
       "      <th>file_id</th>\n",
       "      <th>report_receipt_at</th>\n",
       "      <th>sentence_id</th>\n",
       "      <th>text</th>\n",
       "    </tr>\n",
       "  </thead>\n",
       "  <tbody>\n",
       "    <tr>\n",
       "      <th>0</th>\n",
       "      <td>T-3140852</td>\n",
       "      <td>2012-08-08</td>\n",
       "      <td>T-017/12</td>\n",
       "      <td>REPÚBLICA DE COLOMBIA\\n\\n\\nSentencia T-017/12\\...</td>\n",
       "    </tr>\n",
       "  </tbody>\n",
       "</table>\n",
       "</div>"
      ],
      "text/plain": [
       "     file_id report_receipt_at sentence_id  \\\n",
       "0  T-3140852        2012-08-08    T-017/12   \n",
       "\n",
       "                                                text  \n",
       "0  REPÚBLICA DE COLOMBIA\\n\\n\\nSentencia T-017/12\\...  "
      ]
     },
     "execution_count": 510,
     "metadata": {},
     "output_type": "execute_result"
    }
   ],
   "source": [
    "data.head(1)"
   ]
  },
  {
   "cell_type": "code",
   "execution_count": 511,
   "id": "twenty-toyota",
   "metadata": {},
   "outputs": [],
   "source": [
    "data[\"text\"] = data[\"text\"].str.lower()"
   ]
  },
  {
   "cell_type": "code",
   "execution_count": 512,
   "id": "introductory-comfort",
   "metadata": {},
   "outputs": [
    {
     "data": {
      "text/plain": [
       "4410"
      ]
     },
     "execution_count": 512,
     "metadata": {},
     "output_type": "execute_result"
    }
   ],
   "source": [
    "len(data[\"text\"])"
   ]
  },
  {
   "cell_type": "code",
   "execution_count": 513,
   "id": "considered-uncle",
   "metadata": {},
   "outputs": [
    {
     "data": {
      "text/html": [
       "<div>\n",
       "<style scoped>\n",
       "    .dataframe tbody tr th:only-of-type {\n",
       "        vertical-align: middle;\n",
       "    }\n",
       "\n",
       "    .dataframe tbody tr th {\n",
       "        vertical-align: top;\n",
       "    }\n",
       "\n",
       "    .dataframe thead th {\n",
       "        text-align: right;\n",
       "    }\n",
       "</style>\n",
       "<table border=\"1\" class=\"dataframe\">\n",
       "  <thead>\n",
       "    <tr style=\"text-align: right;\">\n",
       "      <th></th>\n",
       "      <th>file_id</th>\n",
       "      <th>report_receipt_at</th>\n",
       "      <th>sentence_id</th>\n",
       "      <th>text</th>\n",
       "    </tr>\n",
       "  </thead>\n",
       "  <tbody>\n",
       "    <tr>\n",
       "      <th>0</th>\n",
       "      <td>T-3140852</td>\n",
       "      <td>2012-08-08</td>\n",
       "      <td>T-017/12</td>\n",
       "      <td>república de colombia\\n\\n\\nsentencia t-017/12\\...</td>\n",
       "    </tr>\n",
       "    <tr>\n",
       "      <th>1</th>\n",
       "      <td>T-3183107</td>\n",
       "      <td>2012-05-18</td>\n",
       "      <td>T-016/12</td>\n",
       "      <td>república de colombia\\n\\n\\nsentencia\\r\\nt-016/...</td>\n",
       "    </tr>\n",
       "    <tr>\n",
       "      <th>2</th>\n",
       "      <td>T-3187308</td>\n",
       "      <td>2013-05-07</td>\n",
       "      <td>T-014/12</td>\n",
       "      <td>república de colombia\\n\\n\\nsentencia\\r\\nt-014/...</td>\n",
       "    </tr>\n",
       "    <tr>\n",
       "      <th>3</th>\n",
       "      <td>T-3182540</td>\n",
       "      <td>2012-05-18</td>\n",
       "      <td>T-015/12</td>\n",
       "      <td>república de colombia\\n\\n\\nsentencia t-015/12\\...</td>\n",
       "    </tr>\n",
       "    <tr>\n",
       "      <th>4</th>\n",
       "      <td>T-2719663</td>\n",
       "      <td>2011-05-10</td>\n",
       "      <td>T-012/11</td>\n",
       "      <td>república de colombia\\n\\n\\nsentencia t-012/11\\...</td>\n",
       "    </tr>\n",
       "    <tr>\n",
       "      <th>...</th>\n",
       "      <td>...</td>\n",
       "      <td>...</td>\n",
       "      <td>...</td>\n",
       "      <td>...</td>\n",
       "    </tr>\n",
       "    <tr>\n",
       "      <th>4405</th>\n",
       "      <td>T-6403234</td>\n",
       "      <td>2019-04-08</td>\n",
       "      <td>A. 177/19</td>\n",
       "      <td>auto 177/19\\n \\nreferencia:\\r\\nexpediente t-64...</td>\n",
       "    </tr>\n",
       "    <tr>\n",
       "      <th>4406</th>\n",
       "      <td>T-6945381</td>\n",
       "      <td>2019-05-27</td>\n",
       "      <td>A. 177A/19</td>\n",
       "      <td>auto\\r\\n177a/19\\n \\n \\nreferencia:\\r\\nexpedien...</td>\n",
       "    </tr>\n",
       "    <tr>\n",
       "      <th>4407</th>\n",
       "      <td>T-7064392 Y T-7073283</td>\n",
       "      <td>2019-04-08</td>\n",
       "      <td>SU.139/19</td>\n",
       "      <td>sentencia\\r\\nsu139/19 \\n \\naccion de tutela co...</td>\n",
       "    </tr>\n",
       "    <tr>\n",
       "      <th>4408</th>\n",
       "      <td>T-7071794</td>\n",
       "      <td>2019-07-08</td>\n",
       "      <td>A. 175A/19</td>\n",
       "      <td>auto 175a/19\\n \\n \\nreferencia: expediente t-7...</td>\n",
       "    </tr>\n",
       "    <tr>\n",
       "      <th>4409</th>\n",
       "      <td>T-6843600</td>\n",
       "      <td>2019-03-21</td>\n",
       "      <td>A. 121/19</td>\n",
       "      <td>auto\\r\\n121/19\\n \\n \\nreferencia: expediente t...</td>\n",
       "    </tr>\n",
       "  </tbody>\n",
       "</table>\n",
       "<p>4410 rows × 4 columns</p>\n",
       "</div>"
      ],
      "text/plain": [
       "                    file_id report_receipt_at sentence_id  \\\n",
       "0                 T-3140852        2012-08-08    T-017/12   \n",
       "1                 T-3183107        2012-05-18    T-016/12   \n",
       "2                 T-3187308        2013-05-07    T-014/12   \n",
       "3                 T-3182540        2012-05-18    T-015/12   \n",
       "4                 T-2719663        2011-05-10    T-012/11   \n",
       "...                     ...               ...         ...   \n",
       "4405              T-6403234        2019-04-08   A. 177/19   \n",
       "4406              T-6945381        2019-05-27  A. 177A/19   \n",
       "4407  T-7064392 Y T-7073283        2019-04-08   SU.139/19   \n",
       "4408              T-7071794        2019-07-08  A. 175A/19   \n",
       "4409              T-6843600        2019-03-21   A. 121/19   \n",
       "\n",
       "                                                   text  \n",
       "0     república de colombia\\n\\n\\nsentencia t-017/12\\...  \n",
       "1     república de colombia\\n\\n\\nsentencia\\r\\nt-016/...  \n",
       "2     república de colombia\\n\\n\\nsentencia\\r\\nt-014/...  \n",
       "3     república de colombia\\n\\n\\nsentencia t-015/12\\...  \n",
       "4     república de colombia\\n\\n\\nsentencia t-012/11\\...  \n",
       "...                                                 ...  \n",
       "4405  auto 177/19\\n \\nreferencia:\\r\\nexpediente t-64...  \n",
       "4406  auto\\r\\n177a/19\\n \\n \\nreferencia:\\r\\nexpedien...  \n",
       "4407  sentencia\\r\\nsu139/19 \\n \\naccion de tutela co...  \n",
       "4408  auto 175a/19\\n \\n \\nreferencia: expediente t-7...  \n",
       "4409  auto\\r\\n121/19\\n \\n \\nreferencia: expediente t...  \n",
       "\n",
       "[4410 rows x 4 columns]"
      ]
     },
     "execution_count": 513,
     "metadata": {},
     "output_type": "execute_result"
    }
   ],
   "source": [
    "data"
   ]
  },
  {
   "cell_type": "code",
   "execution_count": 514,
   "id": "impossible-charles",
   "metadata": {},
   "outputs": [],
   "source": [
    "new_data = pd.DataFrame([], columns = ['file_id', 'antecedentes' , 'decision'])"
   ]
  },
  {
   "cell_type": "code",
   "execution_count": 515,
   "id": "swiss-forward",
   "metadata": {},
   "outputs": [
    {
     "data": {
      "text/html": [
       "<div>\n",
       "<style scoped>\n",
       "    .dataframe tbody tr th:only-of-type {\n",
       "        vertical-align: middle;\n",
       "    }\n",
       "\n",
       "    .dataframe tbody tr th {\n",
       "        vertical-align: top;\n",
       "    }\n",
       "\n",
       "    .dataframe thead th {\n",
       "        text-align: right;\n",
       "    }\n",
       "</style>\n",
       "<table border=\"1\" class=\"dataframe\">\n",
       "  <thead>\n",
       "    <tr style=\"text-align: right;\">\n",
       "      <th></th>\n",
       "      <th>file_id</th>\n",
       "      <th>antecedentes</th>\n",
       "      <th>decision</th>\n",
       "    </tr>\n",
       "  </thead>\n",
       "  <tbody>\n",
       "  </tbody>\n",
       "</table>\n",
       "</div>"
      ],
      "text/plain": [
       "Empty DataFrame\n",
       "Columns: [file_id, antecedentes, decision]\n",
       "Index: []"
      ]
     },
     "execution_count": 515,
     "metadata": {},
     "output_type": "execute_result"
    }
   ],
   "source": [
    "new_data"
   ]
  },
  {
   "cell_type": "code",
   "execution_count": 516,
   "id": "auburn-scheme",
   "metadata": {},
   "outputs": [],
   "source": [
    "def quitar_tildes(cadena):\n",
    "    s = ''.join((c for c in unicodedata.normalize('NFD',cadena) if unicodedata.category(c) != 'Mn'))\n",
    "    return s"
   ]
  },
  {
   "cell_type": "code",
   "execution_count": 517,
   "id": "enclosed-expert",
   "metadata": {},
   "outputs": [],
   "source": [
    "def get_segment(data):\n",
    "    lista_df = []\n",
    "    for index, row in data.iterrows():\n",
    "        texto = re.split(\n",
    "            r'[\\n]+[(^i|^v|)]+\\.\\s{0,}[(\\w)]{0,}?', \n",
    "            quitar_tildes(row[\"text\"])\n",
    "        )\n",
    "        if len(texto) > 4:\n",
    "            lista_df.append({\"file_id\": row[\"file_id\"] , \"antecedentes\": texto[1], \"decision\": texto[4]})\n",
    "\n",
    "    return lista_df"
   ]
  },
  {
   "cell_type": "code",
   "execution_count": 518,
   "id": "widespread-camel",
   "metadata": {},
   "outputs": [],
   "source": [
    "new_data = pd.DataFrame(get_segment(data), columns = [\"file_id\", 'antecedentes' , 'decision'])"
   ]
  },
  {
   "cell_type": "code",
   "execution_count": 519,
   "id": "modified-retro",
   "metadata": {},
   "outputs": [
    {
     "data": {
      "text/html": [
       "<div>\n",
       "<style scoped>\n",
       "    .dataframe tbody tr th:only-of-type {\n",
       "        vertical-align: middle;\n",
       "    }\n",
       "\n",
       "    .dataframe tbody tr th {\n",
       "        vertical-align: top;\n",
       "    }\n",
       "\n",
       "    .dataframe thead th {\n",
       "        text-align: right;\n",
       "    }\n",
       "</style>\n",
       "<table border=\"1\" class=\"dataframe\">\n",
       "  <thead>\n",
       "    <tr style=\"text-align: right;\">\n",
       "      <th></th>\n",
       "      <th>file_id</th>\n",
       "      <th>antecedentes</th>\n",
       "      <th>decision</th>\n",
       "    </tr>\n",
       "  </thead>\n",
       "  <tbody>\n",
       "    <tr>\n",
       "      <th>0</th>\n",
       "      <td>T-3187308</td>\n",
       "      <td>antecedentes\\n \\n1. hechos\\n \\n1. el 27 de jul...</td>\n",
       "      <td>decision\\n \\ncon\\r\\nfundamento en las consider...</td>\n",
       "    </tr>\n",
       "    <tr>\n",
       "      <th>1</th>\n",
       "      <td>T-2719663</td>\n",
       "      <td>antecedentes\\n \\n1.    hechos\\n \\nel defensor ...</td>\n",
       "      <td>decision\\n \\nen merito de lo expuesto, la\\r\\ns...</td>\n",
       "    </tr>\n",
       "    <tr>\n",
       "      <th>2</th>\n",
       "      <td>T-3176539</td>\n",
       "      <td>antecedentes\\n \\nel ocho (8) de junio de dos m...</td>\n",
       "      <td>decision\\n \\nen merito de lo expuesto, la sala...</td>\n",
       "    </tr>\n",
       "    <tr>\n",
       "      <th>3</th>\n",
       "      <td>T-3180007</td>\n",
       "      <td>antecedentes\\n \\nel senor juan antonio, a trav...</td>\n",
       "      <td>consideraciones de la corte constitucional\\n \\...</td>\n",
       "    </tr>\n",
       "    <tr>\n",
       "      <th>4</th>\n",
       "      <td>T-2764991 Y 2822307</td>\n",
       "      <td>antecedentes\\n \\n1. hechos\\n \\nlos hechos rela...</td>\n",
       "      <td>decision \\n \\nen merito de lo expuesto, la sal...</td>\n",
       "    </tr>\n",
       "    <tr>\n",
       "      <th>...</th>\n",
       "      <td>...</td>\n",
       "      <td>...</td>\n",
       "      <td>...</td>\n",
       "    </tr>\n",
       "    <tr>\n",
       "      <th>1857</th>\n",
       "      <td>T-7128811</td>\n",
       "      <td>antecedentes\\n \\n1. hechos\\n \\n\\n1.1 la senora...</td>\n",
       "      <td>que no esten\\r\\nexpresamente incluidos en el p...</td>\n",
       "    </tr>\n",
       "    <tr>\n",
       "      <th>1858</th>\n",
       "      <td>T-6960341</td>\n",
       "      <td>antecedentes \\n \\n1. hechos y relato contenido...</td>\n",
       "      <td>pruebas decretadas en sede de revision \\n \\nel...</td>\n",
       "    </tr>\n",
       "    <tr>\n",
       "      <th>1859</th>\n",
       "      <td>T-7147012</td>\n",
       "      <td>antecedentes\\n \\nherley\\r\\nramirez alzate pres...</td>\n",
       "      <td>existencia\\r\\nde un peligro especifico e indiv...</td>\n",
       "    </tr>\n",
       "    <tr>\n",
       "      <th>1860</th>\n",
       "      <td>T-7103649</td>\n",
       "      <td>antecedentes\\n \\na. hechos y pretensiones\\n \\n...</td>\n",
       "      <td>decision\\n \\nen merito de lo expuesto, la sala...</td>\n",
       "    </tr>\n",
       "    <tr>\n",
       "      <th>1861</th>\n",
       "      <td>T-6882209</td>\n",
       "      <td>antecedentes\\n \\n1.     hechos relevantes\\n \\n...</td>\n",
       "      <td>sintesis\\n \\nen el presente caso, correspondio...</td>\n",
       "    </tr>\n",
       "  </tbody>\n",
       "</table>\n",
       "<p>1862 rows × 3 columns</p>\n",
       "</div>"
      ],
      "text/plain": [
       "                  file_id                                       antecedentes  \\\n",
       "0               T-3187308  antecedentes\\n \\n1. hechos\\n \\n1. el 27 de jul...   \n",
       "1               T-2719663  antecedentes\\n \\n1.    hechos\\n \\nel defensor ...   \n",
       "2               T-3176539  antecedentes\\n \\nel ocho (8) de junio de dos m...   \n",
       "3               T-3180007  antecedentes\\n \\nel senor juan antonio, a trav...   \n",
       "4     T-2764991 Y 2822307  antecedentes\\n \\n1. hechos\\n \\nlos hechos rela...   \n",
       "...                   ...                                                ...   \n",
       "1857            T-7128811  antecedentes\\n \\n1. hechos\\n \\n\\n1.1 la senora...   \n",
       "1858            T-6960341  antecedentes \\n \\n1. hechos y relato contenido...   \n",
       "1859            T-7147012  antecedentes\\n \\nherley\\r\\nramirez alzate pres...   \n",
       "1860            T-7103649  antecedentes\\n \\na. hechos y pretensiones\\n \\n...   \n",
       "1861            T-6882209  antecedentes\\n \\n1.     hechos relevantes\\n \\n...   \n",
       "\n",
       "                                               decision  \n",
       "0     decision\\n \\ncon\\r\\nfundamento en las consider...  \n",
       "1     decision\\n \\nen merito de lo expuesto, la\\r\\ns...  \n",
       "2     decision\\n \\nen merito de lo expuesto, la sala...  \n",
       "3     consideraciones de la corte constitucional\\n \\...  \n",
       "4     decision \\n \\nen merito de lo expuesto, la sal...  \n",
       "...                                                 ...  \n",
       "1857  que no esten\\r\\nexpresamente incluidos en el p...  \n",
       "1858  pruebas decretadas en sede de revision \\n \\nel...  \n",
       "1859  existencia\\r\\nde un peligro especifico e indiv...  \n",
       "1860  decision\\n \\nen merito de lo expuesto, la sala...  \n",
       "1861  sintesis\\n \\nen el presente caso, correspondio...  \n",
       "\n",
       "[1862 rows x 3 columns]"
      ]
     },
     "execution_count": 519,
     "metadata": {},
     "output_type": "execute_result"
    }
   ],
   "source": [
    "new_data"
   ]
  },
  {
   "cell_type": "code",
   "execution_count": 520,
   "id": "terminal-raising",
   "metadata": {},
   "outputs": [
    {
     "data": {
      "text/plain": [
       "(1862, 3)"
      ]
     },
     "execution_count": 520,
     "metadata": {},
     "output_type": "execute_result"
    }
   ],
   "source": [
    "new_data.shape"
   ]
  },
  {
   "cell_type": "code",
   "execution_count": 521,
   "id": "lyric-quest",
   "metadata": {},
   "outputs": [],
   "source": [
    "new_data.to_csv('splid_data.csv', sep=\",\",quotechar='\"', quoting=csv.QUOTE_ALL, encoding='utf-8')"
   ]
  },
  {
   "cell_type": "code",
   "execution_count": 522,
   "id": "acting-keyboard",
   "metadata": {},
   "outputs": [],
   "source": [
    "new_data.to_csv(r'splid_data.txt', header=None, index=None, sep=' ', mode='a')"
   ]
  },
  {
   "cell_type": "code",
   "execution_count": 523,
   "id": "subsequent-mexico",
   "metadata": {},
   "outputs": [],
   "source": [
    "def quitar_espacios(text):\n",
    "    text = re.sub('[‘’“”…«»]', '', text)\n",
    "    text = re.sub('\\n', ' ', text)\n",
    "    text = re.sub('\\r', ' ', text)\n",
    "    text = re.sub('\\xa0', ' ', text)\n",
    "\n",
    "    return text\n",
    "\n",
    "new_data[\"decision\"] = new_data.decision.apply(lambda x: quitar_espacios(x))\n",
    "new_data[\"antecedentes\"] = new_data.antecedentes.apply(lambda x: quitar_espacios(x))"
   ]
  },
  {
   "cell_type": "code",
   "execution_count": 524,
   "id": "declared-addiction",
   "metadata": {},
   "outputs": [],
   "source": [
    "#def quita_signos(text):\n",
    "#    puntuacion = string.punctuation\n",
    "#    for item in puntuacion:\n",
    "#        text = text.replace(item, \"\")\n",
    "#    return text\n",
    "\n",
    "#new_data[\"decision\"] = pd.DataFrame(new_data.decision.apply(lambda x: quita_signos(x)))\n",
    "#new_data[\"antecedentes\"] = pd.DataFrame(new_data.antecedentes.apply(lambda x: quita_signos(x)))"
   ]
  },
  {
   "cell_type": "code",
   "execution_count": 525,
   "id": "circular-angle",
   "metadata": {},
   "outputs": [
    {
     "data": {
      "text/plain": [
       "1    antecedentes   1.    hechos   el defensor del ...\n",
       "Name: antecedentes, dtype: object"
      ]
     },
     "execution_count": 525,
     "metadata": {},
     "output_type": "execute_result"
    }
   ],
   "source": [
    "new_data[1:2][\"antecedentes\"]"
   ]
  },
  {
   "cell_type": "code",
   "execution_count": 526,
   "id": "earlier-sculpture",
   "metadata": {},
   "outputs": [
    {
     "data": {
      "text/plain": [
       "'decision   en merito de lo expuesto, la  sala novena de revision de la corte constitucional, administrando justicia en  nombre del pueblo y por mandato de la constitucion,     resuelve:   primero.- revocar la sentencia  proferida el 27 de septiembre  de 2011 por la sala de casacion laboral de la  corte suprema de justicia que a su turno habia confirmado la sentencia dictada  el 10 de agosto de 2011 por sala de casacion civil de la corte suprema de  justicia que habia negado el amparo constitucional solicitado. en su lugar, conceder  la tutela por violacion del derecho al debido proceso.   segundo.- dejar sin efecto  las actuaciones surtidas por el juzgado cuarto civil del circuito de santa  marta y por la sala civil-familia del tribunal superior de la misma ciudad en  el proceso ejecutivo hipotecario seguido por el ahorramas hoy banco av villas  s.a. contra la empresa construcciones dihago ltda. representada por alejandro  habeych gonzalez y contra las personas ana maria barrios quevedo, susana  magdalena restrepo donado, antonio polo palma, nancy saldarriaga de polo,  domingo costa amastha, edilma amparo gaviria minotas, maria concepcion ospino  acevedo, olga quevedo de barrios, efren correa villanueva, rossana guadalupe  diazgranados noguera, ivonne del socorro diazgranados noguera, orieta deysy  diazgranados noguera y la sociedad gonzalez bueno ltda., representada por  rafael gonzalez bueno.   tercero.-  ordenar al  juzgado cuarto civil del circuito de santa marta que dentro de las cuarenta y  ocho (48) horas siguientes a la notificacion de esta decision, profiera una  nueva sentencia, dentro del proceso ejecutivo hipotecario citado en el numeral  anterior. esta sentencia debera proferirse de conformidad con los argumentos y  directrices senalados por esta sala de revision de la corte constitucional.   cuarto.- por secretaria  general librense las comunicaciones previstas en el articulo 36 del decreto  2591 de 1991.   copiese, notifiquese,  comuniquese, publiques'"
      ]
     },
     "execution_count": 526,
     "metadata": {},
     "output_type": "execute_result"
    }
   ],
   "source": [
    "new_data[\"decision\"][50][0:2000]"
   ]
  },
  {
   "cell_type": "code",
   "execution_count": 527,
   "id": "coated-colonial",
   "metadata": {},
   "outputs": [
    {
     "data": {
      "text/plain": [
       "'decision   en merito de lo expuesto, la  sala novena de revision de la corte constitucional, administrando justicia en  nombre del pueblo y por mandato de la constitucion,     resuelve:   primero.- revocar la sentencia  proferida el 27 de septiembre  de 2011 por la sala de casacion laboral de la  corte suprema de justicia que a su turno habia confirmado la sentencia dictada  el 10 de agosto de 2011 por sala de casacion civil de la corte suprema de  justicia que habia negado el amparo constitucional solicitado. en su lugar, conceder  la tutela por violacion del derecho al debido proceso.   segundo.- dejar sin efecto  las actuaciones surtidas por el juzgado cuarto civil del circuito de santa  marta y por la sala civil-familia del tribunal superior de la misma ciudad en  el proceso ejecutivo hipotecario seguido por el ahorramas hoy banco av villas  s.a. contra la empresa construcciones dihago ltda. representada por alejandro  habeych gonzalez y contra las personas ana maria barrios quevedo, susana  magdalena restrepo donado, antonio polo palma, nancy saldarriaga de polo,  domingo costa amastha, edilma amparo gaviria minotas, maria concepcion ospino  acevedo, olga quevedo de barrios, efren correa villanueva, rossana guadalupe  diazgranados noguera, ivonne del socorro diazgranados noguera, orieta deysy  diazgranados noguera y la sociedad gonzalez bueno ltda., representada por  rafael gonzalez bueno.   tercero.-  ordenar al  juzgado cuarto civil del circuito de santa marta que dentro de las cuarenta y  ocho (48) horas siguientes a la notificacion de esta decision, profiera una  nueva sentencia, dentro del proceso ejecutivo hipotecario citado en el numeral  anterior. esta sentencia debera proferirse de conformidad con los argumentos y  directrices senalados por esta sala de revision de la corte constitucional.   cuarto.- por secretaria  general librense las comunicaciones previstas en el articulo 36 del decreto  2591 de 1991.   copiese, notifiquese,  comuniquese, publiquese en la gaceta de la corte constitucional y cumplase.       luis ernesto  vargas silva magistrado        maria  victoria calle correa magistrada       mauricio gonzalez cuervo magistrado       martha victoria sachica  mendez secretaria general         [1] se indica que la referida hipoteca se encuentra contenida  en la escritura publica 2261 de junio 13 de 1997 de la notaria segunda de santa marta.   [2] el concepto citado por el juzgado 4 civil del circuito de santa  marta se identifica con el no. 2003063044-0 y obra a folio 244 del cuaderno no.  3l del expediente de tutela.   [3] ver folio 272 del cuaderno no. 3 del expediente de tutela.   [4] ver folio 304 del cuaderno no. 3 del expediente de tutela.   [5] ver folios 304 a  307 del cuaderno no. 3 del expediente de  tutela.   [6]  ver folio 321 del cuaderno no. 3 del expediente de tutela.   [7] en esta providencia cuyo ponente fue el magistrado alfredo  beltran sierra, en breves consideraciones se nego el amparo solicitado por la  accionante quien reclamaba la aplicacion de la ley 546 de 1999 dentro de un proceso ejecutivo que le habia iniciado el banco av villas s.a. en esa oportunidad la corte advirtio que el credito hipotecario cuya exigencia judicial se estaba tramitando  correspondia a una obligacion financiera que la accionante habia suscrito con  le referido banco para la adquisicion de un bien de uso comercial y no de  vivienda, razon por la cual era mas que clara la inaplicabilidad de la  mencionada ley al caso concreto.    [8] esta sentencia cuyo ponente fue el magistrado rodrigo escobar  gil, resolvia un caso similar al contenido en la sentencia t-105 de 2005, en la  que nuevamente no se dio aplicacion a la ley de vivienda justificado en el  mismo hecho de que el bien sobre el cual recaia la hipoteca tenia una  destinacion diferente a la de vivienda y porque las condiciones en las que el  credito fue concedido,  (compra de cartera vigente de otra entidad bancaria),  determinaba igualmente la imposibilidad de aplicar la ley 546 de 199 a dicho caso particular.    [9] trascripcion hecha en el fallo de primera instancia  obrante a folio 466 del cuaderno no. 3 del expediente de tutela.   [10] ver entre otras las sentencias t-827 de 2003, t-648,  t-691, t-1089 de 2005, t-015 de 2006 y su-913 de 2009.   [11] sobre la procedencia de la accion de tutela como  mecanismo transitorio, para evitar un perjuicio irremediable, resultan  relevantes las sentencias t–225 de 1993, t–1670 de 2000, su–544 de 2001,  su-1070 de 2003, y c-1225 de 2004 en las cuales se sentaron las primeras  directrices sobre la materia, las que han sido desarrolladas por la  jurisprudencia posterior. tambien puede consultarse la sentencia t-698 de 2004.  y la sentencia t-827 de 2003.   [12] sentencia c-543 de 1992 m.p. jose gregorio hernandez galindo.    [13] sentencia su-622 de 2001 m. p. jaime araujo renteria.   [14] sentencias c-543 de 1992, t-567 de 1998, t-511 de  2001, su-622 de 2001 y  t-108 de 2003 entre otras.    [15] el articulo 86 de la c. p. reza lo siguiente: toda persona tendra accion de tutela para reclamar ante los jueces, en todo momento y  lugar, mediante un procedimiento preferente y sumario, por si misma o por quien  actue a su nombre, la proteccion inmediata de sus derechos constitucionales  fundamentales, cuando quiera que estos resulten vulnerados o amenazados por la accion  o la omision de cualquier autoridad publica (). (negrillas fuera del  texto original).   [16] entre otras ver la sentencia t-1223 de 2001 m. p. alvaro tafur galvis.   [17] m.p. eduardo cifuentes munoz   [18] m.p. vladimiro naranjo mesa   [19] m.p. eduardo cifuentes munoz   [20] consultar, entre otras las sentencias c-543  de 1992, t-079 de 1993, t-231 de 1994, t-329 de 1996, t-483 de 1997, t-008 de  1998, t-567 de 1998, su-047 de 1999, t-1031 de 2001, su-622 y su-1299 de  2001, su-159 de 2002, t- 088, t-108, t-116, t-201, t-382 y t-441 de 2003; t-001  y, t-057 de 2004, t-289 y t-489 de 2005; t-588 de 2007, t-060 y t-204 de  2009.    [21] en sentencia c-590 de 2005 m. p. jaime cordoba trivino, esta corporacion fue un poco mas puntual al exponer algunos otros  requisitos entre los que vale la pena mencionar uno en especial cual es que la parte actora identifique de manera  razonable tanto los hechos que generaron la vulneracion como los derechos  vulnerados y que hubiere alegado tal vulneracion en el proceso judicial siempre  que esto hubiere sido posible (sentencia t-658 de 1998 m. p. jaime cordoba trivino). esta  exigencia es comprensible pues, sin que la accion de tutela llegue a rodearse  de unas exigencias formales contrarias a su naturaleza y no previstas por el  constituyente, si es menester que el actor tenga claridad en cuanto al  fundamento de la afectacion de derechos que imputa a la decision judicial, que  la haya planteado al interior del proceso y que de cuenta de todo ello al  momento de pretender la proteccion constitucional de sus derechos.   [22] en la sentencia c-590 de 2005 m. p. jaime cordoba trivino, tambien explico que los anteriores vicios, que determinan la  procedibilidad de la accion de tutela contra decisiones judiciales, involucran  la superacion del concepto de via de hecho y la admision de especificos  supuestos de procedebilidad en eventos en los que si bien no se esta ante una  burda trasgresion de la carta, si se trata de decisiones ilegitimas que afectan  derechos fundamentales.   [23] sentencia t-453 y c-590 de 2005 ambas m.p: m. p.  jaime cordoba trivino.   [24] magistrado ponente rodrigo escobar gil.   [25] ver entre otras  las siguientes sentencias t-573  de 1997, t-567 de 1998, t-001 de 1999, t-377 y t-1009 de 2000, t-852 de 2002,  t-453 de 2005, t-061 de 2007, t-079 de 1993, t-231 de 1994,  t-001 de 1999,  t-814 de 1999, t-522 de 2001, t-842 de 2001, su-159 de 2002,  t-462 de 2003,  t-205 de 2004, t-701 de 2004, t-807 de 2004, t-1244 de  2004, t-056 de 2005, t-189 de 2005,  t-800 de 2006, t-061 de 2007, t-018 de  2008, t-051 de 2009, t-060 de 2009, t-066 de 2009.    [26] sentencia t-189 de 2005 m. p. manuel jose cepeda espinosa, en esta oportunidad concluyo la corte que en efecto, en su fallo el tribunal omitio aplicar la norma que se ajustaba al  caso y, en su lugar, empleo otra que no era pertinente.   [27] ver sentencia t-205 de 2004 m. p. clara ines vargas hernandez. aqui la corte concluyo la existencia de un defecto sustantivo  por cuanto el juez se baso en una norma legal que habia perdido su  vigencia.    [28] sentencia t-800 de 2006 m. p. jaime araujo renteria. en es a oportunidad dijo la corte todo lo anterior lleva a concluir a la corte constitucional que la sala jurisdiccional disciplinaria del consejo superior de la judicatura, en su sentencia del 18 de noviembre de 2004, confirmada en el auto por medio del  cual resolvio el recurso del reposicion el 11 de mayo de 2005, aplico, en la  sancion que impuso a los demandantes, una norma que no existia, consistente en  un impedimento por haber cumplido con el deber propio de los jueces. es decir,  que verdaderamente crearon una norma, pues dictar providencia dentro de un  proceso no puede constituir, como se vio, causal de prejuzgamiento. por ello  incurrieron en un defecto sustantivo constitutivo de via de hecho, violatoria  del derecho fundamental al debido proceso de los actores.   [29] al respecto, consultar sentencia t-522 de 2001 m. p. manuel jose cepeda espinosa. en esta providencia se dijo que incurre  en una via de hecho por razones sustanciales el funcionario judicial que tome  una decision con base en una disposicion: (1) cuyo contenido normativo es evidentemente contra\\xadrio  a la consti\\xadtu\\xadcion, porque la corte constitucional previamente asi lo declaro con efectos erga omnes, (2) cuyo sentido y aplicacion claramente compromete  derechos fundamentales,  y (3) cuya incompatibilidad ha sido alegada por el interesado, invocando el  respeto a una sentencia de constitucionalidad de la corte consti\\xadtucional que excluyo del ordenamiento juridico el sentido normativo unico e  insito en la norma legal aplicada en el curso del proceso y de la cual depende  la decision.   [30] sentencia su-159 de 2002 m. p. manuel jose cepeda espinosa.   [31] sentencia t-051 de 2009 m. p. manuel jose cepeda espinosa. en sentencias t-1101 de 2005 m. p. rodrigo escobar gil dijo la corte: sobre el tema relacionado con las vias de hecho ocasionadas por  interpretaciones judiciales contrarias a la constitucion y la procedencia de la tutela para conjurarlas, la corte tuvo oportunidad de precisar que debe aparecer probado que la aplicacion de la norma se  hizo (i) contraviniendo o haciendo caso omiso de los  postulados, principios y valores constitucionales, (ii) imponiendo  criterios irracionales o desproporcionados, (iii) sin respetar el  principio de igualdad, y (iv) en desmedro de los derechos sustantivos en  litigio y t-1222 de 2005 m. p. jaime cordoba trivino. dijo la corte en esta ocasion: para que una interpretacion  judicial se considere constitutiva de via de hecho, es indispensable que la  misma defienda una lectura de las normas realmente contraria a su sentido  logico, manifiestamente opuesta a los principios de derecho y salida del cauce  de la juridicidad   [32] sentencia t-462 de 2003 m. p. eduardo montealegre lynett. ver ademas sentencia t-001 de 1999 m. p. jose gregorio hernandez galindo.   [33] sentencia t-066 de 2009 m. p. jaime araujo renteria. sobre el particular, ver igualmente la sentencia t-079 de 1993, m. p. eduardo cifuentes munoz.   [34] ver sentencia t-814 de 1999, m. p. antonio barrera carbonell. t-842 de 2001 m. p. alvaro tafur galvis, t-462 de 2003, m. p: eduardo montealegre lynett, y t-1244 de 2004 m.p. manuel jose cepeda espinosa. en la  sentencia su-120 de 2003 m. p. alvaro tafur galvis, la corte constitucional sostuvo que, en principio, la primera mesada pensional debe ser  indexada. esta posicion ha sido reafirmada a traves de las sentencias  t-663 de 2003, t-1169 de 2003, y t-805 y t-815 de 2004. esta misma tesis se  defendio en la sentencia c-601 de 2000. ver  tambien, sentencia t-462 de 2003 m. p. eduardo montealegre lynett.   [35] sentencia t-018 de 2008 m. p. jaime cordoba trivino.   [36] sentencia t-086 de 2007 m. p. manuel jose cepeda espinosa.   [37] sentencia t-231 de 1994 m. p. eduardo cifuentes munoz. dijo la corte: la via de hecho predicable de una determinada  accion u omision de un juez, no obstante poder ser impugnada como nulidad  absoluta, es una suerte de vicio mas radical aun en cuanto que el titular del  organo se desliga por entero del imperio de la ley. si la jurisdiccion y  la consiguiente atribucion de poder a los diferentes jueces, se hace con miras  a la aplicacion del derecho a las situaciones concretas y a traves de los  cauces que la ley determina, una modalidad de ejercicio de esta potestad que  discurra ostensiblemente al margen de la ley, de los hechos que resulten  probados o con abierta pretericion de los tramites y procedimientos  establecidos, no podra imputarse al organo ni sus resultados tomarse como  vinculantes, habida cuenta de la \"malversacion\" de la competencia y  de la manifiesta actuacion ultra o extra vires de su titular. // si este  comportamiento - abultadamente deformado respecto del postulado en la norma -  se traduce en la utilizacion de un poder concedido al juez por el  ordenamiento para un fin no previsto en la disposicion (defecto sustantivo)   [38] consultar sentencia t-807 de 2004 m. p. clara ines vargas hernandez.    [39] sentencia t-056 de 2005 m. p. jaime araujo renteria. aqui la corte encontro que el mismo despacho judicial provoco  un defecto sustantivo en el mismo auto al desconocer abiertamente el articulo  319 del codigo de procedimiento civil. ver ademas t-066 de 2009 m. p. jaime araujo renteria.   [40] sentencias t-114 de 2002 m. p. eduardo montealegre lynett y t-1285 de 2005 m. p. clara ines vargas hernandez.   [41] sentencia t-086 de 2007 m. p. manuel jose cepeda espinosa.   [42] ver la sentencias t-292 de 2006 m. p. manuel jose cepeda espinosa, su-640 de 1998 m. p. eduardo cifuentes munoz y  t-462 de 2003 m. p=. eduardo montealegre lynett.   [43]ver  sentencia t-1285 de 2005 m. p. clara ines vargas hernandez. ademas, en la sentencia   t-193 de 1995 m. p. carlos gaviria diaz, esta corporacion senalo: \"es razonable exigir, en aras del  principio de igualdad en la aplicacion de la ley, que los jueces y funcionarios  que consideren autonomamente que deben apartarse de la linea jurisprudencial  trazada por las altas cortes, que lo hagan, pero siempre que justifiquen  de manera suficiente y adecuada su decision, pues, de lo contrario,  estarian infringiendo el principio de igualdad (cp art.13). a traves de los  recursos que se contemplan en cada jurisdiccion, normalmente puede ventilarse  este evento de infraccion a la constitucion. (negrilla y subraya fuera del  texto original) sobre este tema, tambien puede consultarse la sentencia t-949  de 2003 m. p. eduardo montealegre lynett).   [44] sentencia t-086 de 2007 m. p. manuel jose cepeda espinosa.   [45] sobre el tema pueden consultarse ademas, las sentencias  su-1184 de 2001; t-1625 de 2000;   t-522 de 2001; t-047 de 2005. en la  sentencia t-522 de 2001 m. p. manuel jose cepeda espinosa, la corte senalo que:  es evidente que se desconoceria y contraven\\xaddria abiertamente la carta politica si se aplica una disposicion cuyo contenido normativo es precisamente, y  solamente, impedir que se otorguen medi\\xaddas de aseguramiento a los sindicados  porque los procesos se adelantan ante jueces especializados, razon por la cual  el juez, al constatar su existencia, tendria que haber aplicado la excepcion de  inconstitucionalidad.   [46] sentencia t-086 de 2007 m. p. manuel jose cepeda espinosa. en sentencia t-808 de 2007 m. p. catalina botero marino se senalo que  en cualquiera de estos casos debe estarse frente a un  desconocimiento claro y ostensible de la normatividad aplicable al caso  concreto, de manera que la desconexion entre la voluntad del ordenamiento y la  del funcionario judicial sea notoria y no tenga respaldo en el margen de  autonomia e independencia que la constitucion le reconoce a los jueces (art. 230 c.p.). debe recordarse ademas, que el amparo constitucional en estos  casos no puede tener por objeto lograr interpretaciones mas favorables para  quien tutela, sino exclusivamente, proteger los derechos fundamentales de quien  queda sujeto a una providencia que se ha apartado de lo dispuesto por el  ordenamiento juridico.    [47] magistrado ponente alfredo beltran sierra. declaro la  inexequibilidad de un aparte del literal f) del articulo 16 de la ley 31 de 1992.   [48] magistrado ponente jose gregorio hernandez galindo. en esta  sentencia se declaro la inexequibilidad de los articulos 18, 19, 20, 21, 22,  23, 134, 135, 136, 137, 138, 139 y 140 del decreto ley 663 de 1993 (estatuto  organico del sistema financiero).   [49] magistrado ponente alfredo beltran sierra. esta sentencia declaro  la inexequibilidad  del numeral tercero del articulo 121 del decreto ley 663 de  1993 (estatuto organico del sistema financiero).   [50] mediante decreto 856 de mayo 19 de 1999, (diario  oficial no 43.583, de 20 de mayo de 1999), el ministerio de hacienda y credito  publico autorizo la denominacion en unidades de valor real constante de los  titulos de tesoreria -tes- clase b de que trata el articulo 4° del decreto 2599  de 1998, especificando la denominacion de la uvr.   [51] magistrado ponente jose gregorio hernandez galindo.   [52] el articulo en cuestion es el siguiente: capitulo viii. regimen de  transicion articulo 38. denominacion de obligaciones en uvr. dentro de los tres (3) meses siguientes a la  fecha de vigencia de la presente ley, todas las obligaciones expresadas en upac  se expresaran en uvr, segun la equivalencia que determine el gobierno  nacional. vencido este termino sin que se hayan modificado los documentos  en que consten tales obligaciones, estas se entenderan expresadas en uvr, por  ministerio de la presente ley.  paragrafo.  las entidades financieras quedan facultadas para  redimir en forma anticipada los titulos valores denominados en upac. igualmente,  a eleccion del deudor, se podran denominar las cuentas de ahorro y demas  pasivos, en uvr o en pesos.  articulo declarado exequible, en los terminos de la  sentencia, por la corte constitucional mediante sentencia c-955-00  de 26 de julio de 2000, magistrado ponente dr. jose gregorio hernandez galindo.  salvo los apartes tachados que  fueron declarados inexequibles.     [53] magistrado ponente alfredo beltran sierra.   [54] magistrado ponente rodrigo escobar gil   [55]       asi, en la escritura previamente mencionada se afirma que  en el primer piso del edificio se encuentra un local y un bano, en el  segundo y tercer piso se localiza (sic) dos salones y oficinas con dos banos  y en el tercer piso, ademas, se encuentra un apartamento con sala-comedor,  cocina, un bano, dos alcobas. dicho inmueble se avaluo en el ano de 1997,  de acuerdo al valor comercial, en la suma de ciento noventa y nueve millones  doscientos doce mil pesos ($199,212,000.00). alli funciona el apartamento de la  accionante y diversos locales comerciales, oficinas y salones.   [56] cfr. c-1056 de 2004 y t-284 de 2006 del mismo  ano, ambas con ponencia de la magistrada clara ines vargas hernandez, y c-372 de 2009 m. p. nilson pinilla pinilla.     [57] art. 380 articulo 380.  causales. son causales de revision:  1.  haberse encontrado despues de pronunciada la sentencia documentos que habrian  variado la decision contenida en ella, y que el recurrente no pudo aportarlos  al proceso por fuerza mayor o caso fortuito o por obra de la parte contraria.  2.  haberse declarado falsos por la justicia penal documentos que fueren decisivos  para el pronunciamiento de la sentencia recurrida.  3.  haberse basado la sentencia en declaraciones de personas que fueron condenadas  por falso testimonio en razon de ellas.  4.  haberse dictado la sentencia con base en dictamen de peritos condenados  penalmente por ilicitos cometidos en la produccion de dicha prueba.  5.  haberse dictado sentencia penal que declare que hubo violencia o cohecho en el  pronunciamiento de la sentencia recurrida.  6.  haber existido colusion u otra maniobra fraudulenta de las partes en el proceso  en que se dicto la sentencia, aunque no haya sido objeto de investigacion  penal, siempre que haya causado perjuicios al recurrente.  7.  estar el recurrente en alguno de los casos de indebida representacion o falta  de notificacion o emplazamiento contemplados en el articulo (152), siempre que  no haya saneado la nulidad.  8.  existir nulidad originada en la sentencia que puso fin al proceso y que no era  susceptible de recurso.  9.  ser la sentencia contraria a otra anterior que constituya cosa juzgada entre  las partes del proceso en que aquella fue dictada, siempre que el recurrente no  hubiera podido alegar la excepcion en el segundo proceso por habersele  designado curador ad litem y haber ignorado la existencia de dicho proceso. sin  embargo no habra lugar a revision cuando en el segundo proceso se propuso la  excepcion de cosa juzgada y fue rechazada.      [58] sentencia t-310 de 2009,  m. p. luis ernesto vargas silva.'"
      ]
     },
     "execution_count": 527,
     "metadata": {},
     "output_type": "execute_result"
    }
   ],
   "source": [
    "new_data[\"decision\"][50]"
   ]
  },
  {
   "cell_type": "code",
   "execution_count": 528,
   "id": "afraid-impact",
   "metadata": {},
   "outputs": [],
   "source": [
    "#from pyspark.ml import PipelineModel\n",
    "from sparknlp.annotator import *\n",
    "from sparknlp.base import *\n",
    "#import sparknlp\n",
    "#import pyspark.sql.functions as F\n",
    "\n",
    "#spark = sparknlp.start()\n",
    "#spark"
   ]
  },
  {
   "cell_type": "code",
   "execution_count": 529,
   "id": "ancient-sight",
   "metadata": {},
   "outputs": [],
   "source": [
    "os.environ[\"JAVA_HOME\"] = \"/usr/lib/jvm/java-8-openjdk-amd64\"\n",
    "os.environ[\"PATH\"] = os.environ[\"JAVA_HOME\"] + \"/bin:\" + os.environ[\"PATH\"]"
   ]
  },
  {
   "cell_type": "code",
   "execution_count": 530,
   "id": "loaded-ordinary",
   "metadata": {},
   "outputs": [
    {
     "data": {
      "text/html": [
       "\n",
       "            <div>\n",
       "                <p><b>SparkSession - in-memory</b></p>\n",
       "                \n",
       "        <div>\n",
       "            <p><b>SparkContext</b></p>\n",
       "\n",
       "            <p><a href=\"http://192.168.0.10:4040\">Spark UI</a></p>\n",
       "\n",
       "            <dl>\n",
       "              <dt>Version</dt>\n",
       "                <dd><code>v3.1.1</code></dd>\n",
       "              <dt>Master</dt>\n",
       "                <dd><code>local[*]</code></dd>\n",
       "              <dt>AppName</dt>\n",
       "                <dd><code>Spark NLP</code></dd>\n",
       "            </dl>\n",
       "        </div>\n",
       "        \n",
       "            </div>\n",
       "        "
      ],
      "text/plain": [
       "<pyspark.sql.session.SparkSession at 0x7ff9a3fc97d0>"
      ]
     },
     "execution_count": 530,
     "metadata": {},
     "output_type": "execute_result"
    }
   ],
   "source": [
    "import sparknlp\n",
    "spark = sparknlp.start()\n",
    "from sparknlp.pretrained import PretrainedPipeline\n",
    "spark\n"
   ]
  },
  {
   "cell_type": "code",
   "execution_count": 542,
   "id": "relevant-bottom",
   "metadata": {},
   "outputs": [
    {
     "name": "stdout",
     "output_type": "stream",
     "text": [
      "explain_document_md download started this may take some time.\n",
      "Approx size to download 453.9 MB\n",
      "[OK!]\n"
     ]
    }
   ],
   "source": [
    "explain_document_pipeline = PretrainedPipeline(\"explain_document_md\", lang = 'es')"
   ]
  },
  {
   "cell_type": "code",
   "execution_count": 46,
   "id": "active-pressing",
   "metadata": {},
   "outputs": [
    {
     "data": {
      "text/plain": [
       "['entities',\n",
       " 'lemma',\n",
       " 'document',\n",
       " 'pos',\n",
       " 'token',\n",
       " 'ner',\n",
       " 'embeddings',\n",
       " 'sentence']"
      ]
     },
     "execution_count": 46,
     "metadata": {},
     "output_type": "execute_result"
    }
   ],
   "source": [
    "annotations = explain_document_pipeline.annotate(new_data[\"decision\"][50])\n",
    "list(annotations.keys())"
   ]
  },
  {
   "cell_type": "code",
   "execution_count": 49,
   "id": "ecological-sacramento",
   "metadata": {},
   "outputs": [
    {
     "name": "stdout",
     "output_type": "stream",
     "text": [
      "False\n"
     ]
    }
   ],
   "source": [
    "print('articulo' == annotations['token'])"
   ]
  },
  {
   "cell_type": "code",
   "execution_count": 50,
   "id": "lucky-treatment",
   "metadata": {},
   "outputs": [],
   "source": [
    "def count_word(word):\n",
    "    count=0\n",
    "    for item in annotations[\"token\"]:\n",
    "        if word == item or f\"{word}s\" == item:\n",
    "            count = count + 1\n",
    "    return count"
   ]
  },
  {
   "cell_type": "code",
   "execution_count": 51,
   "id": "electric-force",
   "metadata": {},
   "outputs": [
    {
     "name": "stdout",
     "output_type": "stream",
     "text": [
      "=====================\n",
      "Articulos:....... 12\n",
      "=====================\n",
      "Decretos:....... 5\n",
      "=====================\n",
      "Sentencias:....... 64\n",
      "=====================\n",
      "Folios:....... 6\n",
      "=====================\n"
     ]
    }
   ],
   "source": [
    "print(\"=====================\")\n",
    "print(\"Articulos:....... \" + str(count_word('articulo')))\n",
    "print(\"=====================\")\n",
    "print(\"Decretos:....... \" + str(count_word('decreto')))\n",
    "print(\"=====================\")\n",
    "print(\"Sentencias:....... \" + str(count_word('sentencia')))\n",
    "print(\"=====================\")\n",
    "print(\"Folios:....... \" + str(count_word('folio')))\n",
    "print(\"=====================\")"
   ]
  },
  {
   "cell_type": "code",
   "execution_count": 55,
   "id": "reduced-joseph",
   "metadata": {},
   "outputs": [
    {
     "name": "stdout",
     "output_type": "stream",
     "text": [
      "sentence_detector_dl download started this may take some time.\n",
      "Approximate size to download 354.6 KB\n",
      "[OK!]\n"
     ]
    }
   ],
   "source": [
    "documenter = DocumentAssembler()\\\n",
    "    .setInputCol(\"text\")\\\n",
    "    .setOutputCol(\"document\")\n",
    "    \n",
    "sentencerDL = SentenceDetectorDLModel\\\n",
    "  .pretrained(\"sentence_detector_dl\", \"en\") \\\n",
    "  .setInputCols([\"document\"]) \\\n",
    "  .setOutputCol(\"sentences\")\n",
    "\n",
    "sd_pipeline = PipelineModel(stages=[documenter, sentencerDL])\n",
    "sd_model = LightPipeline(sd_pipeline)"
   ]
  },
  {
   "cell_type": "code",
   "execution_count": null,
   "id": "african-program",
   "metadata": {},
   "outputs": [],
   "source": [
    "def extraer_articulos(sentences, topic):\n",
    "    lista_df = []\n",
    "    for item in sentences:\n",
    "        regx = f\"({topic}|{topic}s)[ ]([\\s\\S]*?)\\.\"\n",
    "        expretion = re.compile(r\"{}\".format(regx))\n",
    "        result = expretion.findall(item)\n",
    "        for item_normalize in list(map(\" \".join, result)):\n",
    "            lista_df.append(item_normalize)\n",
    "    return lista_df"
   ]
  },
  {
   "cell_type": "code",
   "execution_count": null,
   "id": "final-grain",
   "metadata": {},
   "outputs": [],
   "source": [
    "\n",
    "def get_list_sentenses():\n",
    "    list_sentenses = []\n",
    "    for sentense in sd_model.fullAnnotate(text)[0][\"sentences\"]:\n",
    "        list_sentenses.append(sentense.result)\n",
    "    return list_sentenses"
   ]
  },
  {
   "cell_type": "code",
   "execution_count": 533,
   "id": "provincial-twenty",
   "metadata": {},
   "outputs": [],
   "source": [
    "text = new_data[\"decision\"][50]"
   ]
  },
  {
   "cell_type": "code",
   "execution_count": 534,
   "id": "insured-calvin",
   "metadata": {},
   "outputs": [
    {
     "data": {
      "text/plain": [
       "'las entidades financieras quedan facultadas para  redimir en forma anticipada los titulos valores denominados en upac. igualmente,  a eleccion del deudor, se podran denominar las cuentas de ahorro y demas  pasivos, en uvr o en pesos.'"
      ]
     },
     "execution_count": 534,
     "metadata": {},
     "output_type": "execute_result"
    }
   ],
   "source": [
    "get_list_sentenses()[81]"
   ]
  },
  {
   "cell_type": "code",
   "execution_count": 535,
   "id": "cross-front",
   "metadata": {},
   "outputs": [
    {
     "data": {
      "text/plain": [
       "['[15] el articulo 86 de la c. p. reza lo siguiente: toda persona tendra accion de tutela para reclamar ante los jueces, en todo momento y  lugar, mediante un procedimiento preferente y sumario, por si misma o por quien  actue a su nombre, la proteccion inmediata de sus derechos constitucionales  fundamentales, cuando quiera que estos resulten vulnerados o amenazados por la accion  o la omision de cualquier autoridad publica ().']"
      ]
     },
     "execution_count": 535,
     "metadata": {},
     "output_type": "execute_result"
    }
   ],
   "source": [
    "get_list_sentenses()[27:28]"
   ]
  },
  {
   "cell_type": "markdown",
   "id": "helpful-laundry",
   "metadata": {},
   "source": [
    "# Seccion DECISION [sentencias, articulos, folios, decretos]"
   ]
  },
  {
   "cell_type": "code",
   "execution_count": 536,
   "id": "experimental-paradise",
   "metadata": {},
   "outputs": [],
   "source": [
    "decision_new_data_folio = pd.DataFrame(columns = [\"folios\"])\n",
    "decision_new_data_articulo = pd.DataFrame(columns = ['articulos'])\n",
    "decision_new_data_decreto = pd.DataFrame(columns = ['decretos'])\n",
    "decision_new_data_sentencia = pd.DataFrame(columns = ['sentencias'])"
   ]
  },
  {
   "cell_type": "code",
   "execution_count": 537,
   "id": "toxic-wholesale",
   "metadata": {},
   "outputs": [],
   "source": [
    "decision_new_data_folio['folios'] = extraer_articulos(get_list_sentenses()[27:128], \"folio\")"
   ]
  },
  {
   "cell_type": "code",
   "execution_count": 538,
   "id": "sticky-webster",
   "metadata": {},
   "outputs": [],
   "source": [
    "decision_new_data_decreto['decretos'] = extraer_articulos(get_list_sentenses()[27:128], \"decreto\")"
   ]
  },
  {
   "cell_type": "code",
   "execution_count": 539,
   "id": "tropical-findings",
   "metadata": {},
   "outputs": [],
   "source": [
    "decision_new_data_articulo['articulos'] = extraer_articulos(get_list_sentenses()[27:128], \"articulo\")"
   ]
  },
  {
   "cell_type": "code",
   "execution_count": 540,
   "id": "chinese-somerset",
   "metadata": {},
   "outputs": [],
   "source": [
    "decision_new_data_sentencia['sentencias'] = extraer_articulos(get_list_sentenses()[27:128], \"sentencia\")"
   ]
  },
  {
   "cell_type": "code",
   "execution_count": 541,
   "id": "recreational-adjustment",
   "metadata": {},
   "outputs": [
    {
     "data": {
      "text/html": [
       "<div>\n",
       "<style scoped>\n",
       "    .dataframe tbody tr th:only-of-type {\n",
       "        vertical-align: middle;\n",
       "    }\n",
       "\n",
       "    .dataframe tbody tr th {\n",
       "        vertical-align: top;\n",
       "    }\n",
       "\n",
       "    .dataframe thead th {\n",
       "        text-align: right;\n",
       "    }\n",
       "</style>\n",
       "<table border=\"1\" class=\"dataframe\">\n",
       "  <thead>\n",
       "    <tr style=\"text-align: right;\">\n",
       "      <th></th>\n",
       "      <th>sentencias</th>\n",
       "    </tr>\n",
       "  </thead>\n",
       "  <tbody>\n",
       "    <tr>\n",
       "      <th>0</th>\n",
       "      <td>sentencia t-1223 de 2001 m</td>\n",
       "    </tr>\n",
       "    <tr>\n",
       "      <th>1</th>\n",
       "      <td>sentencias c-543  de 1992, t-079 de 1993, t-23...</td>\n",
       "    </tr>\n",
       "    <tr>\n",
       "      <th>2</th>\n",
       "      <td>sentencia c-590 de 2005 m</td>\n",
       "    </tr>\n",
       "    <tr>\n",
       "      <th>3</th>\n",
       "      <td>sentencia t-658 de 1998 m</td>\n",
       "    </tr>\n",
       "    <tr>\n",
       "      <th>4</th>\n",
       "      <td>sentencia c-590 de 2005 m</td>\n",
       "    </tr>\n",
       "  </tbody>\n",
       "</table>\n",
       "</div>"
      ],
      "text/plain": [
       "                                          sentencias\n",
       "0                         sentencia t-1223 de 2001 m\n",
       "1  sentencias c-543  de 1992, t-079 de 1993, t-23...\n",
       "2                          sentencia c-590 de 2005 m\n",
       "3                          sentencia t-658 de 1998 m\n",
       "4                          sentencia c-590 de 2005 m"
      ]
     },
     "execution_count": 541,
     "metadata": {},
     "output_type": "execute_result"
    }
   ],
   "source": [
    "decision_new_data_sentencia.head()"
   ]
  },
  {
   "cell_type": "code",
   "execution_count": 500,
   "id": "analyzed-death",
   "metadata": {},
   "outputs": [
    {
     "data": {
      "text/html": [
       "<div>\n",
       "<style scoped>\n",
       "    .dataframe tbody tr th:only-of-type {\n",
       "        vertical-align: middle;\n",
       "    }\n",
       "\n",
       "    .dataframe tbody tr th {\n",
       "        vertical-align: top;\n",
       "    }\n",
       "\n",
       "    .dataframe thead th {\n",
       "        text-align: right;\n",
       "    }\n",
       "</style>\n",
       "<table border=\"1\" class=\"dataframe\">\n",
       "  <thead>\n",
       "    <tr style=\"text-align: right;\">\n",
       "      <th></th>\n",
       "      <th>articulos</th>\n",
       "    </tr>\n",
       "  </thead>\n",
       "  <tbody>\n",
       "    <tr>\n",
       "      <th>0</th>\n",
       "      <td>articulo 86 de la c</td>\n",
       "    </tr>\n",
       "    <tr>\n",
       "      <th>1</th>\n",
       "      <td>articulo  319 del codigo de procedimiento civil</td>\n",
       "    </tr>\n",
       "    <tr>\n",
       "      <th>2</th>\n",
       "      <td>articulo 16 de la ley 31 de 1992</td>\n",
       "    </tr>\n",
       "    <tr>\n",
       "      <th>3</th>\n",
       "      <td>articulos 18, 19, 20, 21, 22,  23, 134, 135, 1...</td>\n",
       "    </tr>\n",
       "    <tr>\n",
       "      <th>4</th>\n",
       "      <td>articulo 121 del decreto ley 663 de  1993 (est...</td>\n",
       "    </tr>\n",
       "  </tbody>\n",
       "</table>\n",
       "</div>"
      ],
      "text/plain": [
       "                                           articulos\n",
       "0                                articulo 86 de la c\n",
       "1    articulo  319 del codigo de procedimiento civil\n",
       "2                   articulo 16 de la ley 31 de 1992\n",
       "3  articulos 18, 19, 20, 21, 22,  23, 134, 135, 1...\n",
       "4  articulo 121 del decreto ley 663 de  1993 (est..."
      ]
     },
     "execution_count": 500,
     "metadata": {},
     "output_type": "execute_result"
    }
   ],
   "source": [
    "decision_new_data_articulo.head()"
   ]
  },
  {
   "cell_type": "code",
   "execution_count": 502,
   "id": "seventh-albania",
   "metadata": {},
   "outputs": [
    {
     "data": {
      "text/html": [
       "<div>\n",
       "<style scoped>\n",
       "    .dataframe tbody tr th:only-of-type {\n",
       "        vertical-align: middle;\n",
       "    }\n",
       "\n",
       "    .dataframe tbody tr th {\n",
       "        vertical-align: top;\n",
       "    }\n",
       "\n",
       "    .dataframe thead th {\n",
       "        text-align: right;\n",
       "    }\n",
       "</style>\n",
       "<table border=\"1\" class=\"dataframe\">\n",
       "  <thead>\n",
       "    <tr style=\"text-align: right;\">\n",
       "      <th></th>\n",
       "      <th>decretos</th>\n",
       "    </tr>\n",
       "  </thead>\n",
       "  <tbody>\n",
       "    <tr>\n",
       "      <th>0</th>\n",
       "      <td>decreto ley 663 de 1993 (estatuto  organico de...</td>\n",
       "    </tr>\n",
       "    <tr>\n",
       "      <th>1</th>\n",
       "      <td>decreto ley 663 de  1993 (estatuto organico de...</td>\n",
       "    </tr>\n",
       "    <tr>\n",
       "      <th>2</th>\n",
       "      <td>decreto 856 de mayo 19 de 1999, (diario  ofici...</td>\n",
       "    </tr>\n",
       "    <tr>\n",
       "      <th>3</th>\n",
       "      <td>decreto 2599  de 1998, especificando la denomi...</td>\n",
       "    </tr>\n",
       "  </tbody>\n",
       "</table>\n",
       "</div>"
      ],
      "text/plain": [
       "                                            decretos\n",
       "0  decreto ley 663 de 1993 (estatuto  organico de...\n",
       "1  decreto ley 663 de  1993 (estatuto organico de...\n",
       "2  decreto 856 de mayo 19 de 1999, (diario  ofici...\n",
       "3  decreto 2599  de 1998, especificando la denomi..."
      ]
     },
     "execution_count": 502,
     "metadata": {},
     "output_type": "execute_result"
    }
   ],
   "source": [
    "decision_new_data_decreto.head()"
   ]
  },
  {
   "cell_type": "code",
   "execution_count": 503,
   "id": "favorite-drilling",
   "metadata": {},
   "outputs": [
    {
     "data": {
      "text/html": [
       "<div>\n",
       "<style scoped>\n",
       "    .dataframe tbody tr th:only-of-type {\n",
       "        vertical-align: middle;\n",
       "    }\n",
       "\n",
       "    .dataframe tbody tr th {\n",
       "        vertical-align: top;\n",
       "    }\n",
       "\n",
       "    .dataframe thead th {\n",
       "        text-align: right;\n",
       "    }\n",
       "</style>\n",
       "<table border=\"1\" class=\"dataframe\">\n",
       "  <thead>\n",
       "    <tr style=\"text-align: right;\">\n",
       "      <th></th>\n",
       "      <th>folios</th>\n",
       "    </tr>\n",
       "  </thead>\n",
       "  <tbody>\n",
       "  </tbody>\n",
       "</table>\n",
       "</div>"
      ],
      "text/plain": [
       "Empty DataFrame\n",
       "Columns: [folios]\n",
       "Index: []"
      ]
     },
     "execution_count": 503,
     "metadata": {},
     "output_type": "execute_result"
    }
   ],
   "source": [
    "decision_new_data_folio.head()"
   ]
  },
  {
   "cell_type": "code",
   "execution_count": null,
   "id": "round-transaction",
   "metadata": {},
   "outputs": [],
   "source": []
  },
  {
   "cell_type": "code",
   "execution_count": null,
   "id": "civilian-russia",
   "metadata": {},
   "outputs": [],
   "source": []
  },
  {
   "cell_type": "code",
   "execution_count": null,
   "id": "loaded-series",
   "metadata": {},
   "outputs": [],
   "source": []
  },
  {
   "cell_type": "code",
   "execution_count": null,
   "id": "short-excuse",
   "metadata": {},
   "outputs": [],
   "source": []
  },
  {
   "cell_type": "code",
   "execution_count": null,
   "id": "cheap-alexandria",
   "metadata": {},
   "outputs": [],
   "source": []
  },
  {
   "cell_type": "code",
   "execution_count": null,
   "id": "statewide-penetration",
   "metadata": {},
   "outputs": [],
   "source": []
  },
  {
   "cell_type": "code",
   "execution_count": null,
   "id": "compliant-turtle",
   "metadata": {},
   "outputs": [],
   "source": []
  },
  {
   "cell_type": "code",
   "execution_count": null,
   "id": "studied-scope",
   "metadata": {},
   "outputs": [],
   "source": []
  },
  {
   "cell_type": "code",
   "execution_count": null,
   "id": "immediate-sacrifice",
   "metadata": {},
   "outputs": [],
   "source": []
  },
  {
   "cell_type": "markdown",
   "id": "tracked-drilling",
   "metadata": {},
   "source": [
    "# Propuesta de generar NER para documentos Legales en Colombia"
   ]
  },
  {
   "cell_type": "code",
   "execution_count": 162,
   "id": "talented-prospect",
   "metadata": {},
   "outputs": [],
   "source": [
    "tokens=[\"articulo\", \"16\", \"de\", \"la\", \"ley\", \"31\", \"de\", \"1992\"]\n",
    "pos_labels=['ART', 'NUM', 'NN', 'NN', 'NN', 'NUM', 'NN', 'YEAR', '.']\n",
    "entity_labels=['ARTICULO','NUM-ARTICULO','STOP','LEY','NUM-LEY','STOP','LEY-ANNO','O','O']"
   ]
  },
  {
   "cell_type": "code",
   "execution_count": 163,
   "id": "cooperative-atlantic",
   "metadata": {},
   "outputs": [
    {
     "name": "stdout",
     "output_type": "stream",
     "text": [
      "articulo ART ART ARTICULO\n",
      "16 NUM NUM NUM-ARTICULO\n",
      "de NN NN STOP\n",
      "la NN NN LEY\n",
      "ley NN NN NUM-LEY\n",
      "31 NUM NUM STOP\n",
      "de NN NN LEY-ANNO\n",
      "1992 YEAR YEAR O\n",
      "\n"
     ]
    }
   ],
   "source": [
    "labels_lines=''\n",
    "for token,pos,label in zip(tokens,pos_labels,entity_labels):\n",
    "    labels_lines+=\"{} {} {} {}\\n\".format(token, pos, pos, label)\n",
    "print(labels_lines)"
   ]
  },
  {
   "cell_type": "code",
   "execution_count": 223,
   "id": "parliamentary-vitamin",
   "metadata": {},
   "outputs": [
    {
     "name": "stdout",
     "output_type": "stream",
     "text": [
      "[('articulo', '86 de la c'), ('Articulo', '12,23, 23,23')]\n",
      "<re.Match object; span=(8, 28), match='articulo 86 de la c.'>\n"
     ]
    }
   ],
   "source": [
    "addrtext = '[15] el articulo 86 de la c. p. reza lo siguiente: toda persona tendra accion de Articulo 12,23, 23,23. tutela para reclamar ante los jueces,'    \n",
    "newtext = addrtext  \n",
    "ippat = re.compile(r'(articulo|articulos)[ ]([\\s\\S]*?)\\.', flags=re.I | re.X)  \n",
    "mtch = ippat.search(newtext) \n",
    "print(ippat.findall(newtext))\n",
    "print(mtch)\n",
    "\n"
   ]
  },
  {
   "cell_type": "code",
   "execution_count": 224,
   "id": "sexual-shoot",
   "metadata": {},
   "outputs": [
    {
     "name": "stdout",
     "output_type": "stream",
     "text": [
      "[('articulo', '86 de la c')]\n"
     ]
    }
   ],
   "source": [
    "import re\n",
    "line = \"[15] el articulo 86 de la c. p. reza lo siguiente: toda persona tendra accion de Articulo 12,23, 23,23. tutela para reclamar ante los jueces,\"\n",
    "matches = re.findall('(articulo|articulos)[ ]([\\s\\S]*?)\\.', line)\n",
    "print(matches)"
   ]
  },
  {
   "cell_type": "code",
   "execution_count": 345,
   "id": "prerequisite-freedom",
   "metadata": {},
   "outputs": [
    {
     "name": "stdout",
     "output_type": "stream",
     "text": [
      "[('articulo', '86 de la c'), ('articulo', '12,23, 23,23')]\n"
     ]
    }
   ],
   "source": [
    "import re\n",
    "s = \"[15] el articulo 86 de la c. p. reza lo siguiente: toda persona tendra accion de articulo 12,23, 23,23. tutela para reclamar ante los jueces,.\"\n",
    "r = re.compile(r'(articulo|articulos)[ ]([\\s\\S]*?)\\.')\n",
    "print(r.findall(s))"
   ]
  },
  {
   "cell_type": "code",
   "execution_count": null,
   "id": "monetary-brazilian",
   "metadata": {},
   "outputs": [],
   "source": []
  },
  {
   "cell_type": "code",
   "execution_count": null,
   "id": "guided-default",
   "metadata": {},
   "outputs": [],
   "source": []
  }
 ],
 "metadata": {
  "kernelspec": {
   "display_name": "Python 3",
   "language": "python",
   "name": "python3"
  },
  "language_info": {
   "codemirror_mode": {
    "name": "ipython",
    "version": 3
   },
   "file_extension": ".py",
   "mimetype": "text/x-python",
   "name": "python",
   "nbconvert_exporter": "python",
   "pygments_lexer": "ipython3",
   "version": "3.7.10"
  }
 },
 "nbformat": 4,
 "nbformat_minor": 5
}
